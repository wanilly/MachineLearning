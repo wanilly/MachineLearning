{
  "nbformat": 4,
  "nbformat_minor": 0,
  "metadata": {
    "colab": {
      "name": "Mnist-MLP.ipynb",
      "provenance": [],
      "toc_visible": true
    },
    "kernelspec": {
      "name": "python3",
      "display_name": "Python 3"
    },
    "language_info": {
      "name": "python"
    }
  },
  "cells": [
    {
      "cell_type": "code",
      "metadata": {
        "colab": {
          "base_uri": "https://localhost:8080/"
        },
        "id": "7-fOUgwIRpjo",
        "outputId": "e240b3f6-82e9-4bb2-89d1-ac21c96e4785"
      },
      "source": [
        "\n",
        "# google drive. so we have to monunt\n",
        "from google.colab import drive # /content/drive/MyDrive/project/MachineLearning/dataset/mnist.pkl\n",
        "drive.mount('/content/drive')"
      ],
      "execution_count": 1,
      "outputs": [
        {
          "output_type": "stream",
          "name": "stdout",
          "text": [
            "Mounted at /content/drive\n"
          ]
        }
      ]
    },
    {
      "cell_type": "code",
      "metadata": {
        "id": "4RF3XYPIRsaU"
      },
      "source": [
        "import six.moves.cPickle as pickle\n",
        "import gzip\n",
        "import os\n",
        "import numpy as np\n",
        "from PIL import Image\n",
        "import matplotlib.pyplot as plt\n",
        "import matplotlib.cm as cm\n",
        "import random\n",
        "import seaborn as sns"
      ],
      "execution_count": 2,
      "outputs": []
    },
    {
      "cell_type": "code",
      "metadata": {
        "id": "UrJbgJnZRuwM"
      },
      "source": [
        "def load_data(dataset): # data load : HDLMS source code utilize\n",
        "    data_dir, data_file = os.path.split(dataset)\n",
        "    if data_dir == \"\" and not os.path.isfile(dataset):\n",
        "        # Check if dataset is in the data directory.\n",
        "        new_path = os.path.join(\n",
        "            os.path.split('/content/drive/MyDrive/project/MachineLearning/dataset/')[0],\n",
        "            dataset\n",
        "        )\n",
        "        if os.path.isfile(new_path) or data_file == 'mnist.pkl.gz':\n",
        "            dataset = new_path\n",
        "\n",
        "    if (not os.path.isfile(dataset)) and data_file == 'mnist.pkl.gz':\n",
        "        from six.moves import urllib\n",
        "        origin = (\n",
        "            'http://www.iro.umontreal.ca/~lisa/deep/data/mnist/mnist.pkl.gz'\n",
        "        )\n",
        "        print('Downloading data from %s' % origin)\n",
        "        urllib.request.urlretrieve(origin, dataset)\n",
        "\n",
        "    print('... loading data')\n",
        "\n",
        "    # Load the dataset\n",
        "    with gzip.open(dataset, 'rb') as f:\n",
        "        try:\n",
        "            train_set, valid_set, test_set = pickle.load(f, encoding='latin1')\n",
        "        except:\n",
        "            train_set, valid_set, test_set = pickle.load(f)\n",
        "    # train_set, valid_set, test_set format: tuple(input, target)\n",
        "    # input is a numpy.ndarray of 2 dimensions (a matrix)\n",
        "    # where each row corresponds to an example. target is a\n",
        "    # numpy.ndarray of 1 dimension (vector) that has the same length as\n",
        "    # the number of rows in the input. It should give the target\n",
        "    # to the example with the same index in the input.\n",
        "\n",
        "    return train_set, valid_set, test_set"
      ],
      "execution_count": 3,
      "outputs": []
    },
    {
      "cell_type": "code",
      "metadata": {
        "colab": {
          "base_uri": "https://localhost:8080/"
        },
        "id": "4EfIl-w9Ruyj",
        "outputId": "12c494dd-57a1-4464-82c8-924095c8766a"
      },
      "source": [
        "if __name__ == '__main__':\n",
        "    train_set, val_set, test_set = load_data('mnist.pkl.gz')\n",
        "\n",
        "    train_x, train_y = train_set\n",
        "    val_x, val_y = val_set\n",
        "    test_x, test_y = test_set\n",
        "    \n",
        "    print(train_x.shape)\n",
        "    print(train_y.shape)"
      ],
      "execution_count": 4,
      "outputs": [
        {
          "output_type": "stream",
          "name": "stdout",
          "text": [
            "... loading data\n",
            "(50000, 784)\n",
            "(50000,)\n"
          ]
        }
      ]
    },
    {
      "cell_type": "code",
      "metadata": {
        "colab": {
          "base_uri": "https://localhost:8080/"
        },
        "id": "lmzxvQdCopzM",
        "outputId": "204775a2-d1d4-4c10-bff3-600fc59b1897"
      },
      "source": [
        "print(val_x.shape)\n",
        "print(val_y.shape)"
      ],
      "execution_count": 5,
      "outputs": [
        {
          "output_type": "stream",
          "name": "stdout",
          "text": [
            "(10000, 784)\n",
            "(10000,)\n"
          ]
        }
      ]
    },
    {
      "cell_type": "code",
      "metadata": {
        "id": "GSkhQYtAHep1"
      },
      "source": [
        "eta=0.01\n",
        "alpha=0.001\n",
        "n_iter= 50 # epoch test...\n",
        "batch_size= 50 # batch size"
      ],
      "execution_count": 6,
      "outputs": []
    },
    {
      "cell_type": "code",
      "metadata": {
        "id": "enPBy4u0HqZV"
      },
      "source": [
        "class MLP(object):\n",
        "    def __init__(self, eta=eta, alpha=alpha, n_iter=n_iter, batch_size=batch_size):\n",
        "        self.eta = eta\n",
        "        self.alpha = alpha\n",
        "        self.n_iter = n_iter\n",
        "        self.batch_size = batch_size\n",
        "\n",
        "    def one_hot_enc(self, y, num_labels=10):\n",
        "        one_hot = np.zeros((num_labels, y.shape[0]), dtype=np.float32)\n",
        "    \n",
        "        for i, val in enumerate(y):\n",
        "            one_hot[val,i] = 1.0\n",
        "    \n",
        "        return one_hot\n",
        "\n",
        "    def init_weights(self, n_input, n_hidden_1, n_hidden_2, n_output, batch_size):\n",
        "        w1 = np.random.randn(n_hidden_1, n_input+1)\n",
        "        w2 = np.random.randn(n_hidden_2, n_hidden_1+1)\n",
        "        w3 = np.random.randn(n_output, n_hidden_2+1)\n",
        "        \n",
        "        return w1, w2, w3\n",
        "\n",
        "\n",
        "    def add_bias_unit(self, layer, orientation):\n",
        "        if orientation == 'row':\n",
        "            updated_layer = np.ones((layer.shape[0]+1, layer.shape[1]))\n",
        "            updated_layer[1:, :] = layer\n",
        "        elif orientation == 'col':\n",
        "            updated_layer = np.ones((layer.shape[0], layer.shape[1] + 1))\n",
        "            updated_layer[:, 1:] = layer\n",
        "    \n",
        "        return updated_layer\n",
        "\n",
        "\n",
        "    def compute_forward_pass(self, input):\n",
        "        a1 = self.add_bias_unit(input, orientation='col')\n",
        "    \n",
        "        z2 = np.matmul(self.w1, a1.transpose(1, 0))\n",
        "        a2 = 1/(1 + np.exp(-z2))\n",
        "        a2 = self.add_bias_unit(a2, orientation='row')\n",
        "    \n",
        "        z3 = np.matmul(self.w2, a2)\n",
        "        a3 = 1/(1 + np.exp(-z3))\n",
        "        a3 = self.add_bias_unit(a3, orientation='row')\n",
        "    \n",
        "        z4 = np.matmul(self.w3, a3)\n",
        "        a4 = 1/(1 + np.exp(-z4))\n",
        "    \n",
        "        return a1, z2, a2, z3, a3, z4, a4\n",
        "\n",
        "\n",
        "    def predict(self, a4):\n",
        "        prediction = np.argmax(a4, axis=0)\n",
        "        return prediction\n",
        "\n",
        "    def compute_loss(self, prediction, label):\n",
        "        term_1 = -1*label * np.log(prediction)\n",
        "        term_2 = (1-label)*(np.log(1-prediction))\n",
        "    \n",
        "        loss = np.sum(term_1 - term_2)\n",
        "        return loss\n",
        "\n",
        "\n",
        "    def compute_backward_pass(self, outputs, label):\n",
        "        a1, z2, a2, z3, a3, z4, a4 = outputs\n",
        "    \n",
        "        delta_4 = a4 - label\n",
        "        sig_z3 = np.array(1/(1 + np.exp(-z3)))\n",
        "        delta_3 = np.matmul(self.w3[:,1:].transpose(),delta_4)*sig_z3*(1-sig_z3)\n",
        "               \n",
        "        sig_z2 = np.array(1/(1 + np.exp(-z2)))\n",
        "        delta_2 = np.matmul(self.w2[:,1:], delta_3)*(sig_z2)*(1-(sig_z2))\n",
        "    \n",
        "        grad_w1 = np.matmul(delta_2, a1)\n",
        "        grad_w2 = np.matmul(delta_3, a2.transpose())\n",
        "        grad_w3 = np.matmul(delta_4, a3.transpose())\n",
        "    \n",
        "        return grad_w1, grad_w2, grad_w3\n",
        "            \n",
        "    def norm(self, X, x_min, x_max):\n",
        "        nom = (X-X.min(axis=0))*(x_max-x_min)\n",
        "        denom = X.max(axis=0) - X.min(axis=0)\n",
        "        denom[denom==0] = 1\n",
        "        return x_min + nom/denom \n",
        "\n",
        "\n",
        "    def prep_data(self, X, y):\n",
        "        X_ = []\n",
        "        y_ = []\n",
        "        \n",
        "        itr = int(len(y)/self.batch_size)+1\n",
        "        for j in range(1,itr):\n",
        "            rng = j*self.batch_size\n",
        "            X_.append(X[rng-self.batch_size:rng, :])\n",
        "            y_.append(y[rng-self.batch_size:rng])\n",
        "        \n",
        "        X, y = np.array(X_), np.array(y_)\n",
        "        X = self.norm(X, 0, 1)\n",
        "        \n",
        "        return X, y\n",
        "\n",
        "\n",
        "    def fit(self, X, y):\n",
        "        n_input = len(X[0,0,:]) #returns the flattened image size (28*28 = 784)\n",
        "    \n",
        "        n_hidden_1, n_hidden_2, n_output = 100, 100, 10\n",
        "        self.w1, self.w2, self.w3 = self.init_weights(n_input, n_hidden_1, n_hidden_2,\n",
        "                                    n_output, self.batch_size)\n",
        "\n",
        "        delta_w1_prev = np.zeros(self.w1.shape)\n",
        "        delta_w2_prev = np.zeros(self.w2.shape)\n",
        "        delta_w3_prev = np.zeros(self.w3.shape)\n",
        "        \n",
        "        train_losses = []\n",
        "        train_acc = []\n",
        "    \n",
        "        for i in range(self.n_iter):\n",
        "            for j, (input, label) in enumerate(zip(X, y)):\n",
        "                one_hot_label = self.one_hot_enc(label, num_labels=10)\n",
        "                \n",
        "                a1, z2, a2, z3, a3, z4, a4 = self.compute_forward_pass(input)\n",
        "                loss = self.compute_loss(a4, one_hot_label)\n",
        "                grad1, grad2, grad3 = self.compute_backward_pass([a1, z2, a2, z3, a3, z4, a4],\n",
        "                                                one_hot_label)\n",
        "    \n",
        "                delta_w1, delta_w2, delta_w3 = self.eta*grad1, self.eta*grad2, self.eta*grad3\n",
        "    \n",
        "                self.w1 -= delta_w1 + delta_w1_prev*self.alpha\n",
        "                self.w2 -= delta_w2 + delta_w2_prev*self.alpha\n",
        "                self.w3 -= delta_w3 + delta_w3_prev*self.alpha\n",
        "    \n",
        "                delta_w1_prev, delta_w2_prev, delta_w3_prev = delta_w1, delta_w2, delta_w3\n",
        "    \n",
        "                train_losses.append(loss)\n",
        "                predictions = self.predict(a4)\n",
        "    \n",
        "                wrong = np.where(predictions != label,\n",
        "                                np.matrix([1.]), np.matrix([0.]))\n",
        "    \n",
        "                accuracy = 1 - np.sum(wrong)/self.batch_size\n",
        "    \n",
        "                train_acc.append(accuracy)\n",
        "    \n",
        "            print('epoch ', i, 'training accuracy %.2f' %\n",
        "                    np.mean(np.matrix(train_acc)).item())\n",
        "\n",
        "\n",
        "        train_losses.sort()        \n",
        "        plt.plot(train_losses, \"gold\")\n",
        "        plt.title(\"MLP epoch 50, batch size 50 | loss\")\n",
        "        plt.show()"
      ],
      "execution_count": 7,
      "outputs": []
    },
    {
      "cell_type": "code",
      "metadata": {
        "colab": {
          "base_uri": "https://localhost:8080/",
          "height": 1000
        },
        "id": "ytEu9FBmP83p",
        "outputId": "6729e8e0-89fc-4df3-97a2-ed9b247a6209"
      },
      "source": [
        "if __name__ == '__main__':\n",
        "  print(\"n_iter: 50, learning rate 0.01, batch size 50\")\n",
        "  mlp = MLP()\n",
        "  # X_train, y_train, X_test, y_test = mnist.load()\n",
        "  train_x, train_y = mlp.prep_data(train_x, train_y)\n",
        "  mlp.fit(train_x, train_y)\n",
        "\n",
        "  # batch size is best 10"
      ],
      "execution_count": 8,
      "outputs": [
        {
          "output_type": "stream",
          "name": "stdout",
          "text": [
            "n_iter: 50, learning rate 0.01, batch size 50\n",
            "epoch  0 training accuracy 0.72\n",
            "epoch  1 training accuracy 0.79\n",
            "epoch  2 training accuracy 0.83\n",
            "epoch  3 training accuracy 0.85\n",
            "epoch  4 training accuracy 0.86\n",
            "epoch  5 training accuracy 0.87\n",
            "epoch  6 training accuracy 0.88\n",
            "epoch  7 training accuracy 0.89\n",
            "epoch  8 training accuracy 0.90\n",
            "epoch  9 training accuracy 0.90\n",
            "epoch  10 training accuracy 0.91\n",
            "epoch  11 training accuracy 0.91\n",
            "epoch  12 training accuracy 0.91\n",
            "epoch  13 training accuracy 0.92\n",
            "epoch  14 training accuracy 0.92\n",
            "epoch  15 training accuracy 0.92\n",
            "epoch  16 training accuracy 0.93\n",
            "epoch  17 training accuracy 0.93\n",
            "epoch  18 training accuracy 0.93\n",
            "epoch  19 training accuracy 0.93\n",
            "epoch  20 training accuracy 0.94\n",
            "epoch  21 training accuracy 0.94\n",
            "epoch  22 training accuracy 0.94\n",
            "epoch  23 training accuracy 0.94\n",
            "epoch  24 training accuracy 0.94\n",
            "epoch  25 training accuracy 0.94\n",
            "epoch  26 training accuracy 0.95\n",
            "epoch  27 training accuracy 0.95\n",
            "epoch  28 training accuracy 0.95\n",
            "epoch  29 training accuracy 0.95\n",
            "epoch  30 training accuracy 0.95\n",
            "epoch  31 training accuracy 0.95\n",
            "epoch  32 training accuracy 0.95\n",
            "epoch  33 training accuracy 0.95\n",
            "epoch  34 training accuracy 0.95\n",
            "epoch  35 training accuracy 0.96\n",
            "epoch  36 training accuracy 0.96\n",
            "epoch  37 training accuracy 0.96\n",
            "epoch  38 training accuracy 0.96\n",
            "epoch  39 training accuracy 0.96\n",
            "epoch  40 training accuracy 0.96\n",
            "epoch  41 training accuracy 0.96\n",
            "epoch  42 training accuracy 0.96\n",
            "epoch  43 training accuracy 0.96\n",
            "epoch  44 training accuracy 0.96\n",
            "epoch  45 training accuracy 0.96\n",
            "epoch  46 training accuracy 0.96\n",
            "epoch  47 training accuracy 0.96\n",
            "epoch  48 training accuracy 0.97\n",
            "epoch  49 training accuracy 0.97\n"
          ]
        },
        {
          "output_type": "display_data",
          "data": {
            "image/png": "[encoded data removed]",
            "text/plain": [
              "<Figure size 432x288 with 1 Axes>"
            ]
          },
          "metadata": {
            "needs_background": "light"
          }
        }
      ]
    },
    {
      "cell_type": "code",
      "metadata": {
        "id": "lZRHcMz5op3h"
      },
      "source": [
        "eta=0.01\n",
        "alpha=0.001\n",
        "n_iter= 50 # epoch test...\n",
        "batch_size= 100 # batch size"
      ],
      "execution_count": 21,
      "outputs": []
    },
    {
      "cell_type": "code",
      "metadata": {
        "id": "DlHysXBSop-9"
      },
      "source": [
        "class MLP(object):\n",
        "    def __init__(self, eta=eta, alpha=alpha, n_iter=n_iter, batch_size=batch_size):\n",
        "        self.eta = eta\n",
        "        self.alpha = alpha\n",
        "        self.n_iter = n_iter\n",
        "        self.batch_size = batch_size\n",
        "\n",
        "    def one_hot_enc(self, y, num_labels=10):\n",
        "        one_hot = np.zeros((num_labels, y.shape[0]), dtype=np.float32)\n",
        "    \n",
        "        for i, val in enumerate(y):\n",
        "            one_hot[val,i] = 1.0\n",
        "    \n",
        "        return one_hot\n",
        "\n",
        "    def init_weights(self, n_input, n_hidden_1, n_hidden_2, n_output, batch_size):\n",
        "        w1 = np.random.randn(n_hidden_1, n_input+1)\n",
        "        w2 = np.random.randn(n_hidden_2, n_hidden_1+1)\n",
        "        w3 = np.random.randn(n_output, n_hidden_2+1)\n",
        "        \n",
        "        return w1, w2, w3\n",
        "\n",
        "\n",
        "    def add_bias_unit(self, layer, orientation):\n",
        "        if orientation == 'row':\n",
        "            updated_layer = np.ones((layer.shape[0]+1, layer.shape[1]))\n",
        "            updated_layer[1:, :] = layer\n",
        "        elif orientation == 'col':\n",
        "            updated_layer = np.ones((layer.shape[0], layer.shape[1] + 1))\n",
        "            updated_layer[:, 1:] = layer\n",
        "    \n",
        "        return updated_layer\n",
        "\n",
        "\n",
        "    def compute_forward_pass(self, input):\n",
        "        a1 = self.add_bias_unit(input, orientation='col')\n",
        "    \n",
        "        z2 = np.matmul(self.w1, a1.transpose(1, 0))\n",
        "        a2 = 1/(1 + np.exp(-z2))\n",
        "        a2 = self.add_bias_unit(a2, orientation='row')\n",
        "    \n",
        "        z3 = np.matmul(self.w2, a2)\n",
        "        a3 = 1/(1 + np.exp(-z3))\n",
        "        a3 = self.add_bias_unit(a3, orientation='row')\n",
        "    \n",
        "        z4 = np.matmul(self.w3, a3)\n",
        "        a4 = 1/(1 + np.exp(-z4))\n",
        "    \n",
        "        return a1, z2, a2, z3, a3, z4, a4\n",
        "\n",
        "\n",
        "    def predict(self, a4):\n",
        "        prediction = np.argmax(a4, axis=0)\n",
        "        return prediction\n",
        "\n",
        "    def compute_loss(self, prediction, label):\n",
        "        term_1 = -1*label * np.log(prediction)\n",
        "        term_2 = (1-label)*(np.log(1-prediction))\n",
        "    \n",
        "        loss = np.sum(term_1 - term_2)\n",
        "        return loss\n",
        "\n",
        "\n",
        "    def compute_backward_pass(self, outputs, label):\n",
        "        a1, z2, a2, z3, a3, z4, a4 = outputs\n",
        "    \n",
        "        delta_4 = a4 - label\n",
        "        sig_z3 = np.array(1/(1 + np.exp(-z3)))\n",
        "        delta_3 = np.matmul(self.w3[:,1:].transpose(),delta_4)*sig_z3*(1-sig_z3)\n",
        "               \n",
        "        sig_z2 = np.array(1/(1 + np.exp(-z2)))\n",
        "        delta_2 = np.matmul(self.w2[:,1:], delta_3)*(sig_z2)*(1-(sig_z2))\n",
        "    \n",
        "        grad_w1 = np.matmul(delta_2, a1)\n",
        "        grad_w2 = np.matmul(delta_3, a2.transpose())\n",
        "        grad_w3 = np.matmul(delta_4, a3.transpose())\n",
        "    \n",
        "        return grad_w1, grad_w2, grad_w3\n",
        "            \n",
        "    def norm(self, X, x_min, x_max):\n",
        "        nom = (X-X.min(axis=0))*(x_max-x_min)\n",
        "        denom = X.max(axis=0) - X.min(axis=0)\n",
        "        denom[denom==0] = 1\n",
        "        return x_min + nom/denom \n",
        "\n",
        "\n",
        "    def prep_data(self, X, y):\n",
        "        X_ = []\n",
        "        y_ = []\n",
        "        \n",
        "        itr = int(len(y)/self.batch_size)+1\n",
        "        for j in range(1,itr):\n",
        "            rng = j*self.batch_size\n",
        "            X_.append(X[rng-self.batch_size:rng, :])\n",
        "            y_.append(y[rng-self.batch_size:rng])\n",
        "        \n",
        "        X, y = np.array(X_), np.array(y_)\n",
        "        X = self.norm(X, 0, 1)\n",
        "        \n",
        "        return X, y\n",
        "\n",
        "\n",
        "    def fit(self, X, y):\n",
        "        n_input = len(X[0,0,:]) #returns the flattened image size (28*28 = 784)\n",
        "    \n",
        "        n_hidden_1, n_hidden_2, n_output = 100, 100, 10\n",
        "        self.w1, self.w2, self.w3 = self.init_weights(n_input, n_hidden_1, n_hidden_2,\n",
        "                                    n_output, self.batch_size)\n",
        "\n",
        "        delta_w1_prev = np.zeros(self.w1.shape)\n",
        "        delta_w2_prev = np.zeros(self.w2.shape)\n",
        "        delta_w3_prev = np.zeros(self.w3.shape)\n",
        "        \n",
        "        train_losses = []\n",
        "        train_acc = []\n",
        "    \n",
        "        train_losses.sort()\n",
        "        for i in range(self.n_iter):\n",
        "            for j, (input, label) in enumerate(zip(X, y)):\n",
        "                one_hot_label = self.one_hot_enc(label, num_labels=10)\n",
        "                \n",
        "                a1, z2, a2, z3, a3, z4, a4 = self.compute_forward_pass(input)\n",
        "                loss = self.compute_loss(a4, one_hot_label)\n",
        "                grad1, grad2, grad3 = self.compute_backward_pass([a1, z2, a2, z3, a3, z4, a4],\n",
        "                                                one_hot_label)\n",
        "    \n",
        "                delta_w1, delta_w2, delta_w3 = self.eta*grad1, self.eta*grad2, self.eta*grad3\n",
        "    \n",
        "                self.w1 -= delta_w1 + delta_w1_prev*self.alpha\n",
        "                self.w2 -= delta_w2 + delta_w2_prev*self.alpha\n",
        "                self.w3 -= delta_w3 + delta_w3_prev*self.alpha\n",
        "    \n",
        "                delta_w1_prev, delta_w2_prev, delta_w3_prev = delta_w1, delta_w2, delta_w3\n",
        "    \n",
        "                train_losses.append(loss)\n",
        "                predictions = self.predict(a4)\n",
        "    \n",
        "                wrong = np.where(predictions != label,\n",
        "                                np.matrix([1.]), np.matrix([0.]))\n",
        "    \n",
        "                accuracy = 1 - np.sum(wrong)/self.batch_size\n",
        "    \n",
        "                train_acc.append(accuracy)\n",
        "    \n",
        "            print('epoch ', i, 'training accuracy %.2f' %\n",
        "                    np.mean(np.matrix(train_acc)).item())\n",
        "\n",
        "\n",
        "        train_losses.sort()        \n",
        "        plt.plot(train_losses, \"deeppink\")\n",
        "        plt.title(\"MLP epoch 50, batch size 100 | loss\")\n",
        "        plt.show()"
      ],
      "execution_count": 22,
      "outputs": []
    },
    {
      "cell_type": "code",
      "metadata": {
        "colab": {
          "base_uri": "https://localhost:8080/",
          "height": 1000
        },
        "id": "1nO94Xx4op8U",
        "outputId": "c2272a2e-5eb8-4f5f-ecde-6f3813bff921"
      },
      "source": [
        "if __name__ == '__main__':\n",
        "  print(\"n_iter: 50, learning rate 0.01, batch size 100\")\n",
        "  mlp = MLP()\n",
        "  # X_train, y_train, X_test, y_test = mnist.load()\n",
        "  train_x, train_y = mlp.prep_data(train_x, train_y)\n",
        "  mlp.fit(train_x, train_y)\n",
        "\n",
        "  # batch size is best 50"
      ],
      "execution_count": 23,
      "outputs": [
        {
          "output_type": "stream",
          "name": "stdout",
          "text": [
            "n_iter: 50, learning rate 0.01, batch size 100\n",
            "epoch  0 training accuracy 0.72\n",
            "epoch  1 training accuracy 0.80\n",
            "epoch  2 training accuracy 0.83\n",
            "epoch  3 training accuracy 0.85\n",
            "epoch  4 training accuracy 0.86\n",
            "epoch  5 training accuracy 0.87\n",
            "epoch  6 training accuracy 0.88\n",
            "epoch  7 training accuracy 0.89\n",
            "epoch  8 training accuracy 0.90\n",
            "epoch  9 training accuracy 0.90\n",
            "epoch  10 training accuracy 0.91\n",
            "epoch  11 training accuracy 0.91\n",
            "epoch  12 training accuracy 0.91\n",
            "epoch  13 training accuracy 0.92\n",
            "epoch  14 training accuracy 0.92\n",
            "epoch  15 training accuracy 0.92\n",
            "epoch  16 training accuracy 0.92\n",
            "epoch  17 training accuracy 0.93\n",
            "epoch  18 training accuracy 0.93\n",
            "epoch  19 training accuracy 0.93\n",
            "epoch  20 training accuracy 0.93\n",
            "epoch  21 training accuracy 0.94\n",
            "epoch  22 training accuracy 0.94\n",
            "epoch  23 training accuracy 0.94\n",
            "epoch  24 training accuracy 0.94\n",
            "epoch  25 training accuracy 0.94\n",
            "epoch  26 training accuracy 0.94\n",
            "epoch  27 training accuracy 0.94\n",
            "epoch  28 training accuracy 0.95\n",
            "epoch  29 training accuracy 0.95\n",
            "epoch  30 training accuracy 0.95\n",
            "epoch  31 training accuracy 0.95\n",
            "epoch  32 training accuracy 0.95\n",
            "epoch  33 training accuracy 0.95\n",
            "epoch  34 training accuracy 0.95\n",
            "epoch  35 training accuracy 0.95\n",
            "epoch  36 training accuracy 0.95\n",
            "epoch  37 training accuracy 0.95\n",
            "epoch  38 training accuracy 0.96\n",
            "epoch  39 training accuracy 0.96\n",
            "epoch  40 training accuracy 0.96\n",
            "epoch  41 training accuracy 0.96\n",
            "epoch  42 training accuracy 0.96\n",
            "epoch  43 training accuracy 0.96\n",
            "epoch  44 training accuracy 0.96\n",
            "epoch  45 training accuracy 0.96\n",
            "epoch  46 training accuracy 0.96\n",
            "epoch  47 training accuracy 0.96\n",
            "epoch  48 training accuracy 0.96\n",
            "epoch  49 training accuracy 0.96\n"
          ]
        },
        {
          "output_type": "display_data",
          "data": {
            "image/png": "[encoded data removed]",
            "text/plain": [
              "<Figure size 432x288 with 1 Axes>"
            ]
          },
          "metadata": {
            "needs_background": "light"
          }
        }
      ]
    },
    {
      "cell_type": "code",
      "metadata": {
        "id": "9wn2z7Jgqh40"
      },
      "source": [
        "eta=0.01\n",
        "alpha=0.001\n",
        "n_iter= 50 # epoch test...\n",
        "batch_size= 10 # bach size"
      ],
      "execution_count": 40,
      "outputs": []
    },
    {
      "cell_type": "code",
      "metadata": {
        "colab": {
          "base_uri": "https://localhost:8080/"
        },
        "id": "Uu97ZrGTJmn_",
        "outputId": "90c6d827-491d-4116-863e-47cccd8b5457"
      },
      "source": [
        "if __name__ == '__main__':\n",
        "    train_set, val_set, test_set = load_data('mnist.pkl.gz')\n",
        "\n",
        "    train_x, train_y = train_set\n",
        "    val_x, val_y = val_set\n",
        "    test_x, test_y = test_set\n",
        "    \n",
        "    print(train_x.shape)\n",
        "    print(train_y.shape)"
      ],
      "execution_count": 41,
      "outputs": [
        {
          "output_type": "stream",
          "name": "stdout",
          "text": [
            "... loading data\n",
            "(50000, 784)\n",
            "(50000,)\n"
          ]
        }
      ]
    },
    {
      "cell_type": "code",
      "metadata": {
        "id": "gM2tYuz-Jm0y"
      },
      "source": [
        "class MLP(object):\n",
        "    def __init__(self, eta=eta, alpha=alpha, n_iter=n_iter, batch_size=batch_size):\n",
        "        self.eta = eta\n",
        "        self.alpha = alpha\n",
        "        self.n_iter = n_iter\n",
        "        self.batch_size = batch_size\n",
        "\n",
        "    def one_hot_enc(self, y, num_labels=10):\n",
        "        one_hot = np.zeros((num_labels, y.shape[0]), dtype=np.float32)\n",
        "    \n",
        "        for i, val in enumerate(y):\n",
        "            one_hot[val,i] = 1.0\n",
        "    \n",
        "        return one_hot\n",
        "\n",
        "    def init_weights(self, n_input, n_hidden_1, n_hidden_2, n_output, batch_size):\n",
        "        w1 = np.random.randn(n_hidden_1, n_input+1)\n",
        "        w2 = np.random.randn(n_hidden_2, n_hidden_1+1)\n",
        "        w3 = np.random.randn(n_output, n_hidden_2+1)\n",
        "        \n",
        "        return w1, w2, w3\n",
        "\n",
        "\n",
        "    def add_bias_unit(self, layer, orientation):\n",
        "        if orientation == 'row':\n",
        "            updated_layer = np.ones((layer.shape[0]+1, layer.shape[1]))\n",
        "            updated_layer[1:, :] = layer\n",
        "        elif orientation == 'col':\n",
        "            updated_layer = np.ones((layer.shape[0], layer.shape[1] + 1))\n",
        "            updated_layer[:, 1:] = layer\n",
        "    \n",
        "        return updated_layer\n",
        "\n",
        "\n",
        "    def compute_forward_pass(self, input):\n",
        "        a1 = self.add_bias_unit(input, orientation='col')\n",
        "    \n",
        "        z2 = np.matmul(self.w1, a1.transpose(1, 0))\n",
        "        a2 = 1/(1 + np.exp(-z2))\n",
        "        a2 = self.add_bias_unit(a2, orientation='row')\n",
        "    \n",
        "        z3 = np.matmul(self.w2, a2)\n",
        "        a3 = 1/(1 + np.exp(-z3))\n",
        "        a3 = self.add_bias_unit(a3, orientation='row')\n",
        "    \n",
        "        z4 = np.matmul(self.w3, a3)\n",
        "        a4 = 1/(1 + np.exp(-z4))\n",
        "    \n",
        "        return a1, z2, a2, z3, a3, z4, a4\n",
        "\n",
        "\n",
        "    def predict(self, a4):\n",
        "        prediction = np.argmax(a4, axis=0)\n",
        "        return prediction\n",
        "\n",
        "    def compute_loss(self, prediction, label):\n",
        "        term_1 = -1*label * np.log(prediction)\n",
        "        term_2 = (1-label)*(np.log(1-prediction))\n",
        "    \n",
        "        loss = np.sum(term_1 - term_2)\n",
        "        return loss\n",
        "\n",
        "\n",
        "    def compute_backward_pass(self, outputs, label):\n",
        "        a1, z2, a2, z3, a3, z4, a4 = outputs\n",
        "    \n",
        "        delta_4 = a4 - label\n",
        "        sig_z3 = np.array(1/(1 + np.exp(-z3)))\n",
        "        delta_3 = np.matmul(self.w3[:,1:].transpose(),delta_4)*sig_z3*(1-sig_z3)\n",
        "               \n",
        "        sig_z2 = np.array(1/(1 + np.exp(-z2)))\n",
        "        delta_2 = np.matmul(self.w2[:,1:], delta_3)*(sig_z2)*(1-(sig_z2))\n",
        "    \n",
        "        grad_w1 = np.matmul(delta_2, a1)\n",
        "        grad_w2 = np.matmul(delta_3, a2.transpose())\n",
        "        grad_w3 = np.matmul(delta_4, a3.transpose())\n",
        "    \n",
        "        return grad_w1, grad_w2, grad_w3\n",
        "            \n",
        "    def norm(self, X, x_min, x_max):\n",
        "        nom = (X-X.min(axis=0))*(x_max-x_min)\n",
        "        denom = X.max(axis=0) - X.min(axis=0)\n",
        "        denom[denom==0] = 1\n",
        "        return x_min + nom/denom \n",
        "\n",
        "\n",
        "    def prep_data(self, X, y):\n",
        "        X_ = []\n",
        "        y_ = []\n",
        "        \n",
        "        itr = int(len(y)/self.batch_size)+1\n",
        "        for j in range(1,itr):\n",
        "            rng = j*self.batch_size\n",
        "            X_.append(X[rng-self.batch_size:rng, :])\n",
        "            y_.append(y[rng-self.batch_size:rng])\n",
        "        \n",
        "        X, y = np.array(X_), np.array(y_)\n",
        "        X = self.norm(X, 0, 1)\n",
        "        \n",
        "        return X, y\n",
        "\n",
        "\n",
        "    def fit(self, X, y):\n",
        "        n_input = len(X[0,0,:]) #returns the flattened image size (28*28 = 784)\n",
        "    \n",
        "        n_hidden_1, n_hidden_2, n_output = 100, 100, 10\n",
        "        self.w1, self.w2, self.w3 = self.init_weights(n_input, n_hidden_1, n_hidden_2,\n",
        "                                    n_output, self.batch_size)\n",
        "\n",
        "        delta_w1_prev = np.zeros(self.w1.shape)\n",
        "        delta_w2_prev = np.zeros(self.w2.shape)\n",
        "        delta_w3_prev = np.zeros(self.w3.shape)\n",
        "        \n",
        "        train_losses = []\n",
        "        train_acc = []\n",
        "    \n",
        "        train_losses.sort()\n",
        "        for i in range(self.n_iter):\n",
        "            for j, (input, label) in enumerate(zip(X, y)):\n",
        "                one_hot_label = self.one_hot_enc(label, num_labels=10)\n",
        "                \n",
        "                a1, z2, a2, z3, a3, z4, a4 = self.compute_forward_pass(input)\n",
        "                loss = self.compute_loss(a4, one_hot_label)\n",
        "                grad1, grad2, grad3 = self.compute_backward_pass([a1, z2, a2, z3, a3, z4, a4],\n",
        "                                                one_hot_label)\n",
        "    \n",
        "                delta_w1, delta_w2, delta_w3 = self.eta*grad1, self.eta*grad2, self.eta*grad3\n",
        "    \n",
        "                self.w1 -= delta_w1 + delta_w1_prev*self.alpha\n",
        "                self.w2 -= delta_w2 + delta_w2_prev*self.alpha\n",
        "                self.w3 -= delta_w3 + delta_w3_prev*self.alpha\n",
        "    \n",
        "                delta_w1_prev, delta_w2_prev, delta_w3_prev = delta_w1, delta_w2, delta_w3\n",
        "    \n",
        "                #train_losses.append(loss)\n",
        "                predictions = self.predict(a4)\n",
        "    \n",
        "                wrong = np.where(predictions != label,\n",
        "                                np.matrix([1.]), np.matrix([0.]))\n",
        "    \n",
        "                accuracy = 1 - np.sum(wrong)/self.batch_size\n",
        "    \n",
        "                train_acc.append(accuracy)\n",
        "                train_losses.append(loss/len(X))\n",
        "            print('epoch ', i, 'training accuracy %.2f' %\n",
        "                    np.mean(np.matrix(train_acc)).item())\n",
        "\n",
        "\n",
        "        train_losses.sort()        \n",
        "        plt.plot(train_losses, \"greenyellow\")\n",
        "        plt.title(\"MLP epoch 50, batch size 10 | loss\")\n",
        "        plt.show()"
      ],
      "execution_count": 42,
      "outputs": []
    },
    {
      "cell_type": "code",
      "metadata": {
        "colab": {
          "base_uri": "https://localhost:8080/",
          "height": 1000
        },
        "id": "3vCc5C1y_8KP",
        "outputId": "6e767466-08a2-4b29-da39-fdca8199bc15"
      },
      "source": [
        "if __name__ == '__main__':\n",
        "  print(\"n_iter: 50\")\n",
        "  mlp = MLP()\n",
        "  # X_train, y_train, X_test, y_test = mnist.load()\n",
        "  train_x, train_y = mlp.prep_data(train_x, train_y)\n",
        "  mlp.fit(train_x, train_y)"
      ],
      "execution_count": 43,
      "outputs": [
        {
          "output_type": "stream",
          "name": "stdout",
          "text": [
            "n_iter: 50\n",
            "epoch  0 training accuracy 0.75\n",
            "epoch  1 training accuracy 0.81\n",
            "epoch  2 training accuracy 0.84\n",
            "epoch  3 training accuracy 0.86\n",
            "epoch  4 training accuracy 0.87\n",
            "epoch  5 training accuracy 0.88\n",
            "epoch  6 training accuracy 0.89\n",
            "epoch  7 training accuracy 0.90\n",
            "epoch  8 training accuracy 0.90\n",
            "epoch  9 training accuracy 0.91\n",
            "epoch  10 training accuracy 0.91\n",
            "epoch  11 training accuracy 0.92\n",
            "epoch  12 training accuracy 0.92\n",
            "epoch  13 training accuracy 0.92\n",
            "epoch  14 training accuracy 0.92\n",
            "epoch  15 training accuracy 0.93\n",
            "epoch  16 training accuracy 0.93\n",
            "epoch  17 training accuracy 0.93\n",
            "epoch  18 training accuracy 0.93\n",
            "epoch  19 training accuracy 0.94\n",
            "epoch  20 training accuracy 0.94\n",
            "epoch  21 training accuracy 0.94\n",
            "epoch  22 training accuracy 0.94\n",
            "epoch  23 training accuracy 0.94\n",
            "epoch  24 training accuracy 0.94\n",
            "epoch  25 training accuracy 0.95\n",
            "epoch  26 training accuracy 0.95\n",
            "epoch  27 training accuracy 0.95\n",
            "epoch  28 training accuracy 0.95\n",
            "epoch  29 training accuracy 0.95\n",
            "epoch  30 training accuracy 0.95\n",
            "epoch  31 training accuracy 0.95\n",
            "epoch  32 training accuracy 0.95\n",
            "epoch  33 training accuracy 0.95\n",
            "epoch  34 training accuracy 0.96\n",
            "epoch  35 training accuracy 0.96\n",
            "epoch  36 training accuracy 0.96\n",
            "epoch  37 training accuracy 0.96\n",
            "epoch  38 training accuracy 0.96\n",
            "epoch  39 training accuracy 0.96\n",
            "epoch  40 training accuracy 0.96\n",
            "epoch  41 training accuracy 0.96\n",
            "epoch  42 training accuracy 0.96\n",
            "epoch  43 training accuracy 0.96\n",
            "epoch  44 training accuracy 0.96\n",
            "epoch  45 training accuracy 0.96\n",
            "epoch  46 training accuracy 0.96\n",
            "epoch  47 training accuracy 0.97\n",
            "epoch  48 training accuracy 0.97\n",
            "epoch  49 training accuracy 0.97\n"
          ]
        },
        {
          "output_type": "display_data",
          "data": {
            "image/png": "[encoded data removed]",
            "text/plain": [
              "<Figure size 432x288 with 1 Axes>"
            ]
          },
          "metadata": {
            "needs_background": "light"
          }
        }
      ]
    },
    {
      "cell_type": "code",
      "metadata": {
        "id": "bozBGTOkMNon"
      },
      "source": [
        "eta=0.01\n",
        "alpha=0.001\n",
        "n_iter= 100 # epoch 100\n",
        "batch_size= 10 # bach size"
      ],
      "execution_count": 44,
      "outputs": []
    },
    {
      "cell_type": "code",
      "metadata": {
        "colab": {
          "base_uri": "https://localhost:8080/"
        },
        "id": "S4qVuvUZMNrO",
        "outputId": "e97c1aea-8df2-4f91-8b49-92d367ce5fb3"
      },
      "source": [
        "if __name__ == '__main__':\n",
        "    train_set, val_set, test_set = load_data('mnist.pkl.gz')\n",
        "\n",
        "    train_x, train_y = train_set\n",
        "    val_x, val_y = val_set\n",
        "    test_x, test_y = test_set\n",
        "    \n",
        "    print(train_x.shape)\n",
        "    print(train_y.shape)"
      ],
      "execution_count": 45,
      "outputs": [
        {
          "output_type": "stream",
          "name": "stdout",
          "text": [
            "... loading data\n",
            "(50000, 784)\n",
            "(50000,)\n"
          ]
        }
      ]
    },
    {
      "cell_type": "code",
      "metadata": {
        "id": "XyjCzoLcMNst"
      },
      "source": [
        "class MLP(object):\n",
        "    def __init__(self, eta=eta, alpha=alpha, n_iter=n_iter, batch_size=batch_size):\n",
        "        self.eta = eta\n",
        "        self.alpha = alpha\n",
        "        self.n_iter = n_iter\n",
        "        self.batch_size = batch_size\n",
        "\n",
        "    def one_hot_enc(self, y, num_labels=10):\n",
        "        one_hot = np.zeros((num_labels, y.shape[0]), dtype=np.float32)\n",
        "    \n",
        "        for i, val in enumerate(y):\n",
        "            one_hot[val,i] = 1.0\n",
        "    \n",
        "        return one_hot\n",
        "\n",
        "    def init_weights(self, n_input, n_hidden_1, n_hidden_2, n_output, batch_size):\n",
        "        w1 = np.random.randn(n_hidden_1, n_input+1)\n",
        "        w2 = np.random.randn(n_hidden_2, n_hidden_1+1)\n",
        "        w3 = np.random.randn(n_output, n_hidden_2+1)\n",
        "        \n",
        "        return w1, w2, w3\n",
        "\n",
        "\n",
        "    def add_bias_unit(self, layer, orientation):\n",
        "        if orientation == 'row':\n",
        "            updated_layer = np.ones((layer.shape[0]+1, layer.shape[1]))\n",
        "            updated_layer[1:, :] = layer\n",
        "        elif orientation == 'col':\n",
        "            updated_layer = np.ones((layer.shape[0], layer.shape[1] + 1))\n",
        "            updated_layer[:, 1:] = layer\n",
        "    \n",
        "        return updated_layer\n",
        "\n",
        "\n",
        "    def compute_forward_pass(self, input):\n",
        "        a1 = self.add_bias_unit(input, orientation='col')\n",
        "    \n",
        "        z2 = np.matmul(self.w1, a1.transpose(1, 0))\n",
        "        a2 = 1/(1 + np.exp(-z2))\n",
        "        a2 = self.add_bias_unit(a2, orientation='row')\n",
        "    \n",
        "        z3 = np.matmul(self.w2, a2)\n",
        "        a3 = 1/(1 + np.exp(-z3))\n",
        "        a3 = self.add_bias_unit(a3, orientation='row')\n",
        "    \n",
        "        z4 = np.matmul(self.w3, a3)\n",
        "        a4 = 1/(1 + np.exp(-z4))\n",
        "    \n",
        "        return a1, z2, a2, z3, a3, z4, a4\n",
        "\n",
        "\n",
        "    def predict(self, a4):\n",
        "        prediction = np.argmax(a4, axis=0)\n",
        "        return prediction\n",
        "\n",
        "    def compute_loss(self, prediction, label):\n",
        "        term_1 = -1*label * np.log(prediction)\n",
        "        term_2 = (1-label)*(np.log(1-prediction))\n",
        "    \n",
        "        loss = np.sum(term_1 - term_2)\n",
        "        return loss\n",
        "\n",
        "\n",
        "    def compute_backward_pass(self, outputs, label):\n",
        "        a1, z2, a2, z3, a3, z4, a4 = outputs\n",
        "    \n",
        "        delta_4 = a4 - label\n",
        "        sig_z3 = np.array(1/(1 + np.exp(-z3)))\n",
        "        delta_3 = np.matmul(self.w3[:,1:].transpose(),delta_4)*sig_z3*(1-sig_z3)\n",
        "               \n",
        "        sig_z2 = np.array(1/(1 + np.exp(-z2)))\n",
        "        delta_2 = np.matmul(self.w2[:,1:], delta_3)*(sig_z2)*(1-(sig_z2))\n",
        "    \n",
        "        grad_w1 = np.matmul(delta_2, a1)\n",
        "        grad_w2 = np.matmul(delta_3, a2.transpose())\n",
        "        grad_w3 = np.matmul(delta_4, a3.transpose())\n",
        "    \n",
        "        return grad_w1, grad_w2, grad_w3\n",
        "            \n",
        "    def norm(self, X, x_min, x_max):\n",
        "        nom = (X-X.min(axis=0))*(x_max-x_min)\n",
        "        denom = X.max(axis=0) - X.min(axis=0)\n",
        "        denom[denom==0] = 1\n",
        "        return x_min + nom/denom \n",
        "\n",
        "\n",
        "    def prep_data(self, X, y):\n",
        "        X_ = []\n",
        "        y_ = []\n",
        "        \n",
        "        itr = int(len(y)/self.batch_size)+1\n",
        "        for j in range(1,itr):\n",
        "            rng = j*self.batch_size\n",
        "            X_.append(X[rng-self.batch_size:rng, :])\n",
        "            y_.append(y[rng-self.batch_size:rng])\n",
        "        \n",
        "        X, y = np.array(X_), np.array(y_)\n",
        "        X = self.norm(X, 0, 1)\n",
        "        \n",
        "        return X, y\n",
        "\n",
        "\n",
        "    def fit(self, X, y):\n",
        "        n_input = len(X[0,0,:]) #returns the flattened image size (28*28 = 784)\n",
        "    \n",
        "        n_hidden_1, n_hidden_2, n_output = 100, 100, 10\n",
        "        self.w1, self.w2, self.w3 = self.init_weights(n_input, n_hidden_1, n_hidden_2,\n",
        "                                    n_output, self.batch_size)\n",
        "\n",
        "        delta_w1_prev = np.zeros(self.w1.shape)\n",
        "        delta_w2_prev = np.zeros(self.w2.shape)\n",
        "        delta_w3_prev = np.zeros(self.w3.shape)\n",
        "        \n",
        "        train_losses = []\n",
        "        train_acc = []\n",
        "    \n",
        "        train_losses.sort()\n",
        "        for i in range(self.n_iter):\n",
        "            for j, (input, label) in enumerate(zip(X, y)):\n",
        "                one_hot_label = self.one_hot_enc(label, num_labels=10)\n",
        "                \n",
        "                a1, z2, a2, z3, a3, z4, a4 = self.compute_forward_pass(input)\n",
        "                loss = self.compute_loss(a4, one_hot_label)\n",
        "                grad1, grad2, grad3 = self.compute_backward_pass([a1, z2, a2, z3, a3, z4, a4],\n",
        "                                                one_hot_label)\n",
        "    \n",
        "                delta_w1, delta_w2, delta_w3 = self.eta*grad1, self.eta*grad2, self.eta*grad3\n",
        "    \n",
        "                self.w1 -= delta_w1 + delta_w1_prev*self.alpha\n",
        "                self.w2 -= delta_w2 + delta_w2_prev*self.alpha\n",
        "                self.w3 -= delta_w3 + delta_w3_prev*self.alpha\n",
        "    \n",
        "                delta_w1_prev, delta_w2_prev, delta_w3_prev = delta_w1, delta_w2, delta_w3\n",
        "    \n",
        "                #train_losses.append(loss)\n",
        "                predictions = self.predict(a4)\n",
        "    \n",
        "                wrong = np.where(predictions != label,\n",
        "                                np.matrix([1.]), np.matrix([0.]))\n",
        "    \n",
        "                accuracy = 1 - np.sum(wrong)/self.batch_size\n",
        "    \n",
        "                train_acc.append(accuracy)\n",
        "                train_losses.append(loss/len(X))\n",
        "            print('epoch ', i, 'training accuracy %.2f' %\n",
        "                    np.mean(np.matrix(train_acc)).item())\n",
        "\n",
        "\n",
        "        train_losses.sort()        \n",
        "        plt.plot(train_losses, \"darkviolet\")\n",
        "        plt.title(\"MLP epoch 100, batch size 10 | loss\")\n",
        "        plt.show()"
      ],
      "execution_count": 46,
      "outputs": []
    },
    {
      "cell_type": "code",
      "metadata": {
        "colab": {
          "base_uri": "https://localhost:8080/",
          "height": 1000
        },
        "id": "xgEzqLkgMb8-",
        "outputId": "7bf04d08-d571-4569-9d15-03122c931e4b"
      },
      "source": [
        "if __name__ == '__main__':\n",
        "  print(\"n_iter: 100, batch size 10, learning rate 0.01\")\n",
        "  mlp = MLP()\n",
        "  # X_train, y_train, X_test, y_test = mnist.load()\n",
        "  train_x, train_y = mlp.prep_data(train_x, train_y)\n",
        "  mlp.fit(train_x, train_y)"
      ],
      "execution_count": 47,
      "outputs": [
        {
          "output_type": "stream",
          "name": "stdout",
          "text": [
            "n_iter: 100, batch size 10, learning rate 0.01\n",
            "epoch  0 training accuracy 0.74\n",
            "epoch  1 training accuracy 0.80\n",
            "epoch  2 training accuracy 0.83\n",
            "epoch  3 training accuracy 0.85\n",
            "epoch  4 training accuracy 0.87\n",
            "epoch  5 training accuracy 0.88\n",
            "epoch  6 training accuracy 0.89\n",
            "epoch  7 training accuracy 0.89\n",
            "epoch  8 training accuracy 0.90\n",
            "epoch  9 training accuracy 0.91\n",
            "epoch  10 training accuracy 0.91\n",
            "epoch  11 training accuracy 0.91\n",
            "epoch  12 training accuracy 0.92\n",
            "epoch  13 training accuracy 0.92\n",
            "epoch  14 training accuracy 0.92\n",
            "epoch  15 training accuracy 0.93\n",
            "epoch  16 training accuracy 0.93\n",
            "epoch  17 training accuracy 0.93\n",
            "epoch  18 training accuracy 0.93\n",
            "epoch  19 training accuracy 0.93\n",
            "epoch  20 training accuracy 0.94\n",
            "epoch  21 training accuracy 0.94\n",
            "epoch  22 training accuracy 0.94\n",
            "epoch  23 training accuracy 0.94\n",
            "epoch  24 training accuracy 0.94\n",
            "epoch  25 training accuracy 0.94\n",
            "epoch  26 training accuracy 0.95\n",
            "epoch  27 training accuracy 0.95\n",
            "epoch  28 training accuracy 0.95\n",
            "epoch  29 training accuracy 0.95\n",
            "epoch  30 training accuracy 0.95\n",
            "epoch  31 training accuracy 0.95\n",
            "epoch  32 training accuracy 0.95\n",
            "epoch  33 training accuracy 0.95\n",
            "epoch  34 training accuracy 0.95\n",
            "epoch  35 training accuracy 0.96\n",
            "epoch  36 training accuracy 0.96\n",
            "epoch  37 training accuracy 0.96\n",
            "epoch  38 training accuracy 0.96\n",
            "epoch  39 training accuracy 0.96\n",
            "epoch  40 training accuracy 0.96\n",
            "epoch  41 training accuracy 0.96\n",
            "epoch  42 training accuracy 0.96\n",
            "epoch  43 training accuracy 0.96\n",
            "epoch  44 training accuracy 0.96\n",
            "epoch  45 training accuracy 0.96\n",
            "epoch  46 training accuracy 0.96\n",
            "epoch  47 training accuracy 0.96\n",
            "epoch  48 training accuracy 0.97\n",
            "epoch  49 training accuracy 0.97\n",
            "epoch  50 training accuracy 0.97\n",
            "epoch  51 training accuracy 0.97\n",
            "epoch  52 training accuracy 0.97\n",
            "epoch  53 training accuracy 0.97\n",
            "epoch  54 training accuracy 0.97\n",
            "epoch  55 training accuracy 0.97\n",
            "epoch  56 training accuracy 0.97\n",
            "epoch  57 training accuracy 0.97\n",
            "epoch  58 training accuracy 0.97\n",
            "epoch  59 training accuracy 0.97\n",
            "epoch  60 training accuracy 0.97\n",
            "epoch  61 training accuracy 0.97\n",
            "epoch  62 training accuracy 0.97\n",
            "epoch  63 training accuracy 0.97\n",
            "epoch  64 training accuracy 0.97\n",
            "epoch  65 training accuracy 0.97\n",
            "epoch  66 training accuracy 0.97\n",
            "epoch  67 training accuracy 0.97\n",
            "epoch  68 training accuracy 0.97\n",
            "epoch  69 training accuracy 0.98\n",
            "epoch  70 training accuracy 0.98\n",
            "epoch  71 training accuracy 0.98\n",
            "epoch  72 training accuracy 0.98\n",
            "epoch  73 training accuracy 0.98\n",
            "epoch  74 training accuracy 0.98\n",
            "epoch  75 training accuracy 0.98\n",
            "epoch  76 training accuracy 0.98\n",
            "epoch  77 training accuracy 0.98\n",
            "epoch  78 training accuracy 0.98\n",
            "epoch  79 training accuracy 0.98\n",
            "epoch  80 training accuracy 0.98\n",
            "epoch  81 training accuracy 0.98\n",
            "epoch  82 training accuracy 0.98\n",
            "epoch  83 training accuracy 0.98\n",
            "epoch  84 training accuracy 0.98\n",
            "epoch  85 training accuracy 0.98\n",
            "epoch  86 training accuracy 0.98\n",
            "epoch  87 training accuracy 0.98\n",
            "epoch  88 training accuracy 0.98\n",
            "epoch  89 training accuracy 0.98\n",
            "epoch  90 training accuracy 0.98\n",
            "epoch  91 training accuracy 0.98\n",
            "epoch  92 training accuracy 0.98\n",
            "epoch  93 training accuracy 0.98\n",
            "epoch  94 training accuracy 0.98\n",
            "epoch  95 training accuracy 0.98\n",
            "epoch  96 training accuracy 0.98\n",
            "epoch  97 training accuracy 0.98\n",
            "epoch  98 training accuracy 0.98\n",
            "epoch  99 training accuracy 0.98\n"
          ]
        },
        {
          "output_type": "display_data",
          "data": {
            "image/png": "[encoded data removed]",
            "text/plain": [
              "<Figure size 432x288 with 1 Axes>"
            ]
          },
          "metadata": {
            "needs_background": "light"
          }
        }
      ]
    },
    {
      "cell_type": "code",
      "metadata": {
        "id": "yHfWWjh6RrDt"
      },
      "source": [
        "eta=0.01\n",
        "alpha=0.001\n",
        "n_iter= 200 # epoch 200\n",
        "batch_size= 10 # bach size"
      ],
      "execution_count": 7,
      "outputs": []
    },
    {
      "cell_type": "code",
      "metadata": {
        "colab": {
          "base_uri": "https://localhost:8080/"
        },
        "id": "X4Lh44tbRrF-",
        "outputId": "362092f8-796f-44e0-8988-78255150d774"
      },
      "source": [
        "if __name__ == '__main__':\n",
        "    train_set, val_set, test_set = load_data('mnist.pkl.gz')\n",
        "\n",
        "    train_x, train_y = train_set\n",
        "    val_x, val_y = val_set\n",
        "    test_x, test_y = test_set\n",
        "    \n",
        "    print(train_x.shape)\n",
        "    print(train_y.shape)"
      ],
      "execution_count": 33,
      "outputs": [
        {
          "output_type": "stream",
          "name": "stdout",
          "text": [
            "... loading data\n",
            "(50000, 784)\n",
            "(50000,)\n"
          ]
        }
      ]
    },
    {
      "cell_type": "code",
      "metadata": {
        "id": "dvFUFyKWR2bj"
      },
      "source": [
        "class MLP(object):\n",
        "    def __init__(self, eta=eta, alpha=alpha, n_iter=n_iter, batch_size=batch_size):\n",
        "        self.eta = eta\n",
        "        self.alpha = alpha\n",
        "        self.n_iter = n_iter\n",
        "        self.batch_size = batch_size\n",
        "\n",
        "    def one_hot_enc(self, y, num_labels=10):\n",
        "        one_hot = np.zeros((num_labels, y.shape[0]), dtype=np.float32)\n",
        "    \n",
        "        for i, val in enumerate(y):\n",
        "            one_hot[val,i] = 1.0\n",
        "    \n",
        "        return one_hot\n",
        "\n",
        "    def init_weights(self, n_input, n_hidden_1, n_hidden_2, n_output, batch_size):\n",
        "        w1 = np.random.randn(n_hidden_1, n_input+1)\n",
        "        w2 = np.random.randn(n_hidden_2, n_hidden_1+1)\n",
        "        w3 = np.random.randn(n_output, n_hidden_2+1)\n",
        "        \n",
        "        return w1, w2, w3\n",
        "\n",
        "\n",
        "    def add_bias_unit(self, layer, orientation):\n",
        "        if orientation == 'row':\n",
        "            updated_layer = np.ones((layer.shape[0]+1, layer.shape[1]))\n",
        "            updated_layer[1:, :] = layer\n",
        "        elif orientation == 'col':\n",
        "            updated_layer = np.ones((layer.shape[0], layer.shape[1] + 1))\n",
        "            updated_layer[:, 1:] = layer\n",
        "    \n",
        "        return updated_layer\n",
        "\n",
        "\n",
        "    def compute_forward_pass(self, input):\n",
        "        a1 = self.add_bias_unit(input, orientation='col')\n",
        "    \n",
        "        z2 = np.matmul(self.w1, a1.transpose(1, 0))\n",
        "        a2 = 1/(1 + np.exp(-z2))\n",
        "        a2 = self.add_bias_unit(a2, orientation='row')\n",
        "    \n",
        "        z3 = np.matmul(self.w2, a2)\n",
        "        a3 = 1/(1 + np.exp(-z3))\n",
        "        a3 = self.add_bias_unit(a3, orientation='row')\n",
        "    \n",
        "        z4 = np.matmul(self.w3, a3)\n",
        "        a4 = 1/(1 + np.exp(-z4))\n",
        "    \n",
        "        return a1, z2, a2, z3, a3, z4, a4\n",
        "\n",
        "\n",
        "    def predict(self, a4):\n",
        "        prediction = np.argmax(a4, axis=0)\n",
        "        return prediction\n",
        "\n",
        "    def compute_loss(self, prediction, label):\n",
        "        term_1 = -1*label * np.log(prediction)\n",
        "        term_2 = (1-label)*(np.log(1-prediction))\n",
        "    \n",
        "        loss = np.sum(term_1 - term_2)\n",
        "        return loss\n",
        "\n",
        "\n",
        "    def compute_backward_pass(self, outputs, label):\n",
        "        a1, z2, a2, z3, a3, z4, a4 = outputs\n",
        "    \n",
        "        delta_4 = a4 - label\n",
        "        sig_z3 = np.array(1/(1 + np.exp(-z3)))\n",
        "        delta_3 = np.matmul(self.w3[:,1:].transpose(),delta_4)*sig_z3*(1-sig_z3)\n",
        "               \n",
        "        sig_z2 = np.array(1/(1 + np.exp(-z2)))\n",
        "        delta_2 = np.matmul(self.w2[:,1:], delta_3)*(sig_z2)*(1-(sig_z2))\n",
        "    \n",
        "        grad_w1 = np.matmul(delta_2, a1)\n",
        "        grad_w2 = np.matmul(delta_3, a2.transpose())\n",
        "        grad_w3 = np.matmul(delta_4, a3.transpose())\n",
        "    \n",
        "        return grad_w1, grad_w2, grad_w3\n",
        "            \n",
        "    def norm(self, X, x_min, x_max):\n",
        "        nom = (X-X.min(axis=0))*(x_max-x_min)\n",
        "        denom = X.max(axis=0) - X.min(axis=0)\n",
        "        denom[denom==0] = 1\n",
        "        return x_min + nom/denom \n",
        "\n",
        "\n",
        "    def prep_data(self, X, y):\n",
        "        X_ = []\n",
        "        y_ = []\n",
        "        \n",
        "        itr = int(len(y)/self.batch_size)+1\n",
        "        for j in range(1,itr):\n",
        "            rng = j*self.batch_size\n",
        "            X_.append(X[rng-self.batch_size:rng, :])\n",
        "            y_.append(y[rng-self.batch_size:rng])\n",
        "        \n",
        "        X, y = np.array(X_), np.array(y_)\n",
        "        X = self.norm(X, 0, 1)\n",
        "        \n",
        "        return X, y\n",
        "\n",
        "\n",
        "    def fit(self, X, y):\n",
        "        n_input = len(X[0,0,:]) #returns the flattened image size (28*28 = 784)\n",
        "    \n",
        "        n_hidden_1, n_hidden_2, n_output = 100, 100, 10\n",
        "        self.w1, self.w2, self.w3 = self.init_weights(n_input, n_hidden_1, n_hidden_2,\n",
        "                                    n_output, self.batch_size)\n",
        "\n",
        "        delta_w1_prev = np.zeros(self.w1.shape)\n",
        "        delta_w2_prev = np.zeros(self.w2.shape)\n",
        "        delta_w3_prev = np.zeros(self.w3.shape)\n",
        "        \n",
        "        train_losses = []\n",
        "        train_acc = []\n",
        "    \n",
        "        train_losses.sort()\n",
        "        for i in range(self.n_iter):\n",
        "            for j, (input, label) in enumerate(zip(X, y)):\n",
        "                one_hot_label = self.one_hot_enc(label, num_labels=10)\n",
        "                \n",
        "                a1, z2, a2, z3, a3, z4, a4 = self.compute_forward_pass(input)\n",
        "                loss = self.compute_loss(a4, one_hot_label)\n",
        "                grad1, grad2, grad3 = self.compute_backward_pass([a1, z2, a2, z3, a3, z4, a4],\n",
        "                                                one_hot_label)\n",
        "    \n",
        "                delta_w1, delta_w2, delta_w3 = self.eta*grad1, self.eta*grad2, self.eta*grad3\n",
        "    \n",
        "                self.w1 -= delta_w1 + delta_w1_prev*self.alpha\n",
        "                self.w2 -= delta_w2 + delta_w2_prev*self.alpha\n",
        "                self.w3 -= delta_w3 + delta_w3_prev*self.alpha\n",
        "    \n",
        "                delta_w1_prev, delta_w2_prev, delta_w3_prev = delta_w1, delta_w2, delta_w3\n",
        "    \n",
        "                #train_losses.append(loss)\n",
        "                predictions = self.predict(a4)\n",
        "    \n",
        "                wrong = np.where(predictions != label,\n",
        "                                np.matrix([1.]), np.matrix([0.]))\n",
        "    \n",
        "                accuracy = 1 - np.sum(wrong)/self.batch_size\n",
        "    \n",
        "                train_acc.append(accuracy)\n",
        "                train_losses.append(loss/len(X))\n",
        "            print('epoch ', i, 'training accuracy %.2f' %\n",
        "                    np.mean(np.matrix(train_acc)).item())\n",
        "\n",
        "\n",
        "        train_losses.sort()        \n",
        "        plt.plot(train_losses, \"dodgerblue\")\n",
        "        plt.title(\"MLP epoch 200, batch size 10 | loss\")\n",
        "        plt.show()"
      ],
      "execution_count": 9,
      "outputs": []
    },
    {
      "cell_type": "code",
      "metadata": {
        "colab": {
          "base_uri": "https://localhost:8080/",
          "height": 1000
        },
        "id": "dm1WMmBpRrOM",
        "outputId": "28be4406-a3ad-4c23-a0c5-c0248b9b181f"
      },
      "source": [
        "if __name__ == '__main__':\n",
        "  print(\"n_iter: 200, batch size 10, learning rate 0.01\")\n",
        "  mlp = MLP()\n",
        "  # X_train, y_train, X_test, y_test = mnist.load()\n",
        "  train_x, train_y = mlp.prep_data(train_x, train_y)\n",
        "  mlp.fit(train_x, train_y)"
      ],
      "execution_count": 10,
      "outputs": [
        {
          "output_type": "stream",
          "name": "stdout",
          "text": [
            "n_iter: 200, batch size 10, learning rate 0.01\n",
            "epoch  0 training accuracy 0.75\n",
            "epoch  1 training accuracy 0.81\n",
            "epoch  2 training accuracy 0.84\n",
            "epoch  3 training accuracy 0.86\n",
            "epoch  4 training accuracy 0.87\n",
            "epoch  5 training accuracy 0.88\n",
            "epoch  6 training accuracy 0.89\n",
            "epoch  7 training accuracy 0.90\n",
            "epoch  8 training accuracy 0.90\n",
            "epoch  9 training accuracy 0.91\n",
            "epoch  10 training accuracy 0.91\n",
            "epoch  11 training accuracy 0.91\n",
            "epoch  12 training accuracy 0.92\n",
            "epoch  13 training accuracy 0.92\n",
            "epoch  14 training accuracy 0.92\n",
            "epoch  15 training accuracy 0.93\n",
            "epoch  16 training accuracy 0.93\n",
            "epoch  17 training accuracy 0.93\n",
            "epoch  18 training accuracy 0.93\n",
            "epoch  19 training accuracy 0.93\n",
            "epoch  20 training accuracy 0.94\n",
            "epoch  21 training accuracy 0.94\n",
            "epoch  22 training accuracy 0.94\n",
            "epoch  23 training accuracy 0.94\n",
            "epoch  24 training accuracy 0.94\n",
            "epoch  25 training accuracy 0.94\n",
            "epoch  26 training accuracy 0.95\n",
            "epoch  27 training accuracy 0.95\n",
            "epoch  28 training accuracy 0.95\n",
            "epoch  29 training accuracy 0.95\n",
            "epoch  30 training accuracy 0.95\n",
            "epoch  31 training accuracy 0.95\n",
            "epoch  32 training accuracy 0.95\n",
            "epoch  33 training accuracy 0.95\n",
            "epoch  34 training accuracy 0.95\n",
            "epoch  35 training accuracy 0.96\n",
            "epoch  36 training accuracy 0.96\n",
            "epoch  37 training accuracy 0.96\n",
            "epoch  38 training accuracy 0.96\n",
            "epoch  39 training accuracy 0.96\n",
            "epoch  40 training accuracy 0.96\n",
            "epoch  41 training accuracy 0.96\n",
            "epoch  42 training accuracy 0.96\n",
            "epoch  43 training accuracy 0.96\n",
            "epoch  44 training accuracy 0.96\n",
            "epoch  45 training accuracy 0.96\n",
            "epoch  46 training accuracy 0.96\n",
            "epoch  47 training accuracy 0.96\n",
            "epoch  48 training accuracy 0.96\n",
            "epoch  49 training accuracy 0.97\n",
            "epoch  50 training accuracy 0.97\n",
            "epoch  51 training accuracy 0.97\n",
            "epoch  52 training accuracy 0.97\n",
            "epoch  53 training accuracy 0.97\n",
            "epoch  54 training accuracy 0.97\n",
            "epoch  55 training accuracy 0.97\n",
            "epoch  56 training accuracy 0.97\n",
            "epoch  57 training accuracy 0.97\n",
            "epoch  58 training accuracy 0.97\n",
            "epoch  59 training accuracy 0.97\n",
            "epoch  60 training accuracy 0.97\n",
            "epoch  61 training accuracy 0.97\n",
            "epoch  62 training accuracy 0.97\n",
            "epoch  63 training accuracy 0.97\n",
            "epoch  64 training accuracy 0.97\n",
            "epoch  65 training accuracy 0.97\n",
            "epoch  66 training accuracy 0.97\n",
            "epoch  67 training accuracy 0.97\n",
            "epoch  68 training accuracy 0.97\n",
            "epoch  69 training accuracy 0.97\n",
            "epoch  70 training accuracy 0.97\n",
            "epoch  71 training accuracy 0.97\n",
            "epoch  72 training accuracy 0.97\n",
            "epoch  73 training accuracy 0.98\n",
            "epoch  74 training accuracy 0.98\n",
            "epoch  75 training accuracy 0.98\n",
            "epoch  76 training accuracy 0.98\n",
            "epoch  77 training accuracy 0.98\n",
            "epoch  78 training accuracy 0.98\n",
            "epoch  79 training accuracy 0.98\n",
            "epoch  80 training accuracy 0.98\n",
            "epoch  81 training accuracy 0.98\n",
            "epoch  82 training accuracy 0.98\n",
            "epoch  83 training accuracy 0.98\n",
            "epoch  84 training accuracy 0.98\n",
            "epoch  85 training accuracy 0.98\n",
            "epoch  86 training accuracy 0.98\n",
            "epoch  87 training accuracy 0.98\n",
            "epoch  88 training accuracy 0.98\n",
            "epoch  89 training accuracy 0.98\n",
            "epoch  90 training accuracy 0.98\n",
            "epoch  91 training accuracy 0.98\n",
            "epoch  92 training accuracy 0.98\n",
            "epoch  93 training accuracy 0.98\n",
            "epoch  94 training accuracy 0.98\n",
            "epoch  95 training accuracy 0.98\n",
            "epoch  96 training accuracy 0.98\n",
            "epoch  97 training accuracy 0.98\n",
            "epoch  98 training accuracy 0.98\n",
            "epoch  99 training accuracy 0.98\n",
            "epoch  100 training accuracy 0.98\n",
            "epoch  101 training accuracy 0.98\n",
            "epoch  102 training accuracy 0.98\n",
            "epoch  103 training accuracy 0.98\n",
            "epoch  104 training accuracy 0.98\n",
            "epoch  105 training accuracy 0.98\n",
            "epoch  106 training accuracy 0.98\n",
            "epoch  107 training accuracy 0.98\n",
            "epoch  108 training accuracy 0.98\n",
            "epoch  109 training accuracy 0.98\n",
            "epoch  110 training accuracy 0.98\n",
            "epoch  111 training accuracy 0.98\n",
            "epoch  112 training accuracy 0.98\n",
            "epoch  113 training accuracy 0.98\n",
            "epoch  114 training accuracy 0.98\n",
            "epoch  115 training accuracy 0.98\n",
            "epoch  116 training accuracy 0.98\n",
            "epoch  117 training accuracy 0.98\n",
            "epoch  118 training accuracy 0.98\n",
            "epoch  119 training accuracy 0.98\n",
            "epoch  120 training accuracy 0.98\n",
            "epoch  121 training accuracy 0.98\n",
            "epoch  122 training accuracy 0.98\n",
            "epoch  123 training accuracy 0.98\n",
            "epoch  124 training accuracy 0.99\n",
            "epoch  125 training accuracy 0.99\n",
            "epoch  126 training accuracy 0.99\n",
            "epoch  127 training accuracy 0.99\n",
            "epoch  128 training accuracy 0.99\n",
            "epoch  129 training accuracy 0.99\n",
            "epoch  130 training accuracy 0.99\n",
            "epoch  131 training accuracy 0.99\n",
            "epoch  132 training accuracy 0.99\n",
            "epoch  133 training accuracy 0.99\n",
            "epoch  134 training accuracy 0.99\n",
            "epoch  135 training accuracy 0.99\n",
            "epoch  136 training accuracy 0.99\n",
            "epoch  137 training accuracy 0.99\n",
            "epoch  138 training accuracy 0.99\n",
            "epoch  139 training accuracy 0.99\n",
            "epoch  140 training accuracy 0.99\n",
            "epoch  141 training accuracy 0.99\n",
            "epoch  142 training accuracy 0.99\n",
            "epoch  143 training accuracy 0.99\n",
            "epoch  144 training accuracy 0.99\n",
            "epoch  145 training accuracy 0.99\n",
            "epoch  146 training accuracy 0.99\n",
            "epoch  147 training accuracy 0.99\n",
            "epoch  148 training accuracy 0.99\n",
            "epoch  149 training accuracy 0.99\n",
            "epoch  150 training accuracy 0.99\n",
            "epoch  151 training accuracy 0.99\n",
            "epoch  152 training accuracy 0.99\n",
            "epoch  153 training accuracy 0.99\n",
            "epoch  154 training accuracy 0.99\n",
            "epoch  155 training accuracy 0.99\n",
            "epoch  156 training accuracy 0.99\n",
            "epoch  157 training accuracy 0.99\n",
            "epoch  158 training accuracy 0.99\n",
            "epoch  159 training accuracy 0.99\n",
            "epoch  160 training accuracy 0.99\n",
            "epoch  161 training accuracy 0.99\n",
            "epoch  162 training accuracy 0.99\n",
            "epoch  163 training accuracy 0.99\n",
            "epoch  164 training accuracy 0.99\n",
            "epoch  165 training accuracy 0.99\n",
            "epoch  166 training accuracy 0.99\n",
            "epoch  167 training accuracy 0.99\n",
            "epoch  168 training accuracy 0.99\n",
            "epoch  169 training accuracy 0.99\n",
            "epoch  170 training accuracy 0.99\n",
            "epoch  171 training accuracy 0.99\n",
            "epoch  172 training accuracy 0.99\n",
            "epoch  173 training accuracy 0.99\n",
            "epoch  174 training accuracy 0.99\n",
            "epoch  175 training accuracy 0.99\n",
            "epoch  176 training accuracy 0.99\n",
            "epoch  177 training accuracy 0.99\n",
            "epoch  178 training accuracy 0.99\n",
            "epoch  179 training accuracy 0.99\n",
            "epoch  180 training accuracy 0.99\n",
            "epoch  181 training accuracy 0.99\n",
            "epoch  182 training accuracy 0.99\n",
            "epoch  183 training accuracy 0.99\n",
            "epoch  184 training accuracy 0.99\n",
            "epoch  185 training accuracy 0.99\n",
            "epoch  186 training accuracy 0.99\n",
            "epoch  187 training accuracy 0.99\n",
            "epoch  188 training accuracy 0.99\n",
            "epoch  189 training accuracy 0.99\n",
            "epoch  190 training accuracy 0.99\n",
            "epoch  191 training accuracy 0.99\n",
            "epoch  192 training accuracy 0.99\n",
            "epoch  193 training accuracy 0.99\n",
            "epoch  194 training accuracy 0.99\n",
            "epoch  195 training accuracy 0.99\n",
            "epoch  196 training accuracy 0.99\n"
          ]
        },
        {
          "output_type": "stream",
          "name": "stderr",
          "text": [
            "/usr/local/lib/python3.7/dist-packages/ipykernel_launcher.py:58: RuntimeWarning: divide by zero encountered in log\n",
            "/usr/local/lib/python3.7/dist-packages/ipykernel_launcher.py:58: RuntimeWarning: invalid value encountered in multiply\n"
          ]
        },
        {
          "output_type": "stream",
          "name": "stdout",
          "text": [
            "epoch  197 training accuracy 0.99\n",
            "epoch  198 training accuracy 0.99\n",
            "epoch  199 training accuracy 0.99\n"
          ]
        },
        {
          "output_type": "display_data",
          "data": {
            "image/png": "[encoded data removed]",
            "text/plain": [
              "<Figure size 432x288 with 1 Axes>"
            ]
          },
          "metadata": {
            "needs_background": "light"
          }
        }
      ]
    },
    {
      "cell_type": "markdown",
      "metadata": {
        "id": "Q5D5Q98T_aQ_"
      },
      "source": [
        ""
      ]
    },
    {
      "cell_type": "code",
      "metadata": {
        "id": "53fPV16fR4lZ"
      },
      "source": [
        "import torch\n",
        "from torch.autograd import Variable\n",
        "import torch.nn as nn\n",
        "import torch.nn.functional as F\n",
        "import torch.optim as optim\n",
        "from torch.utils.data import DataLoader, TensorDataset\n",
        "\n",
        "from matplotlib import pyplot as plt\n",
        "from matplotlib import cm\n",
        "\n",
        "import pandas as pd\n",
        "\n",
        "%matplotlib inline"
      ],
      "execution_count": 5,
      "outputs": []
    },
    {
      "cell_type": "code",
      "metadata": {
        "colab": {
          "base_uri": "https://localhost:8080/"
        },
        "id": "3g5iYsX7SIHB",
        "outputId": "52d29c20-aea5-4fbe-b6b3-0f4db56fc93c"
      },
      "source": [
        "test_x.shape"
      ],
      "execution_count": 6,
      "outputs": [
        {
          "output_type": "execute_result",
          "data": {
            "text/plain": [
              "(10000, 784)"
            ]
          },
          "metadata": {},
          "execution_count": 6
        }
      ]
    },
    {
      "cell_type": "code",
      "metadata": {
        "colab": {
          "base_uri": "https://localhost:8080/"
        },
        "id": "gSMvh9aQSYaV",
        "outputId": "efd1b1d3-1580-45ab-cb21-dd0a58bca933"
      },
      "source": [
        "train_X = torch.from_numpy(train_x).float().to(device)\n",
        "train_Y = torch.from_numpy(train_y).long().to(device)\n",
        "\n",
        "\n",
        "test_X = torch.from_numpy(test_x).float().to(device)\n",
        "test_Y = torch.from_numpy(test_y).long().to(device)\n",
        "\n",
        "print(train_X.shape)\n",
        "print(train_Y.shape)"
      ],
      "execution_count": 8,
      "outputs": [
        {
          "output_type": "stream",
          "name": "stdout",
          "text": [
            "torch.Size([50000, 784])\n",
            "torch.Size([50000])\n"
          ]
        }
      ]
    },
    {
      "cell_type": "code",
      "metadata": {
        "id": "KbBhpdujSbeD"
      },
      "source": [
        "train = TensorDataset(train_X, train_Y)\n",
        "train_loader = DataLoader(train, batch_size=50, shuffle=True)"
      ],
      "execution_count": 12,
      "outputs": []
    },
    {
      "cell_type": "code",
      "metadata": {
        "id": "E7Te-AHQSmcI"
      },
      "source": [
        "class Net(nn.Module):\n",
        "  def __init__(self):\n",
        "    super(Net, self).__init__()\n",
        "    self.fc1 = nn.Linear(784, 256)\n",
        "    self.fc2 = nn.Linear(256, 256)\n",
        "    self.fc3 = nn.Linear(256, 256)\n",
        "    self.fc4 = nn.Linear(256, 128)\n",
        "    self.fc5 = nn.Linear(128, 128)\n",
        "    self.fc6 = nn.Linear(128, 10)\n",
        "    \n",
        "    \n",
        "  def forward(self, x):\n",
        "    x = F.relu(self.fc1(x))\n",
        "    x = F.relu(self.fc2(x))\n",
        "    x = F.relu(self.fc3(x))\n",
        "    x = F.relu(self.fc4(x))\n",
        "    x = F.relu(self.fc5(x))\n",
        "    x = F.dropout(x, training=self.training)\n",
        "    x = self.fc6(x)\n",
        "    return F.log_softmax(x)\n",
        "    \n",
        "model = Net()\n",
        "#model.cuda()"
      ],
      "execution_count": 13,
      "outputs": []
    },
    {
      "cell_type": "code",
      "metadata": {
        "id": "Q3aMoHwBSpdZ"
      },
      "source": [
        "criterion = nn.CrossEntropyLoss()\n",
        "optimizer = optim.SGD(model.parameters(), lr=0.01)"
      ],
      "execution_count": 14,
      "outputs": []
    },
    {
      "cell_type": "code",
      "metadata": {
        "colab": {
          "base_uri": "https://localhost:8080/"
        },
        "id": "r1q0g13bTVmM",
        "outputId": "67a8f11a-2254-4906-aec7-b6bcadcd9572"
      },
      "source": [
        "losses = []\n",
        "for epoch in range(1000):\n",
        "  total_loss = 0 #batch loss\n",
        "  \n",
        "  for train_x, train_y in train_loader:\n",
        "    train_x, train_y = Variable(train_x), Variable(train_y)\n",
        "    optimizer.zero_grad()\n",
        "    output = model(train_x)\n",
        "\n",
        "    loss = criterion(output, train_y)\n",
        "    loss.backward()\n",
        "    # loss\n",
        "    optimizer.step()\n",
        "    total_loss += loss.data.item()\n",
        "    losses.append(total_loss)"
      ],
      "execution_count": 15,
      "outputs": [
        {
          "output_type": "stream",
          "name": "stderr",
          "text": [
            "/usr/local/lib/python3.7/dist-packages/ipykernel_launcher.py:20: UserWarning: Implicit dimension choice for log_softmax has been deprecated. Change the call to include dim=X as an argument.\n"
          ]
        }
      ]
    },
    {
      "cell_type": "code",
      "metadata": {
        "colab": {
          "base_uri": "https://localhost:8080/"
        },
        "id": "UtYuVwfhoQJu",
        "outputId": "b7ecd093-1eaa-4389-f51e-adfa7224ddde"
      },
      "source": [
        "if (epoch +1) % 10 == 0:\n",
        "  print(epoch+1, total_loss)"
      ],
      "execution_count": 28,
      "outputs": [
        {
          "output_type": "stream",
          "name": "stdout",
          "text": [
            "1000 0.13594104881920277\n"
          ]
        }
      ]
    },
    {
      "cell_type": "code",
      "metadata": {
        "id": "TVY7mHH1oQNs"
      },
      "source": [
        "test_x, test_y = Variable(test_X), Variable(test_Y)"
      ],
      "execution_count": 29,
      "outputs": []
    },
    {
      "cell_type": "code",
      "metadata": {
        "colab": {
          "base_uri": "https://localhost:8080/"
        },
        "id": "SyBiFyaooXyn",
        "outputId": "d5a22ea7-083b-4b5d-c343-c75d84d088ae"
      },
      "source": [
        "result = torch.max(model(test_x).data, 1)[1]\n",
        "accuracy = sum(test_y.cpu().data.numpy() == result.cpu().numpy()) / len(test_y.cpu().data.numpy())"
      ],
      "execution_count": 30,
      "outputs": [
        {
          "output_type": "stream",
          "name": "stderr",
          "text": [
            "/usr/local/lib/python3.7/dist-packages/ipykernel_launcher.py:20: UserWarning: Implicit dimension choice for log_softmax has been deprecated. Change the call to include dim=X as an argument.\n"
          ]
        }
      ]
    },
    {
      "cell_type": "code",
      "metadata": {
        "colab": {
          "base_uri": "https://localhost:8080/"
        },
        "id": "RxK1SMhgoQSh",
        "outputId": "1ea3ebb9-4015-46c5-fd2c-92914e8e7959"
      },
      "source": [
        "print(\"===Pytorch Multi-Layer Perceptron accuracy===\")\n",
        "print(accuracy)"
      ],
      "execution_count": 31,
      "outputs": [
        {
          "output_type": "stream",
          "name": "stdout",
          "text": [
            "===Pytorch Multi-Layer Perceptron accuracy===\n",
            "0.9731\n"
          ]
        }
      ]
    },
    {
      "cell_type": "code",
      "metadata": {
        "id": "gZURXJpSkbxi"
      },
      "source": [
        "losses.sort()"
      ],
      "execution_count": 20,
      "outputs": []
    },
    {
      "cell_type": "code",
      "metadata": {
        "colab": {
          "base_uri": "https://localhost:8080/",
          "height": 278
        },
        "id": "exfTZc58T2SH",
        "outputId": "547d22d9-9aa1-4790-81e2-799030d68bde"
      },
      "source": [
        "#plot\n",
        "import matplotlib.pyplot as plt\n",
        "\n",
        "plt.plot(losses, color = \"springgreen\")\n",
        "\n",
        "plt.show()"
      ],
      "execution_count": 27,
      "outputs": [
        {
          "output_type": "display_data",
          "data": {
            "image/png": "[encoded data removed]",
            "text/plain": [
              "<Figure size 432x288 with 1 Axes>"
            ]
          },
          "metadata": {
            "needs_background": "light"
          }
        }
      ]
    },
    {
      "cell_type": "code",
      "metadata": {
        "id": "smkkc5Rgj-SG"
      },
      "source": [
        "# pytorch torchvision\n",
        "import torch\n",
        "import numpy as np\n",
        "import torchvision.transforms as transforms\n",
        "from torch.utils.data.sampler import SubsetRandomSampler\n",
        "from torchvision import datasets\n",
        "import matplotlib.pyplot as plt"
      ],
      "execution_count": 18,
      "outputs": []
    },
    {
      "cell_type": "code",
      "metadata": {
        "id": "D0vvpC3PecUf"
      },
      "source": [
        "num_workers = 0\n",
        "batch_size = 10 # batch size 10\n",
        "valid_size = 0.2\n",
        "n_epochs = 50 # epoch 100"
      ],
      "execution_count": 19,
      "outputs": []
    },
    {
      "cell_type": "code",
      "metadata": {
        "id": "XjpOx_VvecXz"
      },
      "source": [
        "\n",
        "transform = transforms.ToTensor()\n",
        "# choose the training and testing datasets\n",
        "train_data = datasets.MNIST(root = 'root', train = True, download = True, transform = transform)\n",
        "test_data = datasets.MNIST(root = 'root', train = False, download = True, transform = transform)\n",
        "# obtain training indices that will be used for validation\n",
        "num_train = len(train_data)\n",
        "indices = list(range(num_train))\n",
        "np.random.shuffle(indices)\n",
        "split = int(np.floor(valid_size * num_train))\n",
        "train_index, valid_index = indices[split:], indices[:split]\n",
        "# define samplers for obtaining training and validation batches\n",
        "train_sampler = SubsetRandomSampler(train_index)\n",
        "valid_sampler = SubsetRandomSampler(valid_index)\n",
        "# prepare data loaders\n",
        "train_loader = torch.utils.data.DataLoader(train_data, batch_size = batch_size, \n",
        "                                           sampler = train_sampler, num_workers = num_workers)\n",
        "valid_loader = torch.utils.data.DataLoader(train_data, batch_size = batch_size,\n",
        "                                          sampler = valid_sampler, num_workers = num_workers)\n",
        "test_loader = torch.utils.data.DataLoader(test_data, batch_size = batch_size,\n",
        "                                         num_workers = num_workers)"
      ],
      "execution_count": 20,
      "outputs": []
    },
    {
      "cell_type": "code",
      "metadata": {
        "colab": {
          "base_uri": "https://localhost:8080/"
        },
        "id": "lmW3cKbPeuaC",
        "outputId": "7b545cca-1f6b-4082-abbf-da55ad9cef22"
      },
      "source": [
        "import torch.nn as nn\n",
        "import torch.nn.functional as F\n",
        "# define NN architecture\n",
        "class Net(nn.Module):\n",
        "    def __init__(self):\n",
        "        super(Net,self).__init__()\n",
        "        # number of hidden nodes in each layer (512)\n",
        "        hidden_1 = 512\n",
        "        hidden_2 = 512\n",
        "        # linear layer (784 -> hidden_1)\n",
        "        self.fc1 = nn.Linear(28*28, 512)\n",
        "        # linear layer (n_hidden -> hidden_2)\n",
        "        self.fc2 = nn.Linear(512,512)\n",
        "        # linear layer (n_hidden -> 10)\n",
        "        self.fc3 = nn.Linear(512,10)\n",
        "        # dropout layer (p=0.2)\n",
        "        # dropout prevents overfitting of data\n",
        "        self.droput = nn.Dropout(0.2)\n",
        "        \n",
        "    def forward(self,x):\n",
        "        # flatten image input\n",
        "        x = x.view(-1,28*28)\n",
        "        # add hidden layer, with relu activation function\n",
        "        x = F.relu(self.fc1(x))\n",
        "        # add dropout layer\n",
        "        x = self.droput(x)\n",
        "         # add hidden layer, with relu activation function\n",
        "        x = F.relu(self.fc2(x))\n",
        "        # add dropout layer\n",
        "        x = self.droput(x)\n",
        "        # add output layer\n",
        "        x = self.fc3(x)\n",
        "        return x\n",
        "# initialize the NN\n",
        "model = Net()\n",
        "print(model)"
      ],
      "execution_count": 21,
      "outputs": [
        {
          "output_type": "stream",
          "name": "stdout",
          "text": [
            "Net(\n",
            "  (fc1): Linear(in_features=784, out_features=512, bias=True)\n",
            "  (fc2): Linear(in_features=512, out_features=512, bias=True)\n",
            "  (fc3): Linear(in_features=512, out_features=10, bias=True)\n",
            "  (droput): Dropout(p=0.2, inplace=False)\n",
            ")\n"
          ]
        }
      ]
    },
    {
      "cell_type": "code",
      "metadata": {
        "id": "C6sDt5oUe09B"
      },
      "source": [
        "# specify loss function (categorical cross-entropy)\n",
        "criterion = nn.CrossEntropyLoss()\n",
        "# specify optimizer (stochastic gradient descent) and learning rate = 0.01 ##\n",
        "optimizer = torch.optim.SGD(model.parameters(),lr = 0.01) "
      ],
      "execution_count": 22,
      "outputs": []
    },
    {
      "cell_type": "code",
      "metadata": {
        "id": "wwKEWgp9fE7Q"
      },
      "source": [
        "# This is torchvision data, but compare with from scratch / n_eopchs 50, batch size 10\n",
        "losses = []\n",
        "valid_loss_min = np.Inf  # set initial \"min\" to infinity\n",
        "for epoch in range(n_epochs):\n",
        "\n",
        "    train_loss = 0\n",
        "    valid_loss = 0\n",
        "    model.train()\n",
        "    for data, label in train_loader:\n",
        "      optimizer.zero_grad()\n",
        "      output = model(data)\n",
        "      loss = criterion(output, label)\n",
        "      loss.backward()\n",
        "      optimizer.step()\n",
        "      train_loss += loss.item()*data.size(0)\n",
        "      losses.append(train_loss/len(train_loader.sampler))"
      ],
      "execution_count": 14,
      "outputs": []
    },
    {
      "cell_type": "code",
      "metadata": {
        "id": "qiMj--O1fM5M"
      },
      "source": [
        "   # validate\n",
        "   model.eval()  # prep model for evaluation\n",
        "   for data,label in valid_loader:\n",
        "        # forward pass: compute predicted outputs by passing inputs to the model\n",
        "        output = model(data)\n",
        "        # calculate the loss\n",
        "        loss = criterion(output,label)\n",
        "        # update running validation loss \n",
        "        valid_loss = loss.item() * data.size(0)"
      ],
      "execution_count": 15,
      "outputs": []
    },
    {
      "cell_type": "code",
      "metadata": {
        "id": "TzuwhA9NfM8B"
      },
      "source": [
        "    # print training/validation statistics \n",
        "    # calculate average loss over an epoch\n",
        "    train_loss = train_loss / len(train_loader.sampler)\n",
        "    valid_loss = valid_loss / len(valid_loader.sampler)"
      ],
      "execution_count": 16,
      "outputs": []
    },
    {
      "cell_type": "code",
      "metadata": {
        "id": "Ieg7BWYKfTAq"
      },
      "source": [
        "losses.sort() ## bitch size 10, epoch 50"
      ],
      "execution_count": 17,
      "outputs": []
    },
    {
      "cell_type": "code",
      "metadata": {
        "colab": {
          "base_uri": "https://localhost:8080/",
          "height": 298
        },
        "id": "S_e5_jr6fTCk",
        "outputId": "dd2460ec-773e-40f6-9ddd-ad73b6023d05"
      },
      "source": [
        "plt.plot(losses, color = \"gold\")\n",
        "plt.title(\"Pytorch torchvision dataset | Batch size 10, epoch 50 Loss\")"
      ],
      "execution_count": 18,
      "outputs": [
        {
          "output_type": "execute_result",
          "data": {
            "text/plain": [
              "Text(0.5, 1.0, 'Pytorch torchvision dataset | Batch size 10, epoch 50 Loss')"
            ]
          },
          "metadata": {},
          "execution_count": 18
        },
        {
          "output_type": "display_data",
          "data": {
            "image/png": "[encoded data removed]",
            "text/plain": [
              "<Figure size 432x288 with 1 Axes>"
            ]
          },
          "metadata": {
            "needs_background": "light"
          }
        }
      ]
    },
    {
      "cell_type": "code",
      "metadata": {
        "colab": {
          "base_uri": "https://localhost:8080/"
        },
        "id": "cXYdLYCufYyc",
        "outputId": "2d126297-bb02-4ec0-a716-6726299f4e13"
      },
      "source": [
        "    print(\"Batch size 10\")\n",
        "    print('Epoch: {} \\tTraining Loss: {:.6f} \\tValidation Loss: {:.6f}'.format(epoch+1, train_loss, valid_loss))"
      ],
      "execution_count": 19,
      "outputs": [
        {
          "output_type": "stream",
          "name": "stdout",
          "text": [
            "Batch size 10\n",
            "Epoch: 50 \tTraining Loss: 0.004914 \tValidation Loss: 0.000000\n"
          ]
        }
      ]
    },
    {
      "cell_type": "code",
      "metadata": {
        "colab": {
          "base_uri": "https://localhost:8080/"
        },
        "id": "PZgTxYwnfY07",
        "outputId": "88e7a0d9-fb0f-465d-b9eb-459b4d20944e"
      },
      "source": [
        "    # save model if validation loss has decreased\n",
        "    if valid_loss <= valid_loss_min:\n",
        "        print('Validation loss decreased ({:.6f} --> {:.6f}).  Saving model ...'.format(\n",
        "        valid_loss_min,\n",
        "        valid_loss))\n",
        "        torch.save(model.state_dict(), 'model.pt')\n",
        "        valid_loss_min = valid_loss    # save model if validation loss has decreased\n",
        "    if valid_loss <= valid_loss_min:\n",
        "        print('Validation loss decreased ({:.6f} --> {:.6f}).  Saving model ...'.format(\n",
        "        valid_loss_min,\n",
        "        valid_loss))\n",
        "        torch.save(model.state_dict(), 'model.pt')\n",
        "        valid_loss_min = valid_loss"
      ],
      "execution_count": 20,
      "outputs": [
        {
          "output_type": "stream",
          "name": "stdout",
          "text": [
            "Validation loss decreased (inf --> 0.000000).  Saving model ...\n",
            "Validation loss decreased (0.000000 --> 0.000000).  Saving model ...\n"
          ]
        }
      ]
    },
    {
      "cell_type": "code",
      "metadata": {
        "colab": {
          "base_uri": "https://localhost:8080/"
        },
        "id": "TY0tY-m9fY25",
        "outputId": "d432f512-6b52-4a73-dd23-85630f1b63e6"
      },
      "source": [
        "model.load_state_dict(torch.load('model.pt'))"
      ],
      "execution_count": 21,
      "outputs": [
        {
          "output_type": "execute_result",
          "data": {
            "text/plain": [
              "<All keys matched successfully>"
            ]
          },
          "metadata": {},
          "execution_count": 21
        }
      ]
    },
    {
      "cell_type": "code",
      "metadata": {
        "colab": {
          "base_uri": "https://localhost:8080/"
        },
        "id": "sLNOsPp5fY5C",
        "outputId": "a4d8c4c5-60b5-4ef9-c01b-5966f69ab8b6"
      },
      "source": [
        "test_loss = 0.0 # init\n",
        "class_correct = list(0. for i in range(10))\n",
        "class_total = list(0. for i in range(10))\n",
        "model.eval()"
      ],
      "execution_count": 22,
      "outputs": [
        {
          "output_type": "execute_result",
          "data": {
            "text/plain": [
              "Net(\n",
              "  (fc1): Linear(in_features=784, out_features=512, bias=True)\n",
              "  (fc2): Linear(in_features=512, out_features=512, bias=True)\n",
              "  (fc3): Linear(in_features=512, out_features=10, bias=True)\n",
              "  (droput): Dropout(p=0.2, inplace=False)\n",
              ")"
            ]
          },
          "metadata": {},
          "execution_count": 22
        }
      ]
    },
    {
      "cell_type": "code",
      "metadata": {
        "colab": {
          "base_uri": "https://localhost:8080/"
        },
        "id": "yeoxBXzYfY7G",
        "outputId": "3c3938cc-d2d1-4ab4-cde3-3e57636d5921"
      },
      "source": [
        "test_losses = []\n",
        "for data, target in test_loader:\n",
        "    # forward pass: compute predicted outputs by passing inputs to the model\n",
        "    output = model(data)\n",
        "    # calculate the loss\n",
        "    loss = criterion(output, target)\n",
        "    # update test loss \n",
        "    test_loss += loss.item()*data.size(0)\n",
        "    # convert output probabilities to predicted class\n",
        "    _, pred = torch.max(output, 1)\n",
        "    # compare predictions to true label\n",
        "    correct = np.squeeze(pred.eq(target.data.view_as(pred)))\n",
        "\n",
        "    test_losses.append(test_loss/len(test_loader.sampler))\n",
        "    # calculate test accuracy for each object class\n",
        "    for i in range(len(target)):\n",
        "        label = target.data[i]\n",
        "        class_correct[label] += correct[i].item()\n",
        "        class_total[label] += 1\n",
        "# calculate and print avg test loss\n",
        "test_loss = test_loss/len(test_loader.sampler)\n",
        "test_losses.sort()\n",
        "print('Test Loss: {:.6f}\\n'.format(test_loss))\n",
        "for i in range(10):\n",
        "    if class_total[i] > 0:\n",
        "        print('Test Accuracy of %5s: %2d%% (%2d/%2d)' % (\n",
        "            str(i), 100 * class_correct[i] / class_total[i],\n",
        "            np.sum(class_correct[i]), np.sum(class_total[i])))\n",
        "    else:\n",
        "        print('Test Accuracy of %5s: N/A (no training examples)' % (classes[i]))\n",
        "print('\\nTest Accuracy (Overall): %2d%% (%2d/%2d)' % (\n",
        "    100. * np.sum(class_correct) / np.sum(class_total),\n",
        "    np.sum(class_correct), np.sum(class_total)))"
      ],
      "execution_count": 23,
      "outputs": [
        {
          "output_type": "stream",
          "name": "stdout",
          "text": [
            "Test Loss: 0.064516\n",
            "\n",
            "Test Accuracy of     0: 98% (969/980)\n",
            "Test Accuracy of     1: 99% (1127/1135)\n",
            "Test Accuracy of     2: 97% (1008/1032)\n",
            "Test Accuracy of     3: 98% (990/1010)\n",
            "Test Accuracy of     4: 98% (968/982)\n",
            "Test Accuracy of     5: 98% (878/892)\n",
            "Test Accuracy of     6: 98% (944/958)\n",
            "Test Accuracy of     7: 98% (1009/1028)\n",
            "Test Accuracy of     8: 97% (948/974)\n",
            "Test Accuracy of     9: 97% (988/1009)\n",
            "\n",
            "Test Accuracy (Overall): 98% (9829/10000)\n",
            "Test Loss: 0.064522\n",
            "\n",
            "Test Accuracy of     0: 98% (1938/1960)\n",
            "Test Accuracy of     1: 99% (2254/2270)\n",
            "Test Accuracy of     2: 97% (2016/2064)\n",
            "Test Accuracy of     3: 98% (1980/2020)\n",
            "Test Accuracy of     4: 98% (1936/1964)\n",
            "Test Accuracy of     5: 98% (1756/1784)\n",
            "Test Accuracy of     6: 98% (1888/1916)\n",
            "Test Accuracy of     7: 98% (2018/2056)\n",
            "Test Accuracy of     8: 97% (1896/1948)\n",
            "Test Accuracy of     9: 97% (1976/2018)\n",
            "\n",
            "Test Accuracy (Overall): 98% (19658/20000)\n"
          ]
        }
      ]
    },
    {
      "cell_type": "code",
      "metadata": {
        "colab": {
          "base_uri": "https://localhost:8080/",
          "height": 298
        },
        "id": "UIpNmAMHlx1X",
        "outputId": "22f7aad5-75f9-4ce0-fa30-c3633d6e9bf9"
      },
      "source": [
        "plt.plot(test_losses, color = \"coral\")\n",
        "plt.title(\"Pytorch torchvision dataset | test loss(batch size10, epoch50)\") # epoch 50, batch size 10"
      ],
      "execution_count": 24,
      "outputs": [
        {
          "output_type": "execute_result",
          "data": {
            "text/plain": [
              "Text(0.5, 1.0, 'Pytorch torchvision dataset | test loss(batch size10, epoch50)')"
            ]
          },
          "metadata": {},
          "execution_count": 24
        },
        {
          "output_type": "display_data",
          "data": {
            "image/png": "[encoded data removed]",
            "text/plain": [
              "<Figure size 432x288 with 1 Axes>"
            ]
          },
          "metadata": {
            "needs_background": "light"
          }
        }
      ]
    },
    {
      "cell_type": "code",
      "metadata": {
        "id": "Zgbhj1SHmYVn"
      },
      "source": [
        "num_workers = 0\n",
        "batch_size = 10 # batch size 10\n",
        "valid_size = 0.2\n",
        "n_epochs = 100 # epoch 100"
      ],
      "execution_count": 25,
      "outputs": []
    },
    {
      "cell_type": "code",
      "metadata": {
        "id": "kiF4zhdbl_8r"
      },
      "source": [
        "# This is torchvision data, but compare with from scratch / n_eopchs 100, batch size 10\n",
        "losses = []\n",
        "valid_loss_min = np.Inf  # set initial \"min\" to infinity\n",
        "for epoch in range(n_epochs):\n",
        "\n",
        "    train_loss = 0\n",
        "    valid_loss = 0\n",
        "    model.train()\n",
        "    for data, label in train_loader:\n",
        "      optimizer.zero_grad()\n",
        "      output = model(data)\n",
        "      loss = criterion(output, label)\n",
        "      loss.backward()\n",
        "      optimizer.step()\n",
        "      train_loss += loss.item()*data.size(0)\n",
        "      losses.append(train_loss/len(train_loader.sampler))\n"
      ],
      "execution_count": 26,
      "outputs": []
    },
    {
      "cell_type": "code",
      "metadata": {
        "id": "j_xxNxUup5KG"
      },
      "source": [
        "   # validate, \n",
        "   model.eval()  # prep model for evaluation\n",
        "   for data,label in valid_loader:\n",
        "        # forward pass: compute predicted outputs by passing inputs to the model\n",
        "        output = model(data)\n",
        "        # calculate the loss\n",
        "        loss = criterion(output,label)\n",
        "        # update running validation loss \n",
        "        valid_loss = loss.item() * data.size(0)"
      ],
      "execution_count": 27,
      "outputs": []
    },
    {
      "cell_type": "code",
      "metadata": {
        "id": "KoE3g646rLYV"
      },
      "source": [
        "    # print training/validation statistics \n",
        "    # calculate average loss over an epoch\n",
        "    train_loss = train_loss / len(train_loader.sampler)\n",
        "    valid_loss = valid_loss / len(valid_loader.sampler)"
      ],
      "execution_count": 28,
      "outputs": []
    },
    {
      "cell_type": "code",
      "metadata": {
        "id": "doMPGM-9xRRT"
      },
      "source": [
        "losses.sort() # batch size 10, epoch 100"
      ],
      "execution_count": 29,
      "outputs": []
    },
    {
      "cell_type": "code",
      "metadata": {
        "colab": {
          "base_uri": "https://localhost:8080/",
          "height": 298
        },
        "id": "rHHxJWX1xS58",
        "outputId": "335d406f-6878-430f-f0b3-3af092d84bee"
      },
      "source": [
        "plt.plot(losses, color = \"darkviolet\")\n",
        "plt.title(\"Pytorch torchvision dataset | Batch size 10, epoch 100 Loss\")"
      ],
      "execution_count": 30,
      "outputs": [
        {
          "output_type": "execute_result",
          "data": {
            "text/plain": [
              "Text(0.5, 1.0, 'Pytorch torchvision dataset | Batch size 10, epoch 100 Loss')"
            ]
          },
          "metadata": {},
          "execution_count": 30
        },
        {
          "output_type": "display_data",
          "data": {
            "image/png": "[encoded data removed]",
            "text/plain": [
              "<Figure size 432x288 with 1 Axes>"
            ]
          },
          "metadata": {
            "needs_background": "light"
          }
        }
      ]
    },
    {
      "cell_type": "code",
      "metadata": {
        "colab": {
          "base_uri": "https://localhost:8080/"
        },
        "id": "ELQ5kfjoxela",
        "outputId": "86dbae83-1e1f-41da-a495-f064fb9c0536"
      },
      "source": [
        "    print(\"Batch size 10\")\n",
        "    print('Epoch: {} \\tTraining Loss: {:.6f} \\tValidation Loss: {:.6f}'.format(epoch+1, train_loss, valid_loss))"
      ],
      "execution_count": 31,
      "outputs": [
        {
          "output_type": "stream",
          "name": "stdout",
          "text": [
            "Batch size 10\n",
            "Epoch: 100 \tTraining Loss: 0.000921 \tValidation Loss: 0.000000\n"
          ]
        }
      ]
    },
    {
      "cell_type": "code",
      "metadata": {
        "colab": {
          "base_uri": "https://localhost:8080/"
        },
        "id": "JYh3gezpxkrU",
        "outputId": "30b6e089-3b92-44f5-9980-e577857d8e21"
      },
      "source": [
        "    # save model if validation loss has decreased\n",
        "    if valid_loss <= valid_loss_min:\n",
        "        print('Validation loss decreased ({:.6f} --> {:.6f}).  Saving model ...'.format(\n",
        "        valid_loss_min,\n",
        "        valid_loss))\n",
        "        torch.save(model.state_dict(), 'model.pt')\n",
        "        valid_loss_min = valid_loss    # save model if validation loss has decreased"
      ],
      "execution_count": 32,
      "outputs": [
        {
          "output_type": "stream",
          "name": "stdout",
          "text": [
            "Validation loss decreased (inf --> 0.000000).  Saving model ...\n",
            "Validation loss decreased (0.000000 --> 0.000000).  Saving model ...\n"
          ]
        }
      ]
    },
    {
      "cell_type": "code",
      "metadata": {
        "colab": {
          "base_uri": "https://localhost:8080/"
        },
        "id": "riPtqjvYxqS5",
        "outputId": "aafbc6e8-f1be-4b44-ef0a-5990323d27c6"
      },
      "source": [
        "model.load_state_dict(torch.load('model.pt'))"
      ],
      "execution_count": 33,
      "outputs": [
        {
          "output_type": "execute_result",
          "data": {
            "text/plain": [
              "<All keys matched successfully>"
            ]
          },
          "metadata": {},
          "execution_count": 33
        }
      ]
    },
    {
      "cell_type": "code",
      "metadata": {
        "colab": {
          "base_uri": "https://localhost:8080/"
        },
        "id": "5-FxzZDOxvm8",
        "outputId": "f94fa533-0a35-4c5e-ebd5-4e20b39166d7"
      },
      "source": [
        "test_loss = 0.0 # init\n",
        "class_correct = list(0. for i in range(10))\n",
        "class_total = list(0. for i in range(10))\n",
        "model.eval()"
      ],
      "execution_count": 34,
      "outputs": [
        {
          "output_type": "execute_result",
          "data": {
            "text/plain": [
              "Net(\n",
              "  (fc1): Linear(in_features=784, out_features=512, bias=True)\n",
              "  (fc2): Linear(in_features=512, out_features=512, bias=True)\n",
              "  (fc3): Linear(in_features=512, out_features=10, bias=True)\n",
              "  (droput): Dropout(p=0.2, inplace=False)\n",
              ")"
            ]
          },
          "metadata": {},
          "execution_count": 34
        }
      ]
    },
    {
      "cell_type": "code",
      "metadata": {
        "colab": {
          "base_uri": "https://localhost:8080/"
        },
        "id": "-6CtBhJwxzQE",
        "outputId": "9ef7ed18-8c80-4635-8670-908b906c18af"
      },
      "source": [
        "test_losses = []\n",
        "for data, target in test_loader:\n",
        "    # forward pass: compute predicted outputs by passing inputs to the model\n",
        "    output = model(data)\n",
        "    # calculate the loss\n",
        "    loss = criterion(output, target)\n",
        "    # update test loss \n",
        "    test_loss += loss.item()*data.size(0)\n",
        "    # convert output probabilities to predicted class\n",
        "    _, pred = torch.max(output, 1)\n",
        "    # compare predictions to true label\n",
        "    correct = np.squeeze(pred.eq(target.data.view_as(pred)))\n",
        "\n",
        "    test_losses.append(test_loss/len(test_loader.sampler))\n",
        "    # calculate test accuracy for each object class\n",
        "    for i in range(len(target)):\n",
        "        label = target.data[i]\n",
        "        class_correct[label] += correct[i].item()\n",
        "        class_total[label] += 1\n",
        "# calculate and print avg test loss\n",
        "test_loss = test_loss/len(test_loader.sampler)\n",
        "test_losses.sort()\n",
        "print('Test Loss: {:.6f}\\n'.format(test_loss))\n",
        "for i in range(10):\n",
        "    if class_total[i] > 0:\n",
        "        print('Test Accuracy of %5s: %2d%% (%2d/%2d)' % (\n",
        "            str(i), 100 * class_correct[i] / class_total[i],\n",
        "            np.sum(class_correct[i]), np.sum(class_total[i])))\n",
        "    else:\n",
        "        print('Test Accuracy of %5s: N/A (no training examples)' % (classes[i]))\n",
        "print('\\nTest Accuracy (Overall): %2d%% (%2d/%2d)' % (\n",
        "    100. * np.sum(class_correct) / np.sum(class_total),\n",
        "    np.sum(class_correct), np.sum(class_total)))"
      ],
      "execution_count": 35,
      "outputs": [
        {
          "output_type": "stream",
          "name": "stdout",
          "text": [
            "Test Loss: 0.075032\n",
            "\n",
            "Test Accuracy of     0: 99% (971/980)\n",
            "Test Accuracy of     1: 99% (1127/1135)\n",
            "Test Accuracy of     2: 98% (1013/1032)\n",
            "Test Accuracy of     3: 98% (994/1010)\n",
            "Test Accuracy of     4: 98% (966/982)\n",
            "Test Accuracy of     5: 97% (874/892)\n",
            "Test Accuracy of     6: 98% (945/958)\n",
            "Test Accuracy of     7: 98% (1009/1028)\n",
            "Test Accuracy of     8: 97% (947/974)\n",
            "Test Accuracy of     9: 98% (991/1009)\n",
            "\n",
            "Test Accuracy (Overall): 98% (9837/10000)\n",
            "Test Loss: 0.075039\n",
            "\n",
            "Test Accuracy of     0: 99% (1942/1960)\n",
            "Test Accuracy of     1: 99% (2254/2270)\n",
            "Test Accuracy of     2: 98% (2026/2064)\n",
            "Test Accuracy of     3: 98% (1988/2020)\n",
            "Test Accuracy of     4: 98% (1932/1964)\n",
            "Test Accuracy of     5: 97% (1748/1784)\n",
            "Test Accuracy of     6: 98% (1890/1916)\n",
            "Test Accuracy of     7: 98% (2018/2056)\n",
            "Test Accuracy of     8: 97% (1894/1948)\n",
            "Test Accuracy of     9: 98% (1982/2018)\n",
            "\n",
            "Test Accuracy (Overall): 98% (19674/20000)\n"
          ]
        }
      ]
    },
    {
      "cell_type": "code",
      "metadata": {
        "colab": {
          "base_uri": "https://localhost:8080/",
          "height": 298
        },
        "id": "TO5-CL_ex6HP",
        "outputId": "a279a9e9-6678-4913-920c-be37b7c03e15"
      },
      "source": [
        "plt.plot(test_losses, color = \"magenta\")\n",
        "plt.title(\"Pytorch torchvision dataset | test loss(batch size10, epoch100)\") # epoch 50, batch size"
      ],
      "execution_count": 37,
      "outputs": [
        {
          "output_type": "execute_result",
          "data": {
            "text/plain": [
              "Text(0.5, 1.0, 'Pytorch torchvision dataset | test loss(batch size10, epoch100)')"
            ]
          },
          "metadata": {},
          "execution_count": 37
        },
        {
          "output_type": "display_data",
          "data": {
            "image/png": "[encoded data removed]",
            "text/plain": [
              "<Figure size 432x288 with 1 Axes>"
            ]
          },
          "metadata": {
            "needs_background": "light"
          }
        }
      ]
    },
    {
      "cell_type": "code",
      "metadata": {
        "id": "F6RWVjchyD7J"
      },
      "source": [
        "# batch size 10, epoch 200\n",
        "num_workers = 0\n",
        "batch_size = 10 # batch size 10\n",
        "valid_size = 0.2\n",
        "n_epochs = 200 # epoch 200"
      ],
      "execution_count": 23,
      "outputs": []
    },
    {
      "cell_type": "code",
      "metadata": {
        "id": "NnAvxk8v54xg"
      },
      "source": [
        "# This is torchvision data, but compare with from scratch / n_eopchs 200, batch size 10\n",
        "losses = []\n",
        "valid_loss_min = np.Inf  # set initial \"min\" to infinity\n",
        "for epoch in range(n_epochs):\n",
        "\n",
        "    train_loss = 0\n",
        "    valid_loss = 0\n",
        "    model.train()\n",
        "    for data, label in train_loader:\n",
        "      optimizer.zero_grad()\n",
        "      output = model(data)\n",
        "      loss = criterion(output, label)\n",
        "      loss.backward()\n",
        "      optimizer.step()\n",
        "      train_loss += loss.item()*data.size(0)\n",
        "      losses.append(train_loss/len(train_loader.sampler))"
      ],
      "execution_count": 24,
      "outputs": []
    },
    {
      "cell_type": "code",
      "metadata": {
        "id": "Lz1FYXvP6Hpx"
      },
      "source": [
        "   # validate, \n",
        "   model.eval()  # prep model for evaluation\n",
        "   for data,label in valid_loader:\n",
        "        # forward pass: compute predicted outputs by passing inputs to the model\n",
        "        output = model(data)\n",
        "        # calculate the loss\n",
        "        loss = criterion(output,label)\n",
        "        # update running validation loss \n",
        "        valid_loss = loss.item() * data.size(0)"
      ],
      "execution_count": 25,
      "outputs": []
    },
    {
      "cell_type": "code",
      "metadata": {
        "id": "TtLlc5kx6L99"
      },
      "source": [
        "    # print training/validation statistics \n",
        "    # calculate average loss over an epoch\n",
        "    train_loss = train_loss / len(train_loader.sampler)\n",
        "    valid_loss = valid_loss / len(valid_loader.sampler)"
      ],
      "execution_count": 26,
      "outputs": []
    },
    {
      "cell_type": "code",
      "metadata": {
        "id": "8XXEnPBP6SFR"
      },
      "source": [
        "losses.sort() # batch size 10, epoch 200"
      ],
      "execution_count": 27,
      "outputs": []
    },
    {
      "cell_type": "code",
      "metadata": {
        "colab": {
          "base_uri": "https://localhost:8080/",
          "height": 311
        },
        "id": "fjj05JWA6WK_",
        "outputId": "73b6016e-5d62-4c9c-f08b-fdab1eea1ca2"
      },
      "source": [
        "plt.plot(losses, color = \"aqua\")\n",
        "plt.title(\"Pytorch torchvision dataset | Batch size 10, epoch 200 Loss\")"
      ],
      "execution_count": 28,
      "outputs": [
        {
          "output_type": "execute_result",
          "data": {
            "text/plain": [
              "Text(0.5, 1.0, 'Pytorch torchvision dataset | Batch size 10, epoch 200 Loss')"
            ]
          },
          "metadata": {},
          "execution_count": 28
        },
        {
          "output_type": "display_data",
          "data": {
            "image/png": "[encoded data removed]",
            "text/plain": [
              "<Figure size 432x288 with 1 Axes>"
            ]
          },
          "metadata": {
            "needs_background": "light"
          }
        }
      ]
    },
    {
      "cell_type": "code",
      "metadata": {
        "colab": {
          "base_uri": "https://localhost:8080/"
        },
        "id": "Xlt9J1PG6kAM",
        "outputId": "98e676fe-eae4-4af6-d00b-48c7c4f2565c"
      },
      "source": [
        "    print(\"Batch size 10\")\n",
        "    print('Epoch: {} \\tTraining Loss: {:.6f} \\tValidation Loss: {:.6f}'.format(epoch+1, train_loss, valid_loss))"
      ],
      "execution_count": 29,
      "outputs": [
        {
          "output_type": "stream",
          "name": "stdout",
          "text": [
            "Batch size 10\n",
            "Epoch: 200 \tTraining Loss: 0.000666 \tValidation Loss: 0.000318\n"
          ]
        }
      ]
    },
    {
      "cell_type": "code",
      "metadata": {
        "colab": {
          "base_uri": "https://localhost:8080/"
        },
        "id": "nbNUGvYl6wiz",
        "outputId": "9be83043-f062-47a4-e0e9-b91ea891a610"
      },
      "source": [
        "    # save model if validation loss has decreased\n",
        "    if valid_loss <= valid_loss_min:\n",
        "        print('Validation loss decreased ({:.6f} --> {:.6f}).  Saving model ...'.format(\n",
        "        valid_loss_min,\n",
        "        valid_loss))\n",
        "        torch.save(model.state_dict(), 'model.pt')\n",
        "        valid_loss_min = valid_loss    # save model if validation loss has decreased"
      ],
      "execution_count": 30,
      "outputs": [
        {
          "output_type": "stream",
          "name": "stdout",
          "text": [
            "Validation loss decreased (inf --> 0.000318).  Saving model ...\n"
          ]
        }
      ]
    },
    {
      "cell_type": "code",
      "metadata": {
        "colab": {
          "base_uri": "https://localhost:8080/"
        },
        "id": "LQ_Xhp7e62qM",
        "outputId": "aa8710e1-037f-4548-a503-5dcf68cfb704"
      },
      "source": [
        "model.load_state_dict(torch.load('model.pt'))"
      ],
      "execution_count": 31,
      "outputs": [
        {
          "output_type": "execute_result",
          "data": {
            "text/plain": [
              "<All keys matched successfully>"
            ]
          },
          "metadata": {},
          "execution_count": 31
        }
      ]
    },
    {
      "cell_type": "code",
      "metadata": {
        "colab": {
          "base_uri": "https://localhost:8080/"
        },
        "id": "Ch5fNEo568J5",
        "outputId": "18b45016-619b-4bb0-b989-bc44348fb6ae"
      },
      "source": [
        "test_loss = 0.0 # init\n",
        "class_correct = list(0. for i in range(10))\n",
        "class_total = list(0. for i in range(10))\n",
        "model.eval()"
      ],
      "execution_count": 32,
      "outputs": [
        {
          "output_type": "execute_result",
          "data": {
            "text/plain": [
              "Net(\n",
              "  (fc1): Linear(in_features=784, out_features=512, bias=True)\n",
              "  (fc2): Linear(in_features=512, out_features=512, bias=True)\n",
              "  (fc3): Linear(in_features=512, out_features=10, bias=True)\n",
              "  (droput): Dropout(p=0.2, inplace=False)\n",
              ")"
            ]
          },
          "metadata": {},
          "execution_count": 32
        }
      ]
    },
    {
      "cell_type": "code",
      "metadata": {
        "colab": {
          "base_uri": "https://localhost:8080/"
        },
        "id": "FLwJJghY7Blh",
        "outputId": "aea6daf5-5913-4bee-f842-2a5dc106ba0f"
      },
      "source": [
        "test_losses = []\n",
        "for data, target in test_loader:\n",
        "    # forward pass: compute predicted outputs by passing inputs to the model\n",
        "    output = model(data)\n",
        "    # calculate the loss\n",
        "    loss = criterion(output, target)\n",
        "    # update test loss \n",
        "    test_loss += loss.item()*data.size(0)\n",
        "    # convert output probabilities to predicted class\n",
        "    _, pred = torch.max(output, 1)\n",
        "    # compare predictions to true label\n",
        "    correct = np.squeeze(pred.eq(target.data.view_as(pred)))\n",
        "\n",
        "    test_losses.append(test_loss/len(test_loader.sampler))\n",
        "    # calculate test accuracy for each object class\n",
        "    for i in range(len(target)):\n",
        "        label = target.data[i]\n",
        "        class_correct[label] += correct[i].item()\n",
        "        class_total[label] += 1\n",
        "# calculate and print avg test loss\n",
        "test_loss = test_loss/len(test_loader.sampler)\n",
        "test_losses.sort()\n",
        "print('Test Loss: {:.6f}\\n'.format(test_loss))\n",
        "for i in range(10):\n",
        "    if class_total[i] > 0:\n",
        "        print('Test Accuracy of %5s: %2d%% (%2d/%2d)' % (\n",
        "            str(i), 100 * class_correct[i] / class_total[i],\n",
        "            np.sum(class_correct[i]), np.sum(class_total[i])))\n",
        "    else:\n",
        "        print('Test Accuracy of %5s: N/A (no training examples)' % (classes[i]))\n",
        "print('\\nTest Accuracy (Overall): %2d%% (%2d/%2d)' % (\n",
        "    100. * np.sum(class_correct) / np.sum(class_total),\n",
        "    np.sum(class_correct), np.sum(class_total)))"
      ],
      "execution_count": 33,
      "outputs": [
        {
          "output_type": "stream",
          "name": "stdout",
          "text": [
            "Test Loss: 0.072217\n",
            "\n",
            "Test Accuracy of     0: 99% (973/980)\n",
            "Test Accuracy of     1: 99% (1128/1135)\n",
            "Test Accuracy of     2: 98% (1014/1032)\n",
            "Test Accuracy of     3: 98% (998/1010)\n",
            "Test Accuracy of     4: 98% (964/982)\n",
            "Test Accuracy of     5: 98% (876/892)\n",
            "Test Accuracy of     6: 98% (946/958)\n",
            "Test Accuracy of     7: 97% (1006/1028)\n",
            "Test Accuracy of     8: 97% (954/974)\n",
            "Test Accuracy of     9: 98% (992/1009)\n",
            "\n",
            "Test Accuracy (Overall): 98% (9851/10000)\n"
          ]
        }
      ]
    },
    {
      "cell_type": "code",
      "metadata": {
        "colab": {
          "base_uri": "https://localhost:8080/",
          "height": 298
        },
        "id": "4F6S68_n7ok9",
        "outputId": "a0f0ddee-1590-4ddd-d7b2-850b0dd40984"
      },
      "source": [
        "plt.plot(test_losses, color = \"magenta\")\n",
        "plt.title(\"Pytorch torchvision dataset | test loss(batch size10, epoch200)\") # epoch 50, bachsize"
      ],
      "execution_count": 34,
      "outputs": [
        {
          "output_type": "execute_result",
          "data": {
            "text/plain": [
              "Text(0.5, 1.0, 'Pytorch torchvision dataset | test loss(batch size10, epoch200)')"
            ]
          },
          "metadata": {},
          "execution_count": 34
        },
        {
          "output_type": "display_data",
          "data": {
            "image/png": "[encoded data removed]",
            "text/plain": [
              "<Figure size 432x288 with 1 Axes>"
            ]
          },
          "metadata": {
            "needs_background": "light"
          }
        }
      ]
    },
    {
      "cell_type": "code",
      "metadata": {
        "id": "jsGsDbh-Fq7S"
      },
      "source": [
        ""
      ],
      "execution_count": null,
      "outputs": []
    }
  ]
}