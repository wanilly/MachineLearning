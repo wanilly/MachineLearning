{
  "nbformat": 4,
  "nbformat_minor": 0,
  "metadata": {
    "accelerator": "GPU",
    "colab": {
      "name": "Mnist-MLP(nn).ipynb",
      "provenance": [],
      "collapsed_sections": []
    },
    "kernelspec": {
      "display_name": "Python 3",
      "name": "python3"
    },
    "language_info": {
      "name": "python"
    }
  },
  "cells": [
    {
      "cell_type": "markdown",
      "metadata": {
        "id": "_2VM4BVtKA0_"
      },
      "source": [
        "## We have to python libarary implement and scartch\n",
        "\n",
        "\n",
        "implement backpropagation for MLP and apply it to MNIST with one hidden layer.\n",
        "implement MLP with pytorch (or tensorflow) and apply it to MNIST\n",
        " "
      ]
    },
    {
      "cell_type": "code",
      "metadata": {
        "colab": {
          "base_uri": "https://localhost:8080/"
        },
        "id": "kv7XTRinJonQ",
        "outputId": "054c02fc-dcb4-4dd8-a977-d659add0d82a"
      },
      "source": [
        "# google drive. so we have to monunt\n",
        "from google.colab import drive # /content/drive/MyDrive/project/MachineLearning/dataset/mnist.pkl\n",
        "drive.mount('/content/drive')"
      ],
      "execution_count": null,
      "outputs": [
        {
          "output_type": "stream",
          "name": "stdout",
          "text": [
            "Drive already mounted at /content/drive; to attempt to forcibly remount, call drive.mount(\"/content/drive\", force_remount=True).\n"
          ]
        }
      ]
    },
    {
      "cell_type": "code",
      "metadata": {
        "id": "k0r0GHU3KAoj"
      },
      "source": [
        "# load data. I load \n",
        "import six.moves.cPickle as pickle\n",
        "import gzip\n",
        "import os\n",
        "import numpy as np\n",
        "from PIL import Image\n",
        "import matplotlib.pyplot as plt\n",
        "import matplotlib.cm as cm\n",
        "import random\n",
        "import seaborn as sns\n",
        "import math\n",
        "import pickle\n",
        "import pandas as pd"
      ],
      "execution_count": null,
      "outputs": []
    },
    {
      "cell_type": "code",
      "metadata": {
        "id": "i_AiOXH-KdxQ"
      },
      "source": [
        "def load_data(dataset): # data load : HDLMS source code utilize\n",
        "    data_dir, data_file = os.path.split(dataset)\n",
        "    if data_dir == \"\" and not os.path.isfile(dataset):\n",
        "        # Check if dataset is in the data directory.\n",
        "        new_path = os.path.join(\n",
        "            os.path.split('/content/drive/MyDrive/project/MachineLearning/dataset/')[0],\n",
        "            dataset\n",
        "        )\n",
        "        if os.path.isfile(new_path) or data_file == 'mnist.pkl.gz':\n",
        "            dataset = new_path\n",
        "\n",
        "    if (not os.path.isfile(dataset)) and data_file == 'mnist.pkl.gz':\n",
        "        from six.moves import urllib\n",
        "        origin = (\n",
        "            'http://www.iro.umontreal.ca/~lisa/deep/data/mnist/mnist.pkl.gz'\n",
        "        )\n",
        "        print('Downloading data from %s' % origin)\n",
        "        urllib.request.urlretrieve(origin, dataset)\n",
        "\n",
        "    print('... loading data')\n",
        "\n",
        "    # Load the dataset\n",
        "    with gzip.open(dataset, 'rb') as f:\n",
        "        try:\n",
        "            train_set, valid_set, test_set = pickle.load(f, encoding='latin1')\n",
        "        except:\n",
        "            train_set, valid_set, test_set = pickle.load(f)\n",
        "    # train_set, valid_set, test_set format: tuple(input, target)\n",
        "    # input is a numpy.ndarray of 2 dimensions (a matrix)\n",
        "    # where each row corresponds to an example. target is a\n",
        "    # numpy.ndarray of 1 dimension (vector) that has the same length as\n",
        "    # the number of rows in the input. It should give the target\n",
        "    # to the example with the same index in the input.\n",
        "\n",
        "    return train_set, valid_set, test_set"
      ],
      "execution_count": null,
      "outputs": []
    },
    {
      "cell_type": "code",
      "metadata": {
        "colab": {
          "base_uri": "https://localhost:8080/"
        },
        "id": "HF5wCV5xKggA",
        "outputId": "9122a2fd-4690-48c8-c399-13d2df43b3f2"
      },
      "source": [
        "if __name__ == '__main__':\n",
        "    train_set, val_set, test_set = load_data('mnist.pkl.gz')\n",
        "\n",
        "    train_x, train_y = train_set\n",
        "    val_x, val_y = val_set\n",
        "    test_x, test_y = test_set\n",
        "    \n",
        "    print(train_x.shape)\n",
        "    print(train_y.shape)"
      ],
      "execution_count": null,
      "outputs": [
        {
          "output_type": "stream",
          "name": "stdout",
          "text": [
            "... loading data\n",
            "(50000, 784)\n",
            "(50000,)\n"
          ]
        }
      ]
    },
    {
      "cell_type": "code",
      "metadata": {
        "colab": {
          "base_uri": "https://localhost:8080/"
        },
        "id": "8F8DzcgkkCyG",
        "outputId": "c35c2bb8-4e8f-48de-a6a2-c30b9001c5ee"
      },
      "source": [
        "print(val_x.shape)\n",
        "print(val_y.shape)"
      ],
      "execution_count": null,
      "outputs": [
        {
          "output_type": "stream",
          "name": "stdout",
          "text": [
            "(10000, 784)\n",
            "(10000,)\n"
          ]
        }
      ]
    },
    {
      "cell_type": "code",
      "metadata": {
        "id": "rs5GbCiPL3sF"
      },
      "source": [
        "import numpy as np\n",
        "from urllib import request\n",
        "import gzip\n",
        "import pickle"
      ],
      "execution_count": null,
      "outputs": []
    },
    {
      "cell_type": "code",
      "metadata": {
        "id": "6cRryTjlL356"
      },
      "source": [
        "def load():\n",
        "    with open(\"mnist.pkl\",'rb') as f:\n",
        "        mnist = pickle.load(f)\n",
        "    return mnist[\"training_images\"], mnist[\"training_labels\"], mnist[\"test_images\"], mnist[\"test_labels\"]"
      ],
      "execution_count": null,
      "outputs": []
    },
    {
      "cell_type": "code",
      "metadata": {
        "id": "jQjVnwboVZXb"
      },
      "source": [
        "eta=0.001\n",
        "alpha=0.001\n",
        "n_iter= 50 # epoch\n",
        "batch_size= 50 # batch size 50"
      ],
      "execution_count": null,
      "outputs": []
    },
    {
      "cell_type": "code",
      "metadata": {
        "id": "pWyxYUbtL4FD"
      },
      "source": [
        "class MLP(object):\n",
        "    def __init__(self, eta=eta, alpha=alpha, n_iter=n_iter, batch_size=batch_size):\n",
        "        self.eta = eta\n",
        "        self.alpha = alpha\n",
        "        self.n_iter = n_iter\n",
        "        self.batch_size = batch_size\n",
        "\n",
        "    def one_hot_enc(self, y, num_labels=10):\n",
        "        one_hot = np.zeros((num_labels, y.shape[0]), dtype=np.float32)\n",
        "    \n",
        "        for i, val in enumerate(y):\n",
        "            one_hot[val,i] = 1.0\n",
        "    \n",
        "        return one_hot\n",
        "\n",
        "    def init_weights(self, n_input, n_hidden_1, n_hidden_2, n_output, batch_size):\n",
        "        w1 = np.random.randn(n_hidden_1, n_input+1)\n",
        "        w2 = np.random.randn(n_hidden_2, n_hidden_1+1)\n",
        "        w3 = np.random.randn(n_output, n_hidden_2+1)\n",
        "        \n",
        "        return w1, w2, w3\n",
        "\n",
        "\n",
        "    def add_bias_unit(self, layer, orientation):\n",
        "        if orientation == 'row':\n",
        "            updated_layer = np.ones((layer.shape[0]+1, layer.shape[1]))\n",
        "            updated_layer[1:, :] = layer\n",
        "        elif orientation == 'col':\n",
        "            updated_layer = np.ones((layer.shape[0], layer.shape[1] + 1))\n",
        "            updated_layer[:, 1:] = layer\n",
        "    \n",
        "        return updated_layer\n",
        "\n",
        "\n",
        "    def compute_forward_pass(self, input):\n",
        "        a1 = self.add_bias_unit(input, orientation='col')\n",
        "    \n",
        "        z2 = np.matmul(self.w1, a1.transpose(1, 0))\n",
        "        a2 = 1/(1 + np.exp(-z2))\n",
        "        a2 = self.add_bias_unit(a2, orientation='row')\n",
        "    \n",
        "        z3 = np.matmul(self.w2, a2)\n",
        "        a3 = 1/(1 + np.exp(-z3))\n",
        "        a3 = self.add_bias_unit(a3, orientation='row')\n",
        "    \n",
        "        z4 = np.matmul(self.w3, a3)\n",
        "        a4 = 1/(1 + np.exp(-z4))\n",
        "    \n",
        "        return a1, z2, a2, z3, a3, z4, a4\n",
        "\n",
        "\n",
        "    def predict(self, a4):\n",
        "        prediction = np.argmax(a4, axis=0)\n",
        "        return prediction\n",
        "\n",
        "    def compute_loss(self, prediction, label):\n",
        "        term_1 = -1*label * np.log(prediction)\n",
        "        term_2 = (1-label)*(np.log(1-prediction))\n",
        "    \n",
        "        loss = np.sum(term_1 - term_2)\n",
        "        return loss\n",
        "\n",
        "\n",
        "    def compute_backward_pass(self, outputs, label):\n",
        "        a1, z2, a2, z3, a3, z4, a4 = outputs\n",
        "    \n",
        "        delta_4 = a4 - label\n",
        "        sig_z3 = np.array(1/(1 + np.exp(-z3)))\n",
        "        delta_3 = np.matmul(self.w3[:,1:].transpose(),delta_4)*sig_z3*(1-sig_z3)\n",
        "               \n",
        "        sig_z2 = np.array(1/(1 + np.exp(-z2)))\n",
        "        delta_2 = np.matmul(self.w2[:,1:], delta_3)*(sig_z2)*(1-(sig_z2))\n",
        "    \n",
        "        grad_w1 = np.matmul(delta_2, a1)\n",
        "        grad_w2 = np.matmul(delta_3, a2.transpose())\n",
        "        grad_w3 = np.matmul(delta_4, a3.transpose())\n",
        "    \n",
        "        return grad_w1, grad_w2, grad_w3\n",
        "            \n",
        "    def norm(self, X, x_min, x_max):\n",
        "        nom = (X-X.min(axis=0))*(x_max-x_min)\n",
        "        denom = X.max(axis=0) - X.min(axis=0)\n",
        "        denom[denom==0] = 1\n",
        "        return x_min + nom/denom \n",
        "\n",
        "\n",
        "    def prep_data(self, X, y):\n",
        "        X_ = []\n",
        "        y_ = []\n",
        "        \n",
        "        itr = int(len(y)/self.batch_size)+1\n",
        "        for j in range(1,itr):\n",
        "            rng = j*self.batch_size\n",
        "            X_.append(X[rng-self.batch_size:rng, :])\n",
        "            y_.append(y[rng-self.batch_size:rng])\n",
        "        \n",
        "        X, y = np.array(X_), np.array(y_)\n",
        "        X = self.norm(X, 0, 1)\n",
        "        \n",
        "        return X, y\n",
        "\n",
        "\n",
        "    def fit(self, X, y):\n",
        "        n_input = len(X[0,0,:]) #returns the flattened image size (28*28 = 784)\n",
        "    \n",
        "        n_hidden_1, n_hidden_2, n_output = 100, 100, 10\n",
        "        self.w1, self.w2, self.w3 = self.init_weights(n_input, n_hidden_1, n_hidden_2,\n",
        "                                    n_output, self.batch_size)\n",
        "\n",
        "        delta_w1_prev = np.zeros(self.w1.shape)\n",
        "        delta_w2_prev = np.zeros(self.w2.shape)\n",
        "        delta_w3_prev = np.zeros(self.w3.shape)\n",
        "        \n",
        "        train_losses = []\n",
        "        train_acc = []\n",
        "    \n",
        "    \n",
        "        for i in range(self.n_iter):\n",
        "            for j, (input, label) in enumerate(zip(X, y)):\n",
        "                one_hot_label = self.one_hot_enc(label, num_labels=10)\n",
        "                \n",
        "                a1, z2, a2, z3, a3, z4, a4 = self.compute_forward_pass(input)\n",
        "                loss = self.compute_loss(a4, one_hot_label)\n",
        "                grad1, grad2, grad3 = self.compute_backward_pass([a1, z2, a2, z3, a3, z4, a4],\n",
        "                                                one_hot_label)\n",
        "    \n",
        "                delta_w1, delta_w2, delta_w3 = self.eta*grad1, self.eta*grad2, self.eta*grad3\n",
        "    \n",
        "                self.w1 -= delta_w1 + delta_w1_prev*self.alpha\n",
        "                self.w2 -= delta_w2 + delta_w2_prev*self.alpha\n",
        "                self.w3 -= delta_w3 + delta_w3_prev*self.alpha\n",
        "    \n",
        "                delta_w1_prev, delta_w2_prev, delta_w3_prev = delta_w1, delta_w2, delta_w3\n",
        "    \n",
        "                train_losses.append(loss)\n",
        "                predictions = self.predict(a4)\n",
        "    \n",
        "                wrong = np.where(predictions != label,\n",
        "                                np.matrix([1.]), np.matrix([0.]))\n",
        "    \n",
        "                accuracy = 1 - np.sum(wrong)/self.batch_size\n",
        "    \n",
        "                train_acc.append(accuracy)\n",
        "    \n",
        "            print('epoch ', i, 'training accuracy %.2f' %\n",
        "                    np.mean(np.matrix(train_acc)).item())\n",
        "            \n",
        "        train_losses.sort()        \n",
        "        plt.plot(train_losses, \"deeppink\")\n",
        "        plt.title(\"MLP epoch 50 , loss\")\n",
        "        plt.show()"
      ],
      "execution_count": null,
      "outputs": []
    },
    {
      "cell_type": "code",
      "metadata": {
        "colab": {
          "base_uri": "https://localhost:8080/",
          "height": 1000
        },
        "id": "HXCwx14j9yqr",
        "outputId": "40a4c6fa-f8dd-41d9-fd93-59b4b7294a88"
      },
      "source": [
        "if __name__ == '__main__':\n",
        "  print(\"n_iter: 50\")\n",
        "  mlp = MLP()\n",
        "  # X_train, y_train, X_test, y_test = mnist.load()\n",
        "  train_x, train_y = mlp.prep_data(train_x, train_y)\n",
        "  mlp.fit(train_x, train_y)"
      ],
      "execution_count": null,
      "outputs": [
        {
          "name": "stdout",
          "output_type": "stream",
          "text": [
            "n_iter: 50\n",
            "epoch  0 training accuracy 0.45\n",
            "epoch  1 training accuracy 0.56\n",
            "epoch  2 training accuracy 0.61\n",
            "epoch  3 training accuracy 0.65\n",
            "epoch  4 training accuracy 0.68\n",
            "epoch  5 training accuracy 0.70\n",
            "epoch  6 training accuracy 0.72\n",
            "epoch  7 training accuracy 0.73\n",
            "epoch  8 training accuracy 0.75\n",
            "epoch  9 training accuracy 0.76\n",
            "epoch  10 training accuracy 0.77\n",
            "epoch  11 training accuracy 0.78\n",
            "epoch  12 training accuracy 0.78\n",
            "epoch  13 training accuracy 0.79\n",
            "epoch  14 training accuracy 0.80\n",
            "epoch  15 training accuracy 0.80\n",
            "epoch  16 training accuracy 0.81\n",
            "epoch  17 training accuracy 0.81\n",
            "epoch  18 training accuracy 0.82\n",
            "epoch  19 training accuracy 0.82\n",
            "epoch  20 training accuracy 0.82\n",
            "epoch  21 training accuracy 0.83\n",
            "epoch  22 training accuracy 0.83\n",
            "epoch  23 training accuracy 0.83\n",
            "epoch  24 training accuracy 0.84\n",
            "epoch  25 training accuracy 0.84\n",
            "epoch  26 training accuracy 0.84\n",
            "epoch  27 training accuracy 0.84\n",
            "epoch  28 training accuracy 0.85\n",
            "epoch  29 training accuracy 0.85\n",
            "epoch  30 training accuracy 0.85\n",
            "epoch  31 training accuracy 0.85\n",
            "epoch  32 training accuracy 0.85\n",
            "epoch  33 training accuracy 0.86\n",
            "epoch  34 training accuracy 0.86\n",
            "epoch  35 training accuracy 0.86\n",
            "epoch  36 training accuracy 0.86\n",
            "epoch  37 training accuracy 0.86\n",
            "epoch  38 training accuracy 0.87\n",
            "epoch  39 training accuracy 0.87\n",
            "epoch  40 training accuracy 0.87\n",
            "epoch  41 training accuracy 0.87\n",
            "epoch  42 training accuracy 0.87\n",
            "epoch  43 training accuracy 0.87\n",
            "epoch  44 training accuracy 0.87\n",
            "epoch  45 training accuracy 0.88\n",
            "epoch  46 training accuracy 0.88\n",
            "epoch  47 training accuracy 0.88\n",
            "epoch  48 training accuracy 0.88\n",
            "epoch  49 training accuracy 0.88\n"
          ]
        },
        {
          "data": {
            "image/png": "[encoded data removed]",
            "text/plain": [
              "<Figure size 432x288 with 1 Axes>"
            ]
          },
          "metadata": {},
          "output_type": "display_data"
        }
      ]
    },
    {
      "cell_type": "code",
      "metadata": {
        "id": "yfJydzIx_AZV"
      },
      "source": [
        "eta=0.01\n",
        "alpha=0.001\n",
        "n_iter= 50 # epoch\n",
        "batch_size= 50 #"
      ],
      "execution_count": null,
      "outputs": []
    },
    {
      "cell_type": "code",
      "metadata": {
        "colab": {
          "base_uri": "https://localhost:8080/"
        },
        "id": "dVnG8_qc_6tI",
        "outputId": "9a2ab0b4-1d4f-435c-a399-1b793b9f9b48"
      },
      "source": [
        "if __name__ == '__main__':\n",
        "    train_set, val_set, test_set = load_data('mnist.pkl.gz')\n",
        "\n",
        "    train_x, train_y = train_set\n",
        "    val_x, val_y = val_set\n",
        "    test_x, test_y = test_set\n",
        "    \n",
        "    print(train_x.shape)\n",
        "    print(train_y.shape)"
      ],
      "execution_count": null,
      "outputs": [
        {
          "output_type": "stream",
          "name": "stdout",
          "text": [
            "... loading data\n",
            "(50000, 784)\n",
            "(50000,)\n"
          ]
        }
      ]
    },
    {
      "cell_type": "code",
      "metadata": {
        "id": "TuF2sd7UmL5E"
      },
      "source": [
        "class MLP(object):\n",
        "    def __init__(self, eta=eta, alpha=alpha, n_iter=n_iter, batch_size=batch_size):\n",
        "        self.eta = eta\n",
        "        self.alpha = alpha\n",
        "        self.n_iter = n_iter\n",
        "        self.batch_size = batch_size\n",
        "\n",
        "    def one_hot_enc(self, y, num_labels=10):\n",
        "        one_hot = np.zeros((num_labels, y.shape[0]), dtype=np.float32)\n",
        "    \n",
        "        for i, val in enumerate(y):\n",
        "            one_hot[val,i] = 1.0\n",
        "    \n",
        "        return one_hot\n",
        "\n",
        "    def init_weights(self, n_input, n_hidden_1, n_hidden_2, n_output, batch_size):\n",
        "        w1 = np.random.randn(n_hidden_1, n_input+1)\n",
        "        w2 = np.random.randn(n_hidden_2, n_hidden_1+1)\n",
        "        w3 = np.random.randn(n_output, n_hidden_2+1)\n",
        "        \n",
        "        return w1, w2, w3\n",
        "\n",
        "\n",
        "    def add_bias_unit(self, layer, orientation):\n",
        "        if orientation == 'row':\n",
        "            updated_layer = np.ones((layer.shape[0]+1, layer.shape[1]))\n",
        "            updated_layer[1:, :] = layer\n",
        "        elif orientation == 'col':\n",
        "            updated_layer = np.ones((layer.shape[0], layer.shape[1] + 1))\n",
        "            updated_layer[:, 1:] = layer\n",
        "    \n",
        "        return updated_layer\n",
        "\n",
        "\n",
        "    def compute_forward_pass(self, input):\n",
        "        a1 = self.add_bias_unit(input, orientation='col')\n",
        "    \n",
        "        z2 = np.matmul(self.w1, a1.transpose(1, 0))\n",
        "        a2 = 1/(1 + np.exp(-z2))\n",
        "        a2 = self.add_bias_unit(a2, orientation='row')\n",
        "    \n",
        "        z3 = np.matmul(self.w2, a2)\n",
        "        a3 = 1/(1 + np.exp(-z3))\n",
        "        a3 = self.add_bias_unit(a3, orientation='row')\n",
        "    \n",
        "        z4 = np.matmul(self.w3, a3)\n",
        "        a4 = 1/(1 + np.exp(-z4))\n",
        "    \n",
        "        return a1, z2, a2, z3, a3, z4, a4\n",
        "\n",
        "\n",
        "    def predict(self, a4):\n",
        "        prediction = np.argmax(a4, axis=0)\n",
        "        return prediction\n",
        "\n",
        "    def compute_loss(self, prediction, label):\n",
        "        term_1 = -1*label * np.log(prediction)\n",
        "        term_2 = (1-label)*(np.log(1-prediction))\n",
        "    \n",
        "        loss = np.sum(term_1 - term_2)\n",
        "        return loss\n",
        "\n",
        "\n",
        "    def compute_backward_pass(self, outputs, label):\n",
        "        a1, z2, a2, z3, a3, z4, a4 = outputs\n",
        "    \n",
        "        delta_4 = a4 - label\n",
        "        sig_z3 = np.array(1/(1 + np.exp(-z3)))\n",
        "        delta_3 = np.matmul(self.w3[:,1:].transpose(),delta_4)*sig_z3*(1-sig_z3)\n",
        "               \n",
        "        sig_z2 = np.array(1/(1 + np.exp(-z2)))\n",
        "        delta_2 = np.matmul(self.w2[:,1:], delta_3)*(sig_z2)*(1-(sig_z2))\n",
        "    \n",
        "        grad_w1 = np.matmul(delta_2, a1)\n",
        "        grad_w2 = np.matmul(delta_3, a2.transpose())\n",
        "        grad_w3 = np.matmul(delta_4, a3.transpose())\n",
        "    \n",
        "        return grad_w1, grad_w2, grad_w3\n",
        "            \n",
        "    def norm(self, X, x_min, x_max):\n",
        "        nom = (X-X.min(axis=0))*(x_max-x_min)\n",
        "        denom = X.max(axis=0) - X.min(axis=0)\n",
        "        denom[denom==0] = 1\n",
        "        return x_min + nom/denom \n",
        "\n",
        "\n",
        "    def prep_data(self, X, y):\n",
        "        X_ = []\n",
        "        y_ = []\n",
        "        \n",
        "        itr = int(len(y)/self.batch_size)+1\n",
        "        for j in range(1,itr):\n",
        "            rng = j*self.batch_size\n",
        "            X_.append(X[rng-self.batch_size:rng, :])\n",
        "            y_.append(y[rng-self.batch_size:rng])\n",
        "        \n",
        "        X, y = np.array(X_), np.array(y_)\n",
        "        X = self.norm(X, 0, 1)\n",
        "        \n",
        "        return X, y\n",
        "\n",
        "\n",
        "    def fit(self, X, y):\n",
        "        n_input = len(X[0,0,:]) #returns the flattened image size (28*28 = 784)\n",
        "    \n",
        "        n_hidden_1, n_hidden_2, n_output = 100, 100, 10\n",
        "        self.w1, self.w2, self.w3 = self.init_weights(n_input, n_hidden_1, n_hidden_2,\n",
        "                                    n_output, self.batch_size)\n",
        "\n",
        "        delta_w1_prev = np.zeros(self.w1.shape)\n",
        "        delta_w2_prev = np.zeros(self.w2.shape)\n",
        "        delta_w3_prev = np.zeros(self.w3.shape)\n",
        "        \n",
        "        train_losses = []\n",
        "        train_acc = []\n",
        "    \n",
        "        train_losses.sort()\n",
        "        for i in range(self.n_iter):\n",
        "            for j, (input, label) in enumerate(zip(X, y)):\n",
        "                one_hot_label = self.one_hot_enc(label, num_labels=10)\n",
        "                \n",
        "                a1, z2, a2, z3, a3, z4, a4 = self.compute_forward_pass(input)\n",
        "                loss = self.compute_loss(a4, one_hot_label)\n",
        "                grad1, grad2, grad3 = self.compute_backward_pass([a1, z2, a2, z3, a3, z4, a4],\n",
        "                                                one_hot_label)\n",
        "    \n",
        "                delta_w1, delta_w2, delta_w3 = self.eta*grad1, self.eta*grad2, self.eta*grad3\n",
        "    \n",
        "                self.w1 -= delta_w1 + delta_w1_prev*self.alpha\n",
        "                self.w2 -= delta_w2 + delta_w2_prev*self.alpha\n",
        "                self.w3 -= delta_w3 + delta_w3_prev*self.alpha\n",
        "    \n",
        "                delta_w1_prev, delta_w2_prev, delta_w3_prev = delta_w1, delta_w2, delta_w3\n",
        "    \n",
        "                #train_losses.append(loss)\n",
        "                \n",
        "                predictions = self.predict(a4)\n",
        "    \n",
        "                wrong = np.where(predictions != label,\n",
        "                                np.matrix([1.]), np.matrix([0.]))\n",
        "    \n",
        "                accuracy = 1 - np.sum(wrong)/self.batch_size\n",
        "    \n",
        "                train_acc.append(accuracy)\n",
        "                train_losses.append(loss/len(X))\n",
        "            print('epoch ', i, 'training accuracy %.2f' %\n",
        "                    np.mean(np.matrix(train_acc)).item())\n",
        "\n",
        "\n",
        "        train_losses.sort()        \n",
        "        plt.plot(train_losses, \"deepskyblue\")\n",
        "        plt.title(\"MLP epoch 50, batch size 50 | loss\")\n",
        "        plt.show()"
      ],
      "execution_count": null,
      "outputs": []
    },
    {
      "cell_type": "code",
      "metadata": {
        "colab": {
          "base_uri": "https://localhost:8080/",
          "height": 1000
        },
        "id": "rpmPKJYb_w2M",
        "outputId": "2037240e-74e8-4f63-c33f-3208a08be384"
      },
      "source": [
        "if __name__ == '__main__':\n",
        "  print(\"n_iter: 50 / learning rate 0.01\")\n",
        "  mlp = MLP()\n",
        "  # X_train, y_train, X_test, y_test = mnist.load()\n",
        "  train_x, train_y = mlp.prep_data(train_x, train_y)\n",
        "  mlp.fit(train_x, train_y) # learning rate 0.01 # batch size 50 # epoch 50  # error / len(X) zip(X, y) the "
      ],
      "execution_count": null,
      "outputs": [
        {
          "output_type": "stream",
          "name": "stdout",
          "text": [
            "n_iter: 50 / learning rate 0.01\n",
            "epoch  0 training accuracy 0.74\n",
            "epoch  1 training accuracy 0.81\n",
            "epoch  2 training accuracy 0.84\n",
            "epoch  3 training accuracy 0.86\n",
            "epoch  4 training accuracy 0.87\n",
            "epoch  5 training accuracy 0.88\n",
            "epoch  6 training accuracy 0.89\n",
            "epoch  7 training accuracy 0.90\n",
            "epoch  8 training accuracy 0.90\n",
            "epoch  9 training accuracy 0.91\n",
            "epoch  10 training accuracy 0.91\n",
            "epoch  11 training accuracy 0.92\n",
            "epoch  12 training accuracy 0.92\n",
            "epoch  13 training accuracy 0.92\n",
            "epoch  14 training accuracy 0.92\n",
            "epoch  15 training accuracy 0.93\n",
            "epoch  16 training accuracy 0.93\n",
            "epoch  17 training accuracy 0.93\n",
            "epoch  18 training accuracy 0.93\n",
            "epoch  19 training accuracy 0.94\n",
            "epoch  20 training accuracy 0.94\n",
            "epoch  21 training accuracy 0.94\n",
            "epoch  22 training accuracy 0.94\n",
            "epoch  23 training accuracy 0.94\n",
            "epoch  24 training accuracy 0.94\n",
            "epoch  25 training accuracy 0.95\n",
            "epoch  26 training accuracy 0.95\n",
            "epoch  27 training accuracy 0.95\n",
            "epoch  28 training accuracy 0.95\n",
            "epoch  29 training accuracy 0.95\n",
            "epoch  30 training accuracy 0.95\n",
            "epoch  31 training accuracy 0.95\n",
            "epoch  32 training accuracy 0.95\n",
            "epoch  33 training accuracy 0.95\n",
            "epoch  34 training accuracy 0.96\n",
            "epoch  35 training accuracy 0.96\n",
            "epoch  36 training accuracy 0.96\n",
            "epoch  37 training accuracy 0.96\n",
            "epoch  38 training accuracy 0.96\n",
            "epoch  39 training accuracy 0.96\n",
            "epoch  40 training accuracy 0.96\n",
            "epoch  41 training accuracy 0.96\n",
            "epoch  42 training accuracy 0.96\n",
            "epoch  43 training accuracy 0.96\n",
            "epoch  44 training accuracy 0.96\n",
            "epoch  45 training accuracy 0.96\n",
            "epoch  46 training accuracy 0.96\n",
            "epoch  47 training accuracy 0.97\n",
            "epoch  48 training accuracy 0.97\n",
            "epoch  49 training accuracy 0.97\n"
          ]
        },
        {
          "output_type": "display_data",
          "data": {
            "image/png": "[encoded data removed]",
            "text/plain": [
              "<Figure size 432x288 with 1 Axes>"
            ]
          },
          "metadata": {
            "needs_background": "light"
          }
        }
      ]
    },
    {
      "cell_type": "code",
      "metadata": {
        "id": "dC6PDYwv_SWt"
      },
      "source": [
        "eta=0.01\n",
        "alpha=0.001\n",
        "n_iter= 100 # epoch\n",
        "batch_size= 50"
      ],
      "execution_count": null,
      "outputs": []
    },
    {
      "cell_type": "code",
      "metadata": {
        "colab": {
          "base_uri": "https://localhost:8080/"
        },
        "id": "LEiMYiF8DpYr",
        "outputId": "3fe8d198-a480-4453-e63b-1170b6ac23d8"
      },
      "source": [
        "if __name__ == '__main__':\n",
        "    train_set, val_set, test_set = load_data('mnist.pkl.gz')\n",
        "\n",
        "    train_x, train_y = train_set\n",
        "    val_x, val_y = val_set\n",
        "    test_x, test_y = test_set\n",
        "    \n",
        "    print(train_x.shape)\n",
        "    print(train_y.shape)"
      ],
      "execution_count": null,
      "outputs": [
        {
          "output_type": "stream",
          "name": "stdout",
          "text": [
            "... loading data\n",
            "(50000, 784)\n",
            "(50000,)\n"
          ]
        }
      ]
    },
    {
      "cell_type": "code",
      "metadata": {
        "id": "BQyE6m3KDptB"
      },
      "source": [
        "class MLP(object):\n",
        "    def __init__(self, eta=eta, alpha=alpha, n_iter=n_iter, batch_size=batch_size):\n",
        "        self.eta = eta\n",
        "        self.alpha = alpha\n",
        "        self.n_iter = n_iter\n",
        "        self.batch_size = batch_size\n",
        "\n",
        "    def one_hot_enc(self, y, num_labels=10):\n",
        "        one_hot = np.zeros((num_labels, y.shape[0]), dtype=np.float32)\n",
        "    \n",
        "        for i, val in enumerate(y):\n",
        "            one_hot[val,i] = 1.0\n",
        "    \n",
        "        return one_hot\n",
        "\n",
        "    def init_weights(self, n_input, n_hidden_1, n_hidden_2, n_output, batch_size):\n",
        "        w1 = np.random.randn(n_hidden_1, n_input+1)\n",
        "        w2 = np.random.randn(n_hidden_2, n_hidden_1+1)\n",
        "        w3 = np.random.randn(n_output, n_hidden_2+1)\n",
        "        \n",
        "        return w1, w2, w3\n",
        "\n",
        "\n",
        "    def add_bias_unit(self, layer, orientation):\n",
        "        if orientation == 'row':\n",
        "            updated_layer = np.ones((layer.shape[0]+1, layer.shape[1]))\n",
        "            updated_layer[1:, :] = layer\n",
        "        elif orientation == 'col':\n",
        "            updated_layer = np.ones((layer.shape[0], layer.shape[1] + 1))\n",
        "            updated_layer[:, 1:] = layer\n",
        "    \n",
        "        return updated_layer\n",
        "\n",
        "\n",
        "    def compute_forward_pass(self, input):\n",
        "        a1 = self.add_bias_unit(input, orientation='col')\n",
        "    \n",
        "        z2 = np.matmul(self.w1, a1.transpose(1, 0))\n",
        "        a2 = 1/(1 + np.exp(-z2))\n",
        "        a2 = self.add_bias_unit(a2, orientation='row')\n",
        "    \n",
        "        z3 = np.matmul(self.w2, a2)\n",
        "        a3 = 1/(1 + np.exp(-z3))\n",
        "        a3 = self.add_bias_unit(a3, orientation='row')\n",
        "    \n",
        "        z4 = np.matmul(self.w3, a3)\n",
        "        a4 = 1/(1 + np.exp(-z4))\n",
        "    \n",
        "        return a1, z2, a2, z3, a3, z4, a4\n",
        "\n",
        "\n",
        "    def predict(self, a4):\n",
        "        prediction = np.argmax(a4, axis=0)\n",
        "        return prediction\n",
        "\n",
        "    def compute_loss(self, prediction, label):\n",
        "        term_1 = -1*label * np.log(prediction)\n",
        "        term_2 = (1-label)*(np.log(1-prediction))\n",
        "    \n",
        "        loss = np.sum(term_1 - term_2)\n",
        "        return loss\n",
        "\n",
        "\n",
        "    def compute_backward_pass(self, outputs, label):\n",
        "        a1, z2, a2, z3, a3, z4, a4 = outputs\n",
        "    \n",
        "        delta_4 = a4 - label\n",
        "        sig_z3 = np.array(1/(1 + np.exp(-z3)))\n",
        "        delta_3 = np.matmul(self.w3[:,1:].transpose(),delta_4)*sig_z3*(1-sig_z3)\n",
        "               \n",
        "        sig_z2 = np.array(1/(1 + np.exp(-z2)))\n",
        "        delta_2 = np.matmul(self.w2[:,1:], delta_3)*(sig_z2)*(1-(sig_z2))\n",
        "    \n",
        "        grad_w1 = np.matmul(delta_2, a1)\n",
        "        grad_w2 = np.matmul(delta_3, a2.transpose())\n",
        "        grad_w3 = np.matmul(delta_4, a3.transpose())\n",
        "    \n",
        "        return grad_w1, grad_w2, grad_w3\n",
        "            \n",
        "    def norm(self, X, x_min, x_max):\n",
        "        nom = (X-X.min(axis=0))*(x_max-x_min)\n",
        "        denom = X.max(axis=0) - X.min(axis=0)\n",
        "        denom[denom==0] = 1\n",
        "        return x_min + nom/denom \n",
        "\n",
        "\n",
        "    def prep_data(self, X, y):\n",
        "        X_ = []\n",
        "        y_ = []\n",
        "        \n",
        "        itr = int(len(y)/self.batch_size)+1\n",
        "        for j in range(1,itr):\n",
        "            rng = j*self.batch_size\n",
        "            X_.append(X[rng-self.batch_size:rng, :])\n",
        "            y_.append(y[rng-self.batch_size:rng])\n",
        "        \n",
        "        X, y = np.array(X_), np.array(y_)\n",
        "        X = self.norm(X, 0, 1)\n",
        "        \n",
        "        return X, y\n",
        "\n",
        "\n",
        "    def fit(self, X, y):\n",
        "        n_input = len(X[0,0,:]) #returns the flattened image size (28*28 = 784)\n",
        "    \n",
        "        n_hidden_1, n_hidden_2, n_output = 100, 100, 10\n",
        "        self.w1, self.w2, self.w3 = self.init_weights(n_input, n_hidden_1, n_hidden_2,\n",
        "                                    n_output, self.batch_size)\n",
        "\n",
        "        delta_w1_prev = np.zeros(self.w1.shape)\n",
        "        delta_w2_prev = np.zeros(self.w2.shape)\n",
        "        delta_w3_prev = np.zeros(self.w3.shape)\n",
        "        \n",
        "        train_losses = []\n",
        "        train_acc = []\n",
        "    \n",
        "    \n",
        "        for i in range(self.n_iter):\n",
        "            for j, (input, label) in enumerate(zip(X, y)):\n",
        "                one_hot_label = self.one_hot_enc(label, num_labels=10)\n",
        "                \n",
        "                a1, z2, a2, z3, a3, z4, a4 = self.compute_forward_pass(input)\n",
        "                loss = self.compute_loss(a4, one_hot_label)\n",
        "                grad1, grad2, grad3 = self.compute_backward_pass([a1, z2, a2, z3, a3, z4, a4],\n",
        "                                                one_hot_label)\n",
        "    \n",
        "                delta_w1, delta_w2, delta_w3 = self.eta*grad1, self.eta*grad2, self.eta*grad3\n",
        "    \n",
        "                self.w1 -= delta_w1 + delta_w1_prev*self.alpha\n",
        "                self.w2 -= delta_w2 + delta_w2_prev*self.alpha\n",
        "                self.w3 -= delta_w3 + delta_w3_prev*self.alpha\n",
        "    \n",
        "                delta_w1_prev, delta_w2_prev, delta_w3_prev = delta_w1, delta_w2, delta_w3\n",
        "    \n",
        "                #train_losses.append(loss)\n",
        "                predictions = self.predict(a4)\n",
        "    \n",
        "                wrong = np.where(predictions != label,\n",
        "                                np.matrix([1.]), np.matrix([0.]))\n",
        "    \n",
        "                accuracy = 1 - np.sum(wrong)/self.batch_size\n",
        "    \n",
        "                train_acc.append(accuracy)\n",
        "                train_losses.append(loss/len(X))\n",
        "            print('epoch ', i, 'training accuracy %.2f' %\n",
        "                    np.mean(np.matrix(train_acc)).item())\n",
        "            \n",
        "        train_losses.sort()        \n",
        "        plt.plot(train_losses, \"aqua\")\n",
        "        plt.title(\"MLP epoch 100 batch size 50, loss\")\n",
        "        plt.show()"
      ],
      "execution_count": null,
      "outputs": []
    },
    {
      "cell_type": "code",
      "metadata": {
        "colab": {
          "base_uri": "https://localhost:8080/",
          "height": 1000
        },
        "id": "T9aUNPOYDp9R",
        "outputId": "0dfefdec-1f76-44ca-d44b-2d89cfa5830f"
      },
      "source": [
        "if __name__ == '__main__':\n",
        "  print(\"n_iter: 100 / learning rate 0.01\")\n",
        "  mlp = MLP()\n",
        "  # X_train, y_train, X_test, y_test = mnist.load()\n",
        "  train_x, train_y = mlp.prep_data(train_x, train_y)\n",
        "  mlp.fit(train_x, train_y) # learning rate 0.01"
      ],
      "execution_count": null,
      "outputs": [
        {
          "output_type": "stream",
          "name": "stdout",
          "text": [
            "n_iter: 100 / learning rate 0.01\n",
            "epoch  0 training accuracy 0.73\n",
            "epoch  1 training accuracy 0.80\n",
            "epoch  2 training accuracy 0.83\n",
            "epoch  3 training accuracy 0.85\n",
            "epoch  4 training accuracy 0.86\n",
            "epoch  5 training accuracy 0.87\n",
            "epoch  6 training accuracy 0.88\n",
            "epoch  7 training accuracy 0.89\n",
            "epoch  8 training accuracy 0.90\n",
            "epoch  9 training accuracy 0.90\n",
            "epoch  10 training accuracy 0.91\n",
            "epoch  11 training accuracy 0.91\n",
            "epoch  12 training accuracy 0.91\n",
            "epoch  13 training accuracy 0.92\n",
            "epoch  14 training accuracy 0.92\n",
            "epoch  15 training accuracy 0.92\n",
            "epoch  16 training accuracy 0.93\n",
            "epoch  17 training accuracy 0.93\n",
            "epoch  18 training accuracy 0.93\n",
            "epoch  19 training accuracy 0.93\n",
            "epoch  20 training accuracy 0.93\n",
            "epoch  21 training accuracy 0.94\n",
            "epoch  22 training accuracy 0.94\n",
            "epoch  23 training accuracy 0.94\n",
            "epoch  24 training accuracy 0.94\n",
            "epoch  25 training accuracy 0.94\n",
            "epoch  26 training accuracy 0.94\n",
            "epoch  27 training accuracy 0.95\n",
            "epoch  28 training accuracy 0.95\n",
            "epoch  29 training accuracy 0.95\n",
            "epoch  30 training accuracy 0.95\n",
            "epoch  31 training accuracy 0.95\n",
            "epoch  32 training accuracy 0.95\n",
            "epoch  33 training accuracy 0.95\n",
            "epoch  34 training accuracy 0.95\n",
            "epoch  35 training accuracy 0.95\n",
            "epoch  36 training accuracy 0.96\n",
            "epoch  37 training accuracy 0.96\n",
            "epoch  38 training accuracy 0.96\n",
            "epoch  39 training accuracy 0.96\n",
            "epoch  40 training accuracy 0.96\n",
            "epoch  41 training accuracy 0.96\n",
            "epoch  42 training accuracy 0.96\n",
            "epoch  43 training accuracy 0.96\n",
            "epoch  44 training accuracy 0.96\n",
            "epoch  45 training accuracy 0.96\n",
            "epoch  46 training accuracy 0.96\n",
            "epoch  47 training accuracy 0.96\n",
            "epoch  48 training accuracy 0.96\n",
            "epoch  49 training accuracy 0.97\n",
            "epoch  50 training accuracy 0.97\n",
            "epoch  51 training accuracy 0.97\n",
            "epoch  52 training accuracy 0.97\n",
            "epoch  53 training accuracy 0.97\n",
            "epoch  54 training accuracy 0.97\n",
            "epoch  55 training accuracy 0.97\n",
            "epoch  56 training accuracy 0.97\n",
            "epoch  57 training accuracy 0.97\n",
            "epoch  58 training accuracy 0.97\n",
            "epoch  59 training accuracy 0.97\n",
            "epoch  60 training accuracy 0.97\n",
            "epoch  61 training accuracy 0.97\n",
            "epoch  62 training accuracy 0.97\n",
            "epoch  63 training accuracy 0.97\n",
            "epoch  64 training accuracy 0.97\n",
            "epoch  65 training accuracy 0.97\n",
            "epoch  66 training accuracy 0.97\n",
            "epoch  67 training accuracy 0.97\n",
            "epoch  68 training accuracy 0.97\n",
            "epoch  69 training accuracy 0.97\n",
            "epoch  70 training accuracy 0.97\n",
            "epoch  71 training accuracy 0.98\n",
            "epoch  72 training accuracy 0.98\n",
            "epoch  73 training accuracy 0.98\n",
            "epoch  74 training accuracy 0.98\n",
            "epoch  75 training accuracy 0.98\n",
            "epoch  76 training accuracy 0.98\n",
            "epoch  77 training accuracy 0.98\n",
            "epoch  78 training accuracy 0.98\n",
            "epoch  79 training accuracy 0.98\n",
            "epoch  80 training accuracy 0.98\n",
            "epoch  81 training accuracy 0.98\n",
            "epoch  82 training accuracy 0.98\n",
            "epoch  83 training accuracy 0.98\n",
            "epoch  84 training accuracy 0.98\n",
            "epoch  85 training accuracy 0.98\n",
            "epoch  86 training accuracy 0.98\n",
            "epoch  87 training accuracy 0.98\n",
            "epoch  88 training accuracy 0.98\n",
            "epoch  89 training accuracy 0.98\n",
            "epoch  90 training accuracy 0.98\n",
            "epoch  91 training accuracy 0.98\n",
            "epoch  92 training accuracy 0.98\n",
            "epoch  93 training accuracy 0.98\n",
            "epoch  94 training accuracy 0.98\n",
            "epoch  95 training accuracy 0.98\n",
            "epoch  96 training accuracy 0.98\n",
            "epoch  97 training accuracy 0.98\n",
            "epoch  98 training accuracy 0.98\n",
            "epoch  99 training accuracy 0.98\n"
          ]
        },
        {
          "output_type": "display_data",
          "data": {
            "image/png": "[encoded data removed]",
            "text/plain": [
              "<Figure size 432x288 with 1 Axes>"
            ]
          },
          "metadata": {
            "needs_background": "light"
          }
        }
      ]
    },
    {
      "cell_type": "code",
      "metadata": {
        "id": "YnodOhysF2m6"
      },
      "source": [
        "eta=0.01\n",
        "alpha=0.001\n",
        "n_iter= 200 # epoch\n",
        "batch_size= 50"
      ],
      "execution_count": null,
      "outputs": []
    },
    {
      "cell_type": "code",
      "metadata": {
        "colab": {
          "base_uri": "https://localhost:8080/"
        },
        "id": "So5Q8PysGTNk",
        "outputId": "3abf6901-e38d-4139-df18-fdd3060ce4ea"
      },
      "source": [
        "if __name__ == '__main__':\n",
        "    train_set, val_set, test_set = load_data('mnist.pkl.gz')\n",
        "\n",
        "    train_x, train_y = train_set\n",
        "    val_x, val_y = val_set\n",
        "    test_x, test_y = test_set\n",
        "    \n",
        "    print(train_x.shape)\n",
        "    print(train_y.shape)"
      ],
      "execution_count": null,
      "outputs": [
        {
          "output_type": "stream",
          "name": "stdout",
          "text": [
            "... loading data\n",
            "(50000, 784)\n",
            "(50000,)\n"
          ]
        }
      ]
    },
    {
      "cell_type": "code",
      "metadata": {
        "id": "mcue4urvF276"
      },
      "source": [
        "class MLP(object):\n",
        "    def __init__(self, eta=eta, alpha=alpha, n_iter=n_iter, batch_size=batch_size):\n",
        "        self.eta = eta\n",
        "        self.alpha = alpha\n",
        "        self.n_iter = n_iter\n",
        "        self.batch_size = batch_size\n",
        "\n",
        "    def one_hot_enc(self, y, num_labels=10):\n",
        "        one_hot = np.zeros((num_labels, y.shape[0]), dtype=np.float32)\n",
        "    \n",
        "        for i, val in enumerate(y):\n",
        "            one_hot[val,i] = 1.0\n",
        "    \n",
        "        return one_hot\n",
        "\n",
        "    def init_weights(self, n_input, n_hidden_1, n_hidden_2, n_output, batch_size):\n",
        "        w1 = np.random.randn(n_hidden_1, n_input+1)\n",
        "        w2 = np.random.randn(n_hidden_2, n_hidden_1+1)\n",
        "        w3 = np.random.randn(n_output, n_hidden_2+1)\n",
        "        \n",
        "        return w1, w2, w3\n",
        "\n",
        "\n",
        "    def add_bias_unit(self, layer, orientation):\n",
        "        if orientation == 'row':\n",
        "            updated_layer = np.ones((layer.shape[0]+1, layer.shape[1]))\n",
        "            updated_layer[1:, :] = layer\n",
        "        elif orientation == 'col':\n",
        "            updated_layer = np.ones((layer.shape[0], layer.shape[1] + 1))\n",
        "            updated_layer[:, 1:] = layer\n",
        "    \n",
        "        return updated_layer\n",
        "\n",
        "\n",
        "    def compute_forward_pass(self, input):\n",
        "        a1 = self.add_bias_unit(input, orientation='col')\n",
        "    \n",
        "        z2 = np.matmul(self.w1, a1.transpose(1, 0))\n",
        "        a2 = 1/(1 + np.exp(-z2))\n",
        "        a2 = self.add_bias_unit(a2, orientation='row')\n",
        "    \n",
        "        z3 = np.matmul(self.w2, a2)\n",
        "        a3 = 1/(1 + np.exp(-z3))\n",
        "        a3 = self.add_bias_unit(a3, orientation='row')\n",
        "    \n",
        "        z4 = np.matmul(self.w3, a3)\n",
        "        a4 = 1/(1 + np.exp(-z4))\n",
        "    \n",
        "        return a1, z2, a2, z3, a3, z4, a4\n",
        "\n",
        "\n",
        "    def predict(self, a4):\n",
        "        prediction = np.argmax(a4, axis=0)\n",
        "        return prediction\n",
        "\n",
        "    def compute_loss(self, prediction, label):\n",
        "        term_1 = -1*label * np.log(prediction)\n",
        "        term_2 = (1-label)*(np.log(1-prediction))\n",
        "    \n",
        "        loss = np.sum(term_1 - term_2)\n",
        "        return loss\n",
        "\n",
        "\n",
        "    def compute_backward_pass(self, outputs, label):\n",
        "        a1, z2, a2, z3, a3, z4, a4 = outputs\n",
        "    \n",
        "        delta_4 = a4 - label\n",
        "        sig_z3 = np.array(1/(1 + np.exp(-z3)))\n",
        "        delta_3 = np.matmul(self.w3[:,1:].transpose(),delta_4)*sig_z3*(1-sig_z3)\n",
        "               \n",
        "        sig_z2 = np.array(1/(1 + np.exp(-z2)))\n",
        "        delta_2 = np.matmul(self.w2[:,1:], delta_3)*(sig_z2)*(1-(sig_z2))\n",
        "    \n",
        "        grad_w1 = np.matmul(delta_2, a1)\n",
        "        grad_w2 = np.matmul(delta_3, a2.transpose())\n",
        "        grad_w3 = np.matmul(delta_4, a3.transpose())\n",
        "    \n",
        "        return grad_w1, grad_w2, grad_w3\n",
        "            \n",
        "    def norm(self, X, x_min, x_max):\n",
        "        nom = (X-X.min(axis=0))*(x_max-x_min)\n",
        "        denom = X.max(axis=0) - X.min(axis=0)\n",
        "        denom[denom==0] = 1\n",
        "        return x_min + nom/denom \n",
        "\n",
        "\n",
        "    def prep_data(self, X, y):\n",
        "        X_ = []\n",
        "        y_ = []\n",
        "        \n",
        "        itr = int(len(y)/self.batch_size)+1\n",
        "        for j in range(1,itr):\n",
        "            rng = j*self.batch_size\n",
        "            X_.append(X[rng-self.batch_size:rng, :])\n",
        "            y_.append(y[rng-self.batch_size:rng])\n",
        "        \n",
        "        X, y = np.array(X_), np.array(y_)\n",
        "        X = self.norm(X, 0, 1)\n",
        "        \n",
        "        return X, y\n",
        "\n",
        "\n",
        "    def fit(self, X, y):\n",
        "        n_input = len(X[0,0,:]) #returns the flattened image size (28*28 = 784)\n",
        "    \n",
        "        n_hidden_1, n_hidden_2, n_output = 100, 100, 10\n",
        "        self.w1, self.w2, self.w3 = self.init_weights(n_input, n_hidden_1, n_hidden_2,\n",
        "                                    n_output, self.batch_size)\n",
        "\n",
        "        delta_w1_prev = np.zeros(self.w1.shape)\n",
        "        delta_w2_prev = np.zeros(self.w2.shape)\n",
        "        delta_w3_prev = np.zeros(self.w3.shape)\n",
        "        \n",
        "        train_losses = []\n",
        "        train_acc = []\n",
        "    \n",
        "    \n",
        "        for i in range(self.n_iter):\n",
        "            for j, (input, label) in enumerate(zip(X, y)):\n",
        "                one_hot_label = self.one_hot_enc(label, num_labels=10)\n",
        "                \n",
        "                a1, z2, a2, z3, a3, z4, a4 = self.compute_forward_pass(input)\n",
        "                loss = self.compute_loss(a4, one_hot_label)\n",
        "                grad1, grad2, grad3 = self.compute_backward_pass([a1, z2, a2, z3, a3, z4, a4],\n",
        "                                                one_hot_label)\n",
        "    \n",
        "                delta_w1, delta_w2, delta_w3 = self.eta*grad1, self.eta*grad2, self.eta*grad3\n",
        "    \n",
        "                self.w1 -= delta_w1 + delta_w1_prev*self.alpha\n",
        "                self.w2 -= delta_w2 + delta_w2_prev*self.alpha\n",
        "                self.w3 -= delta_w3 + delta_w3_prev*self.alpha\n",
        "    \n",
        "                delta_w1_prev, delta_w2_prev, delta_w3_prev = delta_w1, delta_w2, delta_w3\n",
        "    \n",
        "                #train_losses.append(loss)\n",
        "                predictions = self.predict(a4)\n",
        "    \n",
        "                wrong = np.where(predictions != label,\n",
        "                                np.matrix([1.]), np.matrix([0.]))\n",
        "    \n",
        "                accuracy = 1 - np.sum(wrong)/self.batch_size\n",
        "    \n",
        "                train_acc.append(accuracy)\n",
        "                train_losses.append(loss/len(X))\n",
        "            print('epoch ', i, 'training accuracy %.2f' %\n",
        "                    np.mean(np.matrix(train_acc)).item())\n",
        "            \n",
        "        train_losses.sort()        \n",
        "        plt.plot(train_losses, \"coral\")\n",
        "        plt.title(\"MLP epoch 200 batch size 50, loss\")\n",
        "        plt.show()"
      ],
      "execution_count": null,
      "outputs": []
    },
    {
      "cell_type": "code",
      "metadata": {
        "colab": {
          "base_uri": "https://localhost:8080/",
          "height": 1000
        },
        "id": "B4nRLvkjGEym",
        "outputId": "f4e9e4a5-f58a-4810-98b7-79f60f450ffa"
      },
      "source": [
        "if __name__ == '__main__':\n",
        "  print(\"n_iter: 200 / learning rate 0.01\")\n",
        "  mlp = MLP()\n",
        "  # X_train, y_train, X_test, y_test = mnist.load()\n",
        "  train_x, train_y = mlp.prep_data(train_x, train_y)\n",
        "  mlp.fit(train_x, train_y)"
      ],
      "execution_count": null,
      "outputs": [
        {
          "output_type": "stream",
          "name": "stdout",
          "text": [
            "n_iter: 200 / learning rate 0.01\n",
            "epoch  0 training accuracy 0.74\n",
            "epoch  1 training accuracy 0.80\n",
            "epoch  2 training accuracy 0.83\n",
            "epoch  3 training accuracy 0.85\n",
            "epoch  4 training accuracy 0.87\n",
            "epoch  5 training accuracy 0.88\n",
            "epoch  6 training accuracy 0.89\n",
            "epoch  7 training accuracy 0.89\n",
            "epoch  8 training accuracy 0.90\n",
            "epoch  9 training accuracy 0.90\n",
            "epoch  10 training accuracy 0.91\n",
            "epoch  11 training accuracy 0.91\n",
            "epoch  12 training accuracy 0.92\n",
            "epoch  13 training accuracy 0.92\n",
            "epoch  14 training accuracy 0.92\n",
            "epoch  15 training accuracy 0.93\n",
            "epoch  16 training accuracy 0.93\n",
            "epoch  17 training accuracy 0.93\n",
            "epoch  18 training accuracy 0.93\n",
            "epoch  19 training accuracy 0.93\n",
            "epoch  20 training accuracy 0.94\n",
            "epoch  21 training accuracy 0.94\n",
            "epoch  22 training accuracy 0.94\n",
            "epoch  23 training accuracy 0.94\n",
            "epoch  24 training accuracy 0.94\n",
            "epoch  25 training accuracy 0.94\n",
            "epoch  26 training accuracy 0.95\n",
            "epoch  27 training accuracy 0.95\n",
            "epoch  28 training accuracy 0.95\n",
            "epoch  29 training accuracy 0.95\n",
            "epoch  30 training accuracy 0.95\n",
            "epoch  31 training accuracy 0.95\n",
            "epoch  32 training accuracy 0.95\n",
            "epoch  33 training accuracy 0.95\n",
            "epoch  34 training accuracy 0.95\n",
            "epoch  35 training accuracy 0.96\n",
            "epoch  36 training accuracy 0.96\n",
            "epoch  37 training accuracy 0.96\n",
            "epoch  38 training accuracy 0.96\n",
            "epoch  39 training accuracy 0.96\n",
            "epoch  40 training accuracy 0.96\n",
            "epoch  41 training accuracy 0.96\n",
            "epoch  42 training accuracy 0.96\n",
            "epoch  43 training accuracy 0.96\n",
            "epoch  44 training accuracy 0.96\n",
            "epoch  45 training accuracy 0.96\n",
            "epoch  46 training accuracy 0.96\n",
            "epoch  47 training accuracy 0.96\n",
            "epoch  48 training accuracy 0.97\n",
            "epoch  49 training accuracy 0.97\n",
            "epoch  50 training accuracy 0.97\n",
            "epoch  51 training accuracy 0.97\n",
            "epoch  52 training accuracy 0.97\n",
            "epoch  53 training accuracy 0.97\n",
            "epoch  54 training accuracy 0.97\n",
            "epoch  55 training accuracy 0.97\n",
            "epoch  56 training accuracy 0.97\n",
            "epoch  57 training accuracy 0.97\n",
            "epoch  58 training accuracy 0.97\n",
            "epoch  59 training accuracy 0.97\n",
            "epoch  60 training accuracy 0.97\n",
            "epoch  61 training accuracy 0.97\n",
            "epoch  62 training accuracy 0.97\n",
            "epoch  63 training accuracy 0.97\n",
            "epoch  64 training accuracy 0.97\n",
            "epoch  65 training accuracy 0.97\n",
            "epoch  66 training accuracy 0.97\n",
            "epoch  67 training accuracy 0.97\n",
            "epoch  68 training accuracy 0.97\n",
            "epoch  69 training accuracy 0.97\n",
            "epoch  70 training accuracy 0.97\n",
            "epoch  71 training accuracy 0.98\n",
            "epoch  72 training accuracy 0.98\n",
            "epoch  73 training accuracy 0.98\n",
            "epoch  74 training accuracy 0.98\n",
            "epoch  75 training accuracy 0.98\n",
            "epoch  76 training accuracy 0.98\n",
            "epoch  77 training accuracy 0.98\n",
            "epoch  78 training accuracy 0.98\n",
            "epoch  79 training accuracy 0.98\n",
            "epoch  80 training accuracy 0.98\n",
            "epoch  81 training accuracy 0.98\n",
            "epoch  82 training accuracy 0.98\n",
            "epoch  83 training accuracy 0.98\n",
            "epoch  84 training accuracy 0.98\n",
            "epoch  85 training accuracy 0.98\n",
            "epoch  86 training accuracy 0.98\n",
            "epoch  87 training accuracy 0.98\n",
            "epoch  88 training accuracy 0.98\n",
            "epoch  89 training accuracy 0.98\n",
            "epoch  90 training accuracy 0.98\n",
            "epoch  91 training accuracy 0.98\n",
            "epoch  92 training accuracy 0.98\n",
            "epoch  93 training accuracy 0.98\n",
            "epoch  94 training accuracy 0.98\n",
            "epoch  95 training accuracy 0.98\n",
            "epoch  96 training accuracy 0.98\n",
            "epoch  97 training accuracy 0.98\n",
            "epoch  98 training accuracy 0.98\n",
            "epoch  99 training accuracy 0.98\n",
            "epoch  100 training accuracy 0.98\n",
            "epoch  101 training accuracy 0.98\n",
            "epoch  102 training accuracy 0.98\n",
            "epoch  103 training accuracy 0.98\n",
            "epoch  104 training accuracy 0.98\n",
            "epoch  105 training accuracy 0.98\n",
            "epoch  106 training accuracy 0.98\n",
            "epoch  107 training accuracy 0.98\n",
            "epoch  108 training accuracy 0.98\n",
            "epoch  109 training accuracy 0.98\n",
            "epoch  110 training accuracy 0.98\n",
            "epoch  111 training accuracy 0.98\n",
            "epoch  112 training accuracy 0.98\n",
            "epoch  113 training accuracy 0.98\n",
            "epoch  114 training accuracy 0.98\n",
            "epoch  115 training accuracy 0.98\n",
            "epoch  116 training accuracy 0.98\n",
            "epoch  117 training accuracy 0.98\n",
            "epoch  118 training accuracy 0.98\n",
            "epoch  119 training accuracy 0.99\n",
            "epoch  120 training accuracy 0.99\n",
            "epoch  121 training accuracy 0.99\n",
            "epoch  122 training accuracy 0.99\n",
            "epoch  123 training accuracy 0.99\n",
            "epoch  124 training accuracy 0.99\n",
            "epoch  125 training accuracy 0.99\n",
            "epoch  126 training accuracy 0.99\n",
            "epoch  127 training accuracy 0.99\n",
            "epoch  128 training accuracy 0.99\n",
            "epoch  129 training accuracy 0.99\n",
            "epoch  130 training accuracy 0.99\n",
            "epoch  131 training accuracy 0.99\n",
            "epoch  132 training accuracy 0.99\n",
            "epoch  133 training accuracy 0.99\n",
            "epoch  134 training accuracy 0.99\n",
            "epoch  135 training accuracy 0.99\n",
            "epoch  136 training accuracy 0.99\n",
            "epoch  137 training accuracy 0.99\n",
            "epoch  138 training accuracy 0.99\n",
            "epoch  139 training accuracy 0.99\n",
            "epoch  140 training accuracy 0.99\n",
            "epoch  141 training accuracy 0.99\n",
            "epoch  142 training accuracy 0.99\n",
            "epoch  143 training accuracy 0.99\n",
            "epoch  144 training accuracy 0.99\n",
            "epoch  145 training accuracy 0.99\n",
            "epoch  146 training accuracy 0.99\n",
            "epoch  147 training accuracy 0.99\n",
            "epoch  148 training accuracy 0.99\n",
            "epoch  149 training accuracy 0.99\n",
            "epoch  150 training accuracy 0.99\n",
            "epoch  151 training accuracy 0.99\n",
            "epoch  152 training accuracy 0.99\n",
            "epoch  153 training accuracy 0.99\n",
            "epoch  154 training accuracy 0.99\n",
            "epoch  155 training accuracy 0.99\n",
            "epoch  156 training accuracy 0.99\n",
            "epoch  157 training accuracy 0.99\n",
            "epoch  158 training accuracy 0.99\n",
            "epoch  159 training accuracy 0.99\n",
            "epoch  160 training accuracy 0.99\n",
            "epoch  161 training accuracy 0.99\n",
            "epoch  162 training accuracy 0.99\n",
            "epoch  163 training accuracy 0.99\n",
            "epoch  164 training accuracy 0.99\n",
            "epoch  165 training accuracy 0.99\n",
            "epoch  166 training accuracy 0.99\n",
            "epoch  167 training accuracy 0.99\n",
            "epoch  168 training accuracy 0.99\n",
            "epoch  169 training accuracy 0.99\n",
            "epoch  170 training accuracy 0.99\n",
            "epoch  171 training accuracy 0.99\n",
            "epoch  172 training accuracy 0.99\n",
            "epoch  173 training accuracy 0.99\n",
            "epoch  174 training accuracy 0.99\n"
          ]
        },
        {
          "output_type": "stream",
          "name": "stderr",
          "text": [
            "/usr/local/lib/python3.7/dist-packages/ipykernel_launcher.py:58: RuntimeWarning: divide by zero encountered in log\n",
            "/usr/local/lib/python3.7/dist-packages/ipykernel_launcher.py:58: RuntimeWarning: invalid value encountered in multiply\n"
          ]
        },
        {
          "output_type": "stream",
          "name": "stdout",
          "text": [
            "epoch  175 training accuracy 0.99\n",
            "epoch  176 training accuracy 0.99\n",
            "epoch  177 training accuracy 0.99\n",
            "epoch  178 training accuracy 0.99\n",
            "epoch  179 training accuracy 0.99\n",
            "epoch  180 training accuracy 0.99\n",
            "epoch  181 training accuracy 0.99\n",
            "epoch  182 training accuracy 0.99\n",
            "epoch  183 training accuracy 0.99\n",
            "epoch  184 training accuracy 0.99\n",
            "epoch  185 training accuracy 0.99\n",
            "epoch  186 training accuracy 0.99\n",
            "epoch  187 training accuracy 0.99\n",
            "epoch  188 training accuracy 0.99\n",
            "epoch  189 training accuracy 0.99\n",
            "epoch  190 training accuracy 0.99\n",
            "epoch  191 training accuracy 0.99\n",
            "epoch  192 training accuracy 0.99\n",
            "epoch  193 training accuracy 0.99\n",
            "epoch  194 training accuracy 0.99\n",
            "epoch  195 training accuracy 0.99\n",
            "epoch  196 training accuracy 0.99\n",
            "epoch  197 training accuracy 0.99\n",
            "epoch  198 training accuracy 0.99\n",
            "epoch  199 training accuracy 0.99\n"
          ]
        },
        {
          "output_type": "display_data",
          "data": {
            "image/png": "[encoded data removed]",
            "text/plain": [
              "<Figure size 432x288 with 1 Axes>"
            ]
          },
          "metadata": {
            "needs_background": "light"
          }
        }
      ]
    },
    {
      "cell_type": "code",
      "metadata": {
        "id": "vsE0wrYUGFG6"
      },
      "source": [
        "eta=0.01\n",
        "alpha=0.001\n",
        "n_iter= 500 # epoch\n",
        "batch_size= 50"
      ],
      "execution_count": null,
      "outputs": []
    },
    {
      "cell_type": "code",
      "metadata": {
        "id": "hXbpyE-FGFSj"
      },
      "source": [
        ""
      ],
      "execution_count": null,
      "outputs": []
    },
    {
      "cell_type": "code",
      "metadata": {
        "colab": {
          "base_uri": "https://localhost:8080/"
        },
        "id": "r7yl2lQbQSMr",
        "outputId": "1235a805-84ed-4578-c51a-5bec856a406c"
      },
      "source": [
        "if __name__ == '__main__':\n",
        "  print(\"n_iter: 50\")\n",
        "  mlp = MLP()\n",
        "  # X_train, y_train, X_test, y_test = mnist.load()\n",
        "  train_x, train_y = mlp.prep_data(train_x, train_y)\n",
        "  mlp.fit(train_x, train_y)"
      ],
      "execution_count": null,
      "outputs": [
        {
          "name": "stdout",
          "output_type": "stream",
          "text": [
            "n_iter: 50\n",
            "epoch  0 training accuracy 0.42\n",
            "epoch  1 training accuracy 0.53\n",
            "epoch  2 training accuracy 0.59\n",
            "epoch  3 training accuracy 0.63\n",
            "epoch  4 training accuracy 0.66\n",
            "epoch  5 training accuracy 0.69\n",
            "epoch  6 training accuracy 0.71\n",
            "epoch  7 training accuracy 0.72\n",
            "epoch  8 training accuracy 0.73\n",
            "epoch  9 training accuracy 0.75\n",
            "epoch  10 training accuracy 0.76\n",
            "epoch  11 training accuracy 0.76\n",
            "epoch  12 training accuracy 0.77\n",
            "epoch  13 training accuracy 0.78\n",
            "epoch  14 training accuracy 0.79\n",
            "epoch  15 training accuracy 0.79\n",
            "epoch  16 training accuracy 0.80\n",
            "epoch  17 training accuracy 0.80\n",
            "epoch  18 training accuracy 0.81\n",
            "epoch  19 training accuracy 0.81\n",
            "epoch  20 training accuracy 0.81\n",
            "epoch  21 training accuracy 0.82\n",
            "epoch  22 training accuracy 0.82\n",
            "epoch  23 training accuracy 0.82\n",
            "epoch  24 training accuracy 0.83\n",
            "epoch  25 training accuracy 0.83\n",
            "epoch  26 training accuracy 0.83\n",
            "epoch  27 training accuracy 0.84\n",
            "epoch  28 training accuracy 0.84\n",
            "epoch  29 training accuracy 0.84\n",
            "epoch  30 training accuracy 0.84\n",
            "epoch  31 training accuracy 0.85\n",
            "epoch  32 training accuracy 0.85\n",
            "epoch  33 training accuracy 0.85\n",
            "epoch  34 training accuracy 0.85\n",
            "epoch  35 training accuracy 0.85\n",
            "epoch  36 training accuracy 0.86\n",
            "epoch  37 training accuracy 0.86\n",
            "epoch  38 training accuracy 0.86\n",
            "epoch  39 training accuracy 0.86\n",
            "epoch  40 training accuracy 0.86\n",
            "epoch  41 training accuracy 0.86\n",
            "epoch  42 training accuracy 0.87\n",
            "epoch  43 training accuracy 0.87\n",
            "epoch  44 training accuracy 0.87\n",
            "epoch  45 training accuracy 0.87\n",
            "epoch  46 training accuracy 0.87\n",
            "epoch  47 training accuracy 0.87\n",
            "epoch  48 training accuracy 0.87\n",
            "epoch  49 training accuracy 0.88\n"
          ]
        }
      ]
    },
    {
      "cell_type": "code",
      "metadata": {
        "id": "4Egc9BKnQWR-"
      },
      "source": [
        "eta=0.001\n",
        "alpha=0.001\n",
        "n_iter=200\n",
        "batch_size=50"
      ],
      "execution_count": null,
      "outputs": []
    },
    {
      "cell_type": "code",
      "metadata": {
        "colab": {
          "base_uri": "https://localhost:8080/"
        },
        "id": "ZPyP5z5zQWg7",
        "outputId": "e16af48c-2ee5-4f6b-e131-32eac70d8948"
      },
      "source": [
        "if __name__ == '__main__':\n",
        "  print(\"n_iter: 200 (MLP)\")\n",
        "  mlp = MLP()\n",
        "  # X_train, y_train, X_test, y_test = mnist.load()\n",
        "  train_x, train_y = mlp.prep_data(train_x, train_y)\n",
        "  mlp.fit(train_x, train_y)"
      ],
      "execution_count": null,
      "outputs": [
        {
          "name": "stdout",
          "output_type": "stream",
          "text": [
            "n_iter: 200 (MLP)\n",
            "epoch  0 training accuracy 0.48\n",
            "epoch  1 training accuracy 0.59\n",
            "epoch  2 training accuracy 0.64\n",
            "epoch  3 training accuracy 0.68\n",
            "epoch  4 training accuracy 0.70\n",
            "epoch  5 training accuracy 0.72\n",
            "epoch  6 training accuracy 0.74\n",
            "epoch  7 training accuracy 0.75\n",
            "epoch  8 training accuracy 0.77\n",
            "epoch  9 training accuracy 0.77\n",
            "epoch  10 training accuracy 0.78\n",
            "epoch  11 training accuracy 0.79\n",
            "epoch  12 training accuracy 0.80\n",
            "epoch  13 training accuracy 0.80\n",
            "epoch  14 training accuracy 0.81\n",
            "epoch  15 training accuracy 0.81\n",
            "epoch  16 training accuracy 0.82\n",
            "epoch  17 training accuracy 0.82\n",
            "epoch  18 training accuracy 0.83\n",
            "epoch  19 training accuracy 0.83\n",
            "epoch  20 training accuracy 0.83\n",
            "epoch  21 training accuracy 0.84\n",
            "epoch  22 training accuracy 0.84\n",
            "epoch  23 training accuracy 0.84\n",
            "epoch  24 training accuracy 0.84\n",
            "epoch  25 training accuracy 0.85\n",
            "epoch  26 training accuracy 0.85\n",
            "epoch  27 training accuracy 0.85\n",
            "epoch  28 training accuracy 0.85\n",
            "epoch  29 training accuracy 0.86\n",
            "epoch  30 training accuracy 0.86\n",
            "epoch  31 training accuracy 0.86\n",
            "epoch  32 training accuracy 0.86\n",
            "epoch  33 training accuracy 0.86\n",
            "epoch  34 training accuracy 0.87\n",
            "epoch  35 training accuracy 0.87\n",
            "epoch  36 training accuracy 0.87\n",
            "epoch  37 training accuracy 0.87\n",
            "epoch  38 training accuracy 0.87\n",
            "epoch  39 training accuracy 0.87\n",
            "epoch  40 training accuracy 0.87\n",
            "epoch  41 training accuracy 0.88\n",
            "epoch  42 training accuracy 0.88\n",
            "epoch  43 training accuracy 0.88\n",
            "epoch  44 training accuracy 0.88\n",
            "epoch  45 training accuracy 0.88\n",
            "epoch  46 training accuracy 0.88\n",
            "epoch  47 training accuracy 0.88\n",
            "epoch  48 training accuracy 0.88\n",
            "epoch  49 training accuracy 0.89\n",
            "epoch  50 training accuracy 0.89\n",
            "epoch  51 training accuracy 0.89\n",
            "epoch  52 training accuracy 0.89\n",
            "epoch  53 training accuracy 0.89\n",
            "epoch  54 training accuracy 0.89\n",
            "epoch  55 training accuracy 0.89\n",
            "epoch  56 training accuracy 0.89\n",
            "epoch  57 training accuracy 0.89\n",
            "epoch  58 training accuracy 0.89\n",
            "epoch  59 training accuracy 0.89\n",
            "epoch  60 training accuracy 0.90\n",
            "epoch  61 training accuracy 0.90\n",
            "epoch  62 training accuracy 0.90\n",
            "epoch  63 training accuracy 0.90\n",
            "epoch  64 training accuracy 0.90\n",
            "epoch  65 training accuracy 0.90\n",
            "epoch  66 training accuracy 0.90\n",
            "epoch  67 training accuracy 0.90\n",
            "epoch  68 training accuracy 0.90\n",
            "epoch  69 training accuracy 0.90\n",
            "epoch  70 training accuracy 0.90\n",
            "epoch  71 training accuracy 0.90\n",
            "epoch  72 training accuracy 0.90\n",
            "epoch  73 training accuracy 0.90\n",
            "epoch  74 training accuracy 0.90\n",
            "epoch  75 training accuracy 0.91\n",
            "epoch  76 training accuracy 0.91\n",
            "epoch  77 training accuracy 0.91\n",
            "epoch  78 training accuracy 0.91\n",
            "epoch  79 training accuracy 0.91\n",
            "epoch  80 training accuracy 0.91\n",
            "epoch  81 training accuracy 0.91\n",
            "epoch  82 training accuracy 0.91\n",
            "epoch  83 training accuracy 0.91\n",
            "epoch  84 training accuracy 0.91\n",
            "epoch  85 training accuracy 0.91\n",
            "epoch  86 training accuracy 0.91\n",
            "epoch  87 training accuracy 0.91\n",
            "epoch  88 training accuracy 0.91\n",
            "epoch  89 training accuracy 0.91\n",
            "epoch  90 training accuracy 0.91\n",
            "epoch  91 training accuracy 0.91\n",
            "epoch  92 training accuracy 0.91\n",
            "epoch  93 training accuracy 0.91\n",
            "epoch  94 training accuracy 0.92\n",
            "epoch  95 training accuracy 0.92\n",
            "epoch  96 training accuracy 0.92\n",
            "epoch  97 training accuracy 0.92\n",
            "epoch  98 training accuracy 0.92\n",
            "epoch  99 training accuracy 0.92\n",
            "epoch  100 training accuracy 0.92\n",
            "epoch  101 training accuracy 0.92\n",
            "epoch  102 training accuracy 0.92\n",
            "epoch  103 training accuracy 0.92\n",
            "epoch  104 training accuracy 0.92\n",
            "epoch  105 training accuracy 0.92\n",
            "epoch  106 training accuracy 0.92\n",
            "epoch  107 training accuracy 0.92\n",
            "epoch  108 training accuracy 0.92\n",
            "epoch  109 training accuracy 0.92\n",
            "epoch  110 training accuracy 0.92\n",
            "epoch  111 training accuracy 0.92\n",
            "epoch  112 training accuracy 0.92\n",
            "epoch  113 training accuracy 0.92\n",
            "epoch  114 training accuracy 0.92\n",
            "epoch  115 training accuracy 0.92\n",
            "epoch  116 training accuracy 0.92\n",
            "epoch  117 training accuracy 0.92\n",
            "epoch  118 training accuracy 0.92\n",
            "epoch  119 training accuracy 0.92\n",
            "epoch  120 training accuracy 0.93\n",
            "epoch  121 training accuracy 0.93\n",
            "epoch  122 training accuracy 0.93\n",
            "epoch  123 training accuracy 0.93\n",
            "epoch  124 training accuracy 0.93\n",
            "epoch  125 training accuracy 0.93\n",
            "epoch  126 training accuracy 0.93\n",
            "epoch  127 training accuracy 0.93\n",
            "epoch  128 training accuracy 0.93\n",
            "epoch  129 training accuracy 0.93\n",
            "epoch  130 training accuracy 0.93\n",
            "epoch  131 training accuracy 0.93\n",
            "epoch  132 training accuracy 0.93\n",
            "epoch  133 training accuracy 0.93\n",
            "epoch  134 training accuracy 0.93\n",
            "epoch  135 training accuracy 0.93\n",
            "epoch  136 training accuracy 0.93\n",
            "epoch  137 training accuracy 0.93\n",
            "epoch  138 training accuracy 0.93\n",
            "epoch  139 training accuracy 0.93\n",
            "epoch  140 training accuracy 0.93\n",
            "epoch  141 training accuracy 0.93\n",
            "epoch  142 training accuracy 0.93\n",
            "epoch  143 training accuracy 0.93\n",
            "epoch  144 training accuracy 0.93\n",
            "epoch  145 training accuracy 0.93\n",
            "epoch  146 training accuracy 0.93\n",
            "epoch  147 training accuracy 0.93\n",
            "epoch  148 training accuracy 0.93\n",
            "epoch  149 training accuracy 0.93\n",
            "epoch  150 training accuracy 0.93\n",
            "epoch  151 training accuracy 0.93\n",
            "epoch  152 training accuracy 0.93\n",
            "epoch  153 training accuracy 0.93\n",
            "epoch  154 training accuracy 0.93\n",
            "epoch  155 training accuracy 0.93\n",
            "epoch  156 training accuracy 0.94\n",
            "epoch  157 training accuracy 0.94\n",
            "epoch  158 training accuracy 0.94\n",
            "epoch  159 training accuracy 0.94\n",
            "epoch  160 training accuracy 0.94\n",
            "epoch  161 training accuracy 0.94\n",
            "epoch  162 training accuracy 0.94\n",
            "epoch  163 training accuracy 0.94\n",
            "epoch  164 training accuracy 0.94\n",
            "epoch  165 training accuracy 0.94\n",
            "epoch  166 training accuracy 0.94\n",
            "epoch  167 training accuracy 0.94\n",
            "epoch  168 training accuracy 0.94\n",
            "epoch  169 training accuracy 0.94\n",
            "epoch  170 training accuracy 0.94\n",
            "epoch  171 training accuracy 0.94\n",
            "epoch  172 training accuracy 0.94\n",
            "epoch  173 training accuracy 0.94\n",
            "epoch  174 training accuracy 0.94\n",
            "epoch  175 training accuracy 0.94\n",
            "epoch  176 training accuracy 0.94\n",
            "epoch  177 training accuracy 0.94\n",
            "epoch  178 training accuracy 0.94\n",
            "epoch  179 training accuracy 0.94\n",
            "epoch  180 training accuracy 0.94\n",
            "epoch  181 training accuracy 0.94\n",
            "epoch  182 training accuracy 0.94\n",
            "epoch  183 training accuracy 0.94\n",
            "epoch  184 training accuracy 0.94\n",
            "epoch  185 training accuracy 0.94\n",
            "epoch  186 training accuracy 0.94\n",
            "epoch  187 training accuracy 0.94\n",
            "epoch  188 training accuracy 0.94\n",
            "epoch  189 training accuracy 0.94\n",
            "epoch  190 training accuracy 0.94\n",
            "epoch  191 training accuracy 0.94\n",
            "epoch  192 training accuracy 0.94\n",
            "epoch  193 training accuracy 0.94\n",
            "epoch  194 training accuracy 0.94\n",
            "epoch  195 training accuracy 0.94\n",
            "epoch  196 training accuracy 0.94\n",
            "epoch  197 training accuracy 0.94\n",
            "epoch  198 training accuracy 0.94\n",
            "epoch  199 training accuracy 0.94\n"
          ]
        }
      ]
    },
    {
      "cell_type": "code",
      "metadata": {
        "id": "ndUU_I8zXK4s"
      },
      "source": [
        "eta=0.001\n",
        "alpha=0.001\n",
        "n_iter=200\n",
        "batch_size=100"
      ],
      "execution_count": null,
      "outputs": []
    },
    {
      "cell_type": "code",
      "metadata": {
        "colab": {
          "base_uri": "https://localhost:8080/"
        },
        "id": "e9t7NBQiXLD1",
        "outputId": "d8ffe838-1f4b-4618-9a8c-0f0b342c0823"
      },
      "source": [
        "if __name__ == '__main__':\n",
        "  print(\"n_iter: 200 / batch size 100(MLP)\")\n",
        "  mlp = MLP()\n",
        "  # X_train, y_train, X_test, y_test = mnist.load()\n",
        "  train_x, train_y = mlp.prep_data(train_x, train_y)\n",
        "  mlp.fit(train_x, train_y)"
      ],
      "execution_count": null,
      "outputs": [
        {
          "name": "stdout",
          "output_type": "stream",
          "text": [
            "n_iter: 200 / batch size 100(MLP)\n",
            "epoch  0 training accuracy 0.47\n",
            "epoch  1 training accuracy 0.57\n",
            "epoch  2 training accuracy 0.63\n",
            "epoch  3 training accuracy 0.67\n",
            "epoch  4 training accuracy 0.69\n",
            "epoch  5 training accuracy 0.71\n",
            "epoch  6 training accuracy 0.73\n",
            "epoch  7 training accuracy 0.74\n",
            "epoch  8 training accuracy 0.75\n",
            "epoch  9 training accuracy 0.76\n",
            "epoch  10 training accuracy 0.77\n",
            "epoch  11 training accuracy 0.78\n",
            "epoch  12 training accuracy 0.79\n",
            "epoch  13 training accuracy 0.79\n",
            "epoch  14 training accuracy 0.80\n",
            "epoch  15 training accuracy 0.80\n",
            "epoch  16 training accuracy 0.81\n",
            "epoch  17 training accuracy 0.81\n",
            "epoch  18 training accuracy 0.82\n",
            "epoch  19 training accuracy 0.82\n",
            "epoch  20 training accuracy 0.82\n",
            "epoch  21 training accuracy 0.83\n",
            "epoch  22 training accuracy 0.83\n",
            "epoch  23 training accuracy 0.83\n",
            "epoch  24 training accuracy 0.84\n",
            "epoch  25 training accuracy 0.84\n",
            "epoch  26 training accuracy 0.84\n",
            "epoch  27 training accuracy 0.84\n",
            "epoch  28 training accuracy 0.85\n",
            "epoch  29 training accuracy 0.85\n",
            "epoch  30 training accuracy 0.85\n",
            "epoch  31 training accuracy 0.85\n",
            "epoch  32 training accuracy 0.85\n",
            "epoch  33 training accuracy 0.86\n",
            "epoch  34 training accuracy 0.86\n",
            "epoch  35 training accuracy 0.86\n",
            "epoch  36 training accuracy 0.86\n",
            "epoch  37 training accuracy 0.86\n",
            "epoch  38 training accuracy 0.86\n",
            "epoch  39 training accuracy 0.87\n",
            "epoch  40 training accuracy 0.87\n",
            "epoch  41 training accuracy 0.87\n",
            "epoch  42 training accuracy 0.87\n",
            "epoch  43 training accuracy 0.87\n",
            "epoch  44 training accuracy 0.87\n",
            "epoch  45 training accuracy 0.87\n",
            "epoch  46 training accuracy 0.87\n",
            "epoch  47 training accuracy 0.88\n",
            "epoch  48 training accuracy 0.88\n",
            "epoch  49 training accuracy 0.88\n",
            "epoch  50 training accuracy 0.88\n",
            "epoch  51 training accuracy 0.88\n",
            "epoch  52 training accuracy 0.88\n",
            "epoch  53 training accuracy 0.88\n",
            "epoch  54 training accuracy 0.88\n",
            "epoch  55 training accuracy 0.88\n",
            "epoch  56 training accuracy 0.88\n",
            "epoch  57 training accuracy 0.89\n",
            "epoch  58 training accuracy 0.89\n",
            "epoch  59 training accuracy 0.89\n",
            "epoch  60 training accuracy 0.89\n",
            "epoch  61 training accuracy 0.89\n",
            "epoch  62 training accuracy 0.89\n",
            "epoch  63 training accuracy 0.89\n",
            "epoch  64 training accuracy 0.89\n",
            "epoch  65 training accuracy 0.89\n",
            "epoch  66 training accuracy 0.89\n",
            "epoch  67 training accuracy 0.89\n",
            "epoch  68 training accuracy 0.89\n",
            "epoch  69 training accuracy 0.90\n",
            "epoch  70 training accuracy 0.90\n",
            "epoch  71 training accuracy 0.90\n",
            "epoch  72 training accuracy 0.90\n",
            "epoch  73 training accuracy 0.90\n",
            "epoch  74 training accuracy 0.90\n",
            "epoch  75 training accuracy 0.90\n",
            "epoch  76 training accuracy 0.90\n",
            "epoch  77 training accuracy 0.90\n",
            "epoch  78 training accuracy 0.90\n",
            "epoch  79 training accuracy 0.90\n",
            "epoch  80 training accuracy 0.90\n",
            "epoch  81 training accuracy 0.90\n",
            "epoch  82 training accuracy 0.90\n",
            "epoch  83 training accuracy 0.90\n",
            "epoch  84 training accuracy 0.90\n",
            "epoch  85 training accuracy 0.91\n",
            "epoch  86 training accuracy 0.91\n",
            "epoch  87 training accuracy 0.91\n",
            "epoch  88 training accuracy 0.91\n",
            "epoch  89 training accuracy 0.91\n",
            "epoch  90 training accuracy 0.91\n",
            "epoch  91 training accuracy 0.91\n",
            "epoch  92 training accuracy 0.91\n",
            "epoch  93 training accuracy 0.91\n",
            "epoch  94 training accuracy 0.91\n",
            "epoch  95 training accuracy 0.91\n",
            "epoch  96 training accuracy 0.91\n",
            "epoch  97 training accuracy 0.91\n",
            "epoch  98 training accuracy 0.91\n",
            "epoch  99 training accuracy 0.91\n",
            "epoch  100 training accuracy 0.91\n",
            "epoch  101 training accuracy 0.91\n",
            "epoch  102 training accuracy 0.91\n",
            "epoch  103 training accuracy 0.91\n",
            "epoch  104 training accuracy 0.91\n",
            "epoch  105 training accuracy 0.91\n",
            "epoch  106 training accuracy 0.91\n",
            "epoch  107 training accuracy 0.92\n",
            "epoch  108 training accuracy 0.92\n",
            "epoch  109 training accuracy 0.92\n",
            "epoch  110 training accuracy 0.92\n",
            "epoch  111 training accuracy 0.92\n",
            "epoch  112 training accuracy 0.92\n",
            "epoch  113 training accuracy 0.92\n",
            "epoch  114 training accuracy 0.92\n",
            "epoch  115 training accuracy 0.92\n",
            "epoch  116 training accuracy 0.92\n",
            "epoch  117 training accuracy 0.92\n",
            "epoch  118 training accuracy 0.92\n",
            "epoch  119 training accuracy 0.92\n",
            "epoch  120 training accuracy 0.92\n",
            "epoch  121 training accuracy 0.92\n",
            "epoch  122 training accuracy 0.92\n",
            "epoch  123 training accuracy 0.92\n",
            "epoch  124 training accuracy 0.92\n",
            "epoch  125 training accuracy 0.92\n",
            "epoch  126 training accuracy 0.92\n",
            "epoch  127 training accuracy 0.92\n",
            "epoch  128 training accuracy 0.92\n",
            "epoch  129 training accuracy 0.92\n",
            "epoch  130 training accuracy 0.92\n",
            "epoch  131 training accuracy 0.92\n",
            "epoch  132 training accuracy 0.92\n",
            "epoch  133 training accuracy 0.92\n",
            "epoch  134 training accuracy 0.92\n",
            "epoch  135 training accuracy 0.92\n",
            "epoch  136 training accuracy 0.93\n",
            "epoch  137 training accuracy 0.93\n",
            "epoch  138 training accuracy 0.93\n",
            "epoch  139 training accuracy 0.93\n",
            "epoch  140 training accuracy 0.93\n",
            "epoch  141 training accuracy 0.93\n",
            "epoch  142 training accuracy 0.93\n",
            "epoch  143 training accuracy 0.93\n",
            "epoch  144 training accuracy 0.93\n",
            "epoch  145 training accuracy 0.93\n",
            "epoch  146 training accuracy 0.93\n",
            "epoch  147 training accuracy 0.93\n",
            "epoch  148 training accuracy 0.93\n",
            "epoch  149 training accuracy 0.93\n",
            "epoch  150 training accuracy 0.93\n",
            "epoch  151 training accuracy 0.93\n",
            "epoch  152 training accuracy 0.93\n",
            "epoch  153 training accuracy 0.93\n",
            "epoch  154 training accuracy 0.93\n",
            "epoch  155 training accuracy 0.93\n",
            "epoch  156 training accuracy 0.93\n",
            "epoch  157 training accuracy 0.93\n",
            "epoch  158 training accuracy 0.93\n",
            "epoch  159 training accuracy 0.93\n",
            "epoch  160 training accuracy 0.93\n",
            "epoch  161 training accuracy 0.93\n",
            "epoch  162 training accuracy 0.93\n",
            "epoch  163 training accuracy 0.93\n",
            "epoch  164 training accuracy 0.93\n",
            "epoch  165 training accuracy 0.93\n",
            "epoch  166 training accuracy 0.93\n",
            "epoch  167 training accuracy 0.93\n",
            "epoch  168 training accuracy 0.93\n",
            "epoch  169 training accuracy 0.93\n",
            "epoch  170 training accuracy 0.93\n",
            "epoch  171 training accuracy 0.93\n",
            "epoch  172 training accuracy 0.93\n",
            "epoch  173 training accuracy 0.93\n",
            "epoch  174 training accuracy 0.93\n",
            "epoch  175 training accuracy 0.94\n",
            "epoch  176 training accuracy 0.94\n",
            "epoch  177 training accuracy 0.94\n",
            "epoch  178 training accuracy 0.94\n",
            "epoch  179 training accuracy 0.94\n",
            "epoch  180 training accuracy 0.94\n",
            "epoch  181 training accuracy 0.94\n",
            "epoch  182 training accuracy 0.94\n",
            "epoch  183 training accuracy 0.94\n",
            "epoch  184 training accuracy 0.94\n",
            "epoch  185 training accuracy 0.94\n",
            "epoch  186 training accuracy 0.94\n",
            "epoch  187 training accuracy 0.94\n",
            "epoch  188 training accuracy 0.94\n",
            "epoch  189 training accuracy 0.94\n",
            "epoch  190 training accuracy 0.94\n",
            "epoch  191 training accuracy 0.94\n",
            "epoch  192 training accuracy 0.94\n",
            "epoch  193 training accuracy 0.94\n",
            "epoch  194 training accuracy 0.94\n",
            "epoch  195 training accuracy 0.94\n",
            "epoch  196 training accuracy 0.94\n",
            "epoch  197 training accuracy 0.94\n",
            "epoch  198 training accuracy 0.94\n",
            "epoch  199 training accuracy 0.94\n"
          ]
        }
      ]
    },
    {
      "cell_type": "code",
      "metadata": {
        "id": "Xti414l2btuB"
      },
      "source": [
        "eta= 0.001\n",
        "alpha= 0.001\n",
        "n_iter= 500\n",
        "batch_size= 50"
      ],
      "execution_count": null,
      "outputs": []
    },
    {
      "cell_type": "code",
      "metadata": {
        "colab": {
          "base_uri": "https://localhost:8080/"
        },
        "id": "hBPlbWGfd6Z6",
        "outputId": "de1c9316-7ec1-49f6-c6bf-38e3b2e66791"
      },
      "source": [
        "if __name__ == '__main__':\n",
        "  print(\"n_iter: 500 / batch size 50(MLP)\")\n",
        "  mlp = MLP()\n",
        "  # X_train, y_train, X_test, y_test = mnist.load()\n",
        "  train_x, train_y = mlp.prep_data(train_x, train_y)\n",
        "  mlp.fit(train_x, train_y)"
      ],
      "execution_count": null,
      "outputs": [
        {
          "name": "stdout",
          "output_type": "stream",
          "text": [
            "n_iter: 500 / batch size 50(MLP)\n",
            "epoch  0 training accuracy 0.39\n",
            "epoch  1 training accuracy 0.51\n",
            "epoch  2 training accuracy 0.57\n",
            "epoch  3 training accuracy 0.61\n",
            "epoch  4 training accuracy 0.65\n",
            "epoch  5 training accuracy 0.67\n",
            "epoch  6 training accuracy 0.69\n",
            "epoch  7 training accuracy 0.71\n",
            "epoch  8 training accuracy 0.72\n",
            "epoch  9 training accuracy 0.73\n",
            "epoch  10 training accuracy 0.74\n",
            "epoch  11 training accuracy 0.75\n",
            "epoch  12 training accuracy 0.76\n",
            "epoch  13 training accuracy 0.77\n",
            "epoch  14 training accuracy 0.78\n",
            "epoch  15 training accuracy 0.78\n",
            "epoch  16 training accuracy 0.79\n",
            "epoch  17 training accuracy 0.79\n",
            "epoch  18 training accuracy 0.80\n",
            "epoch  19 training accuracy 0.80\n",
            "epoch  20 training accuracy 0.81\n",
            "epoch  21 training accuracy 0.81\n",
            "epoch  22 training accuracy 0.81\n",
            "epoch  23 training accuracy 0.82\n",
            "epoch  24 training accuracy 0.82\n",
            "epoch  25 training accuracy 0.82\n",
            "epoch  26 training accuracy 0.83\n",
            "epoch  27 training accuracy 0.83\n",
            "epoch  28 training accuracy 0.83\n",
            "epoch  29 training accuracy 0.84\n",
            "epoch  30 training accuracy 0.84\n",
            "epoch  31 training accuracy 0.84\n",
            "epoch  32 training accuracy 0.84\n",
            "epoch  33 training accuracy 0.84\n",
            "epoch  34 training accuracy 0.85\n",
            "epoch  35 training accuracy 0.85\n",
            "epoch  36 training accuracy 0.85\n",
            "epoch  37 training accuracy 0.85\n",
            "epoch  38 training accuracy 0.85\n",
            "epoch  39 training accuracy 0.86\n",
            "epoch  40 training accuracy 0.86\n",
            "epoch  41 training accuracy 0.86\n",
            "epoch  42 training accuracy 0.86\n",
            "epoch  43 training accuracy 0.86\n",
            "epoch  44 training accuracy 0.86\n",
            "epoch  45 training accuracy 0.87\n",
            "epoch  46 training accuracy 0.87\n",
            "epoch  47 training accuracy 0.87\n",
            "epoch  48 training accuracy 0.87\n",
            "epoch  49 training accuracy 0.87\n",
            "epoch  50 training accuracy 0.87\n",
            "epoch  51 training accuracy 0.87\n",
            "epoch  52 training accuracy 0.87\n",
            "epoch  53 training accuracy 0.88\n",
            "epoch  54 training accuracy 0.88\n",
            "epoch  55 training accuracy 0.88\n",
            "epoch  56 training accuracy 0.88\n",
            "epoch  57 training accuracy 0.88\n",
            "epoch  58 training accuracy 0.88\n",
            "epoch  59 training accuracy 0.88\n",
            "epoch  60 training accuracy 0.88\n",
            "epoch  61 training accuracy 0.88\n",
            "epoch  62 training accuracy 0.88\n",
            "epoch  63 training accuracy 0.88\n",
            "epoch  64 training accuracy 0.89\n",
            "epoch  65 training accuracy 0.89\n",
            "epoch  66 training accuracy 0.89\n",
            "epoch  67 training accuracy 0.89\n",
            "epoch  68 training accuracy 0.89\n",
            "epoch  69 training accuracy 0.89\n",
            "epoch  70 training accuracy 0.89\n",
            "epoch  71 training accuracy 0.89\n",
            "epoch  72 training accuracy 0.89\n",
            "epoch  73 training accuracy 0.89\n",
            "epoch  74 training accuracy 0.89\n",
            "epoch  75 training accuracy 0.89\n",
            "epoch  76 training accuracy 0.90\n",
            "epoch  77 training accuracy 0.90\n",
            "epoch  78 training accuracy 0.90\n",
            "epoch  79 training accuracy 0.90\n",
            "epoch  80 training accuracy 0.90\n",
            "epoch  81 training accuracy 0.90\n",
            "epoch  82 training accuracy 0.90\n",
            "epoch  83 training accuracy 0.90\n",
            "epoch  84 training accuracy 0.90\n",
            "epoch  85 training accuracy 0.90\n",
            "epoch  86 training accuracy 0.90\n",
            "epoch  87 training accuracy 0.90\n",
            "epoch  88 training accuracy 0.90\n",
            "epoch  89 training accuracy 0.90\n",
            "epoch  90 training accuracy 0.90\n",
            "epoch  91 training accuracy 0.90\n",
            "epoch  92 training accuracy 0.90\n",
            "epoch  93 training accuracy 0.91\n",
            "epoch  94 training accuracy 0.91\n",
            "epoch  95 training accuracy 0.91\n",
            "epoch  96 training accuracy 0.91\n",
            "epoch  97 training accuracy 0.91\n",
            "epoch  98 training accuracy 0.91\n",
            "epoch  99 training accuracy 0.91\n",
            "epoch  100 training accuracy 0.91\n",
            "epoch  101 training accuracy 0.91\n",
            "epoch  102 training accuracy 0.91\n",
            "epoch  103 training accuracy 0.91\n",
            "epoch  104 training accuracy 0.91\n",
            "epoch  105 training accuracy 0.91\n",
            "epoch  106 training accuracy 0.91\n",
            "epoch  107 training accuracy 0.91\n",
            "epoch  108 training accuracy 0.91\n",
            "epoch  109 training accuracy 0.91\n",
            "epoch  110 training accuracy 0.91\n",
            "epoch  111 training accuracy 0.91\n",
            "epoch  112 training accuracy 0.91\n",
            "epoch  113 training accuracy 0.91\n",
            "epoch  114 training accuracy 0.91\n",
            "epoch  115 training accuracy 0.92\n",
            "epoch  116 training accuracy 0.92\n",
            "epoch  117 training accuracy 0.92\n",
            "epoch  118 training accuracy 0.92\n",
            "epoch  119 training accuracy 0.92\n",
            "epoch  120 training accuracy 0.92\n",
            "epoch  121 training accuracy 0.92\n",
            "epoch  122 training accuracy 0.92\n",
            "epoch  123 training accuracy 0.92\n",
            "epoch  124 training accuracy 0.92\n",
            "epoch  125 training accuracy 0.92\n",
            "epoch  126 training accuracy 0.92\n",
            "epoch  127 training accuracy 0.92\n",
            "epoch  128 training accuracy 0.92\n",
            "epoch  129 training accuracy 0.92\n",
            "epoch  130 training accuracy 0.92\n",
            "epoch  131 training accuracy 0.92\n",
            "epoch  132 training accuracy 0.92\n",
            "epoch  133 training accuracy 0.92\n",
            "epoch  134 training accuracy 0.92\n",
            "epoch  135 training accuracy 0.92\n",
            "epoch  136 training accuracy 0.92\n",
            "epoch  137 training accuracy 0.92\n",
            "epoch  138 training accuracy 0.92\n",
            "epoch  139 training accuracy 0.92\n",
            "epoch  140 training accuracy 0.92\n",
            "epoch  141 training accuracy 0.92\n",
            "epoch  142 training accuracy 0.92\n",
            "epoch  143 training accuracy 0.92\n",
            "epoch  144 training accuracy 0.93\n",
            "epoch  145 training accuracy 0.93\n",
            "epoch  146 training accuracy 0.93\n",
            "epoch  147 training accuracy 0.93\n",
            "epoch  148 training accuracy 0.93\n",
            "epoch  149 training accuracy 0.93\n",
            "epoch  150 training accuracy 0.93\n",
            "epoch  151 training accuracy 0.93\n",
            "epoch  152 training accuracy 0.93\n",
            "epoch  153 training accuracy 0.93\n",
            "epoch  154 training accuracy 0.93\n",
            "epoch  155 training accuracy 0.93\n",
            "epoch  156 training accuracy 0.93\n",
            "epoch  157 training accuracy 0.93\n",
            "epoch  158 training accuracy 0.93\n",
            "epoch  159 training accuracy 0.93\n",
            "epoch  160 training accuracy 0.93\n",
            "epoch  161 training accuracy 0.93\n",
            "epoch  162 training accuracy 0.93\n",
            "epoch  163 training accuracy 0.93\n",
            "epoch  164 training accuracy 0.93\n",
            "epoch  165 training accuracy 0.93\n",
            "epoch  166 training accuracy 0.93\n",
            "epoch  167 training accuracy 0.93\n",
            "epoch  168 training accuracy 0.93\n",
            "epoch  169 training accuracy 0.93\n",
            "epoch  170 training accuracy 0.93\n",
            "epoch  171 training accuracy 0.93\n",
            "epoch  172 training accuracy 0.93\n",
            "epoch  173 training accuracy 0.93\n",
            "epoch  174 training accuracy 0.93\n",
            "epoch  175 training accuracy 0.93\n",
            "epoch  176 training accuracy 0.93\n",
            "epoch  177 training accuracy 0.93\n",
            "epoch  178 training accuracy 0.93\n",
            "epoch  179 training accuracy 0.93\n",
            "epoch  180 training accuracy 0.93\n",
            "epoch  181 training accuracy 0.93\n",
            "epoch  182 training accuracy 0.93\n",
            "epoch  183 training accuracy 0.93\n",
            "epoch  184 training accuracy 0.94\n",
            "epoch  185 training accuracy 0.94\n",
            "epoch  186 training accuracy 0.94\n",
            "epoch  187 training accuracy 0.94\n",
            "epoch  188 training accuracy 0.94\n",
            "epoch  189 training accuracy 0.94\n",
            "epoch  190 training accuracy 0.94\n",
            "epoch  191 training accuracy 0.94\n",
            "epoch  192 training accuracy 0.94\n",
            "epoch  193 training accuracy 0.94\n",
            "epoch  194 training accuracy 0.94\n",
            "epoch  195 training accuracy 0.94\n",
            "epoch  196 training accuracy 0.94\n",
            "epoch  197 training accuracy 0.94\n",
            "epoch  198 training accuracy 0.94\n",
            "epoch  199 training accuracy 0.94\n",
            "epoch  200 training accuracy 0.94\n",
            "epoch  201 training accuracy 0.94\n",
            "epoch  202 training accuracy 0.94\n",
            "epoch  203 training accuracy 0.94\n",
            "epoch  204 training accuracy 0.94\n",
            "epoch  205 training accuracy 0.94\n",
            "epoch  206 training accuracy 0.94\n",
            "epoch  207 training accuracy 0.94\n",
            "epoch  208 training accuracy 0.94\n",
            "epoch  209 training accuracy 0.94\n",
            "epoch  210 training accuracy 0.94\n",
            "epoch  211 training accuracy 0.94\n",
            "epoch  212 training accuracy 0.94\n",
            "epoch  213 training accuracy 0.94\n",
            "epoch  214 training accuracy 0.94\n",
            "epoch  215 training accuracy 0.94\n",
            "epoch  216 training accuracy 0.94\n",
            "epoch  217 training accuracy 0.94\n",
            "epoch  218 training accuracy 0.94\n",
            "epoch  219 training accuracy 0.94\n",
            "epoch  220 training accuracy 0.94\n",
            "epoch  221 training accuracy 0.94\n",
            "epoch  222 training accuracy 0.94\n",
            "epoch  223 training accuracy 0.94\n",
            "epoch  224 training accuracy 0.94\n",
            "epoch  225 training accuracy 0.94\n",
            "epoch  226 training accuracy 0.94\n",
            "epoch  227 training accuracy 0.94\n",
            "epoch  228 training accuracy 0.94\n",
            "epoch  229 training accuracy 0.94\n",
            "epoch  230 training accuracy 0.94\n",
            "epoch  231 training accuracy 0.94\n",
            "epoch  232 training accuracy 0.94\n",
            "epoch  233 training accuracy 0.94\n",
            "epoch  234 training accuracy 0.94\n",
            "epoch  235 training accuracy 0.94\n",
            "epoch  236 training accuracy 0.94\n",
            "epoch  237 training accuracy 0.94\n",
            "epoch  238 training accuracy 0.95\n",
            "epoch  239 training accuracy 0.95\n",
            "epoch  240 training accuracy 0.95\n",
            "epoch  241 training accuracy 0.95\n",
            "epoch  242 training accuracy 0.95\n",
            "epoch  243 training accuracy 0.95\n",
            "epoch  244 training accuracy 0.95\n",
            "epoch  245 training accuracy 0.95\n",
            "epoch  246 training accuracy 0.95\n",
            "epoch  247 training accuracy 0.95\n",
            "epoch  248 training accuracy 0.95\n",
            "epoch  249 training accuracy 0.95\n",
            "epoch  250 training accuracy 0.95\n",
            "epoch  251 training accuracy 0.95\n",
            "epoch  252 training accuracy 0.95\n",
            "epoch  253 training accuracy 0.95\n",
            "epoch  254 training accuracy 0.95\n",
            "epoch  255 training accuracy 0.95\n",
            "epoch  256 training accuracy 0.95\n",
            "epoch  257 training accuracy 0.95\n",
            "epoch  258 training accuracy 0.95\n",
            "epoch  259 training accuracy 0.95\n",
            "epoch  260 training accuracy 0.95\n",
            "epoch  261 training accuracy 0.95\n",
            "epoch  262 training accuracy 0.95\n",
            "epoch  263 training accuracy 0.95\n",
            "epoch  264 training accuracy 0.95\n",
            "epoch  265 training accuracy 0.95\n",
            "epoch  266 training accuracy 0.95\n",
            "epoch  267 training accuracy 0.95\n",
            "epoch  268 training accuracy 0.95\n",
            "epoch  269 training accuracy 0.95\n",
            "epoch  270 training accuracy 0.95\n",
            "epoch  271 training accuracy 0.95\n",
            "epoch  272 training accuracy 0.95\n",
            "epoch  273 training accuracy 0.95\n",
            "epoch  274 training accuracy 0.95\n",
            "epoch  275 training accuracy 0.95\n",
            "epoch  276 training accuracy 0.95\n",
            "epoch  277 training accuracy 0.95\n",
            "epoch  278 training accuracy 0.95\n",
            "epoch  279 training accuracy 0.95\n",
            "epoch  280 training accuracy 0.95\n",
            "epoch  281 training accuracy 0.95\n",
            "epoch  282 training accuracy 0.95\n",
            "epoch  283 training accuracy 0.95\n",
            "epoch  284 training accuracy 0.95\n",
            "epoch  285 training accuracy 0.95\n",
            "epoch  286 training accuracy 0.95\n",
            "epoch  287 training accuracy 0.95\n",
            "epoch  288 training accuracy 0.95\n",
            "epoch  289 training accuracy 0.95\n",
            "epoch  290 training accuracy 0.95\n",
            "epoch  291 training accuracy 0.95\n",
            "epoch  292 training accuracy 0.95\n",
            "epoch  293 training accuracy 0.95\n",
            "epoch  294 training accuracy 0.95\n",
            "epoch  295 training accuracy 0.95\n",
            "epoch  296 training accuracy 0.95\n",
            "epoch  297 training accuracy 0.95\n",
            "epoch  298 training accuracy 0.95\n",
            "epoch  299 training accuracy 0.95\n",
            "epoch  300 training accuracy 0.95\n",
            "epoch  301 training accuracy 0.95\n",
            "epoch  302 training accuracy 0.95\n",
            "epoch  303 training accuracy 0.95\n",
            "epoch  304 training accuracy 0.95\n",
            "epoch  305 training accuracy 0.95\n",
            "epoch  306 training accuracy 0.95\n",
            "epoch  307 training accuracy 0.95\n",
            "epoch  308 training accuracy 0.95\n",
            "epoch  309 training accuracy 0.95\n",
            "epoch  310 training accuracy 0.95\n",
            "epoch  311 training accuracy 0.95\n",
            "epoch  312 training accuracy 0.95\n",
            "epoch  313 training accuracy 0.95\n",
            "epoch  314 training accuracy 0.95\n",
            "epoch  315 training accuracy 0.95\n",
            "epoch  316 training accuracy 0.96\n",
            "epoch  317 training accuracy 0.96\n",
            "epoch  318 training accuracy 0.96\n",
            "epoch  319 training accuracy 0.96\n",
            "epoch  320 training accuracy 0.96\n",
            "epoch  321 training accuracy 0.96\n",
            "epoch  322 training accuracy 0.96\n",
            "epoch  323 training accuracy 0.96\n",
            "epoch  324 training accuracy 0.96\n",
            "epoch  325 training accuracy 0.96\n",
            "epoch  326 training accuracy 0.96\n",
            "epoch  327 training accuracy 0.96\n",
            "epoch  328 training accuracy 0.96\n",
            "epoch  329 training accuracy 0.96\n",
            "epoch  330 training accuracy 0.96\n",
            "epoch  331 training accuracy 0.96\n",
            "epoch  332 training accuracy 0.96\n",
            "epoch  333 training accuracy 0.96\n",
            "epoch  334 training accuracy 0.96\n",
            "epoch  335 training accuracy 0.96\n",
            "epoch  336 training accuracy 0.96\n",
            "epoch  337 training accuracy 0.96\n",
            "epoch  338 training accuracy 0.96\n",
            "epoch  339 training accuracy 0.96\n",
            "epoch  340 training accuracy 0.96\n",
            "epoch  341 training accuracy 0.96\n",
            "epoch  342 training accuracy 0.96\n",
            "epoch  343 training accuracy 0.96\n",
            "epoch  344 training accuracy 0.96\n",
            "epoch  345 training accuracy 0.96\n",
            "epoch  346 training accuracy 0.96\n",
            "epoch  347 training accuracy 0.96\n",
            "epoch  348 training accuracy 0.96\n",
            "epoch  349 training accuracy 0.96\n",
            "epoch  350 training accuracy 0.96\n",
            "epoch  351 training accuracy 0.96\n",
            "epoch  352 training accuracy 0.96\n",
            "epoch  353 training accuracy 0.96\n",
            "epoch  354 training accuracy 0.96\n",
            "epoch  355 training accuracy 0.96\n",
            "epoch  356 training accuracy 0.96\n",
            "epoch  357 training accuracy 0.96\n",
            "epoch  358 training accuracy 0.96\n",
            "epoch  359 training accuracy 0.96\n",
            "epoch  360 training accuracy 0.96\n",
            "epoch  361 training accuracy 0.96\n",
            "epoch  362 training accuracy 0.96\n",
            "epoch  363 training accuracy 0.96\n",
            "epoch  364 training accuracy 0.96\n",
            "epoch  365 training accuracy 0.96\n",
            "epoch  366 training accuracy 0.96\n",
            "epoch  367 training accuracy 0.96\n",
            "epoch  368 training accuracy 0.96\n",
            "epoch  369 training accuracy 0.96\n",
            "epoch  370 training accuracy 0.96\n",
            "epoch  371 training accuracy 0.96\n",
            "epoch  372 training accuracy 0.96\n",
            "epoch  373 training accuracy 0.96\n",
            "epoch  374 training accuracy 0.96\n",
            "epoch  375 training accuracy 0.96\n",
            "epoch  376 training accuracy 0.96\n",
            "epoch  377 training accuracy 0.96\n",
            "epoch  378 training accuracy 0.96\n",
            "epoch  379 training accuracy 0.96\n",
            "epoch  380 training accuracy 0.96\n",
            "epoch  381 training accuracy 0.96\n",
            "epoch  382 training accuracy 0.96\n",
            "epoch  383 training accuracy 0.96\n",
            "epoch  384 training accuracy 0.96\n",
            "epoch  385 training accuracy 0.96\n",
            "epoch  386 training accuracy 0.96\n",
            "epoch  387 training accuracy 0.96\n",
            "epoch  388 training accuracy 0.96\n",
            "epoch  389 training accuracy 0.96\n",
            "epoch  390 training accuracy 0.96\n",
            "epoch  391 training accuracy 0.96\n",
            "epoch  392 training accuracy 0.96\n",
            "epoch  393 training accuracy 0.96\n",
            "epoch  394 training accuracy 0.96\n",
            "epoch  395 training accuracy 0.96\n",
            "epoch  396 training accuracy 0.96\n",
            "epoch  397 training accuracy 0.96\n",
            "epoch  398 training accuracy 0.96\n",
            "epoch  399 training accuracy 0.96\n",
            "epoch  400 training accuracy 0.96\n",
            "epoch  401 training accuracy 0.96\n",
            "epoch  402 training accuracy 0.96\n",
            "epoch  403 training accuracy 0.96\n",
            "epoch  404 training accuracy 0.96\n",
            "epoch  405 training accuracy 0.96\n",
            "epoch  406 training accuracy 0.96\n",
            "epoch  407 training accuracy 0.96\n",
            "epoch  408 training accuracy 0.96\n",
            "epoch  409 training accuracy 0.96\n",
            "epoch  410 training accuracy 0.96\n",
            "epoch  411 training accuracy 0.96\n",
            "epoch  412 training accuracy 0.96\n",
            "epoch  413 training accuracy 0.96\n",
            "epoch  414 training accuracy 0.96\n",
            "epoch  415 training accuracy 0.96\n",
            "epoch  416 training accuracy 0.96\n",
            "epoch  417 training accuracy 0.96\n",
            "epoch  418 training accuracy 0.96\n",
            "epoch  419 training accuracy 0.96\n",
            "epoch  420 training accuracy 0.96\n",
            "epoch  421 training accuracy 0.96\n",
            "epoch  422 training accuracy 0.96\n",
            "epoch  423 training accuracy 0.96\n",
            "epoch  424 training accuracy 0.96\n",
            "epoch  425 training accuracy 0.96\n",
            "epoch  426 training accuracy 0.96\n",
            "epoch  427 training accuracy 0.96\n",
            "epoch  428 training accuracy 0.96\n",
            "epoch  429 training accuracy 0.96\n",
            "epoch  430 training accuracy 0.96\n",
            "epoch  431 training accuracy 0.96\n",
            "epoch  432 training accuracy 0.96\n",
            "epoch  433 training accuracy 0.97\n",
            "epoch  434 training accuracy 0.97\n",
            "epoch  435 training accuracy 0.97\n",
            "epoch  436 training accuracy 0.97\n",
            "epoch  437 training accuracy 0.97\n",
            "epoch  438 training accuracy 0.97\n",
            "epoch  439 training accuracy 0.97\n",
            "epoch  440 training accuracy 0.97\n",
            "epoch  441 training accuracy 0.97\n",
            "epoch  442 training accuracy 0.97\n",
            "epoch  443 training accuracy 0.97\n",
            "epoch  444 training accuracy 0.97\n",
            "epoch  445 training accuracy 0.97\n",
            "epoch  446 training accuracy 0.97\n",
            "epoch  447 training accuracy 0.97\n",
            "epoch  448 training accuracy 0.97\n",
            "epoch  449 training accuracy 0.97\n",
            "epoch  450 training accuracy 0.97\n",
            "epoch  451 training accuracy 0.97\n",
            "epoch  452 training accuracy 0.97\n",
            "epoch  453 training accuracy 0.97\n",
            "epoch  454 training accuracy 0.97\n",
            "epoch  455 training accuracy 0.97\n",
            "epoch  456 training accuracy 0.97\n",
            "epoch  457 training accuracy 0.97\n",
            "epoch  458 training accuracy 0.97\n",
            "epoch  459 training accuracy 0.97\n",
            "epoch  460 training accuracy 0.97\n",
            "epoch  461 training accuracy 0.97\n",
            "epoch  462 training accuracy 0.97\n",
            "epoch  463 training accuracy 0.97\n",
            "epoch  464 training accuracy 0.97\n",
            "epoch  465 training accuracy 0.97\n",
            "epoch  466 training accuracy 0.97\n",
            "epoch  467 training accuracy 0.97\n",
            "epoch  468 training accuracy 0.97\n",
            "epoch  469 training accuracy 0.97\n",
            "epoch  470 training accuracy 0.97\n",
            "epoch  471 training accuracy 0.97\n",
            "epoch  472 training accuracy 0.97\n",
            "epoch  473 training accuracy 0.97\n",
            "epoch  474 training accuracy 0.97\n",
            "epoch  475 training accuracy 0.97\n",
            "epoch  476 training accuracy 0.97\n",
            "epoch  477 training accuracy 0.97\n",
            "epoch  478 training accuracy 0.97\n",
            "epoch  479 training accuracy 0.97\n",
            "epoch  480 training accuracy 0.97\n",
            "epoch  481 training accuracy 0.97\n",
            "epoch  482 training accuracy 0.97\n",
            "epoch  483 training accuracy 0.97\n",
            "epoch  484 training accuracy 0.97\n",
            "epoch  485 training accuracy 0.97\n",
            "epoch  486 training accuracy 0.97\n",
            "epoch  487 training accuracy 0.97\n",
            "epoch  488 training accuracy 0.97\n",
            "epoch  489 training accuracy 0.97\n",
            "epoch  490 training accuracy 0.97\n",
            "epoch  491 training accuracy 0.97\n",
            "epoch  492 training accuracy 0.97\n",
            "epoch  493 training accuracy 0.97\n",
            "epoch  494 training accuracy 0.97\n",
            "epoch  495 training accuracy 0.97\n",
            "epoch  496 training accuracy 0.97\n",
            "epoch  497 training accuracy 0.97\n",
            "epoch  498 training accuracy 0.97\n",
            "epoch  499 training accuracy 0.97\n"
          ]
        }
      ]
    },
    {
      "cell_type": "code",
      "metadata": {
        "id": "_egoluOBbtCs"
      },
      "source": [
        "eta= 0.001\n",
        "alpha= 0.001\n",
        "n_iter= 1000\n",
        "batch_size= 50"
      ],
      "execution_count": null,
      "outputs": []
    },
    {
      "cell_type": "code",
      "metadata": {
        "colab": {
          "base_uri": "https://localhost:8080/"
        },
        "id": "aSz8mxsUlORD",
        "outputId": "e822050b-bc1f-4fc2-fe5d-31b3dc608cdf"
      },
      "source": [
        "if __name__ == '__main__':\n",
        "  print(\"n_iter: 1000 / batch size 50(MLP)\")\n",
        "  mlp = MLP()\n",
        "  # X_train, y_train, X_test, y_test = mnist.load()\n",
        "  train_x, train_y = mlp.prep_data(train_x, train_y)\n",
        "  mlp.fit(train_x, train_y)"
      ],
      "execution_count": null,
      "outputs": [
        {
          "name": "stdout",
          "output_type": "stream",
          "text": [
            "n_iter: 1000 / batch size 50(MLP)\n",
            "epoch  0 training accuracy 0.46\n",
            "epoch  1 training accuracy 0.56\n",
            "epoch  2 training accuracy 0.61\n",
            "epoch  3 training accuracy 0.65\n",
            "epoch  4 training accuracy 0.68\n",
            "epoch  5 training accuracy 0.70\n",
            "epoch  6 training accuracy 0.72\n",
            "epoch  7 training accuracy 0.73\n",
            "epoch  8 training accuracy 0.74\n",
            "epoch  9 training accuracy 0.75\n",
            "epoch  10 training accuracy 0.76\n",
            "epoch  11 training accuracy 0.77\n",
            "epoch  12 training accuracy 0.78\n",
            "epoch  13 training accuracy 0.78\n",
            "epoch  14 training accuracy 0.79\n",
            "epoch  15 training accuracy 0.80\n",
            "epoch  16 training accuracy 0.80\n",
            "epoch  17 training accuracy 0.81\n",
            "epoch  18 training accuracy 0.81\n",
            "epoch  19 training accuracy 0.82\n",
            "epoch  20 training accuracy 0.82\n",
            "epoch  21 training accuracy 0.82\n",
            "epoch  22 training accuracy 0.83\n",
            "epoch  23 training accuracy 0.83\n",
            "epoch  24 training accuracy 0.83\n",
            "epoch  25 training accuracy 0.84\n",
            "epoch  26 training accuracy 0.84\n",
            "epoch  27 training accuracy 0.84\n",
            "epoch  28 training accuracy 0.84\n",
            "epoch  29 training accuracy 0.85\n",
            "epoch  30 training accuracy 0.85\n",
            "epoch  31 training accuracy 0.85\n",
            "epoch  32 training accuracy 0.85\n",
            "epoch  33 training accuracy 0.85\n",
            "epoch  34 training accuracy 0.86\n",
            "epoch  35 training accuracy 0.86\n",
            "epoch  36 training accuracy 0.86\n",
            "epoch  37 training accuracy 0.86\n",
            "epoch  38 training accuracy 0.86\n",
            "epoch  39 training accuracy 0.86\n",
            "epoch  40 training accuracy 0.87\n",
            "epoch  41 training accuracy 0.87\n",
            "epoch  42 training accuracy 0.87\n",
            "epoch  43 training accuracy 0.87\n",
            "epoch  44 training accuracy 0.87\n",
            "epoch  45 training accuracy 0.87\n",
            "epoch  46 training accuracy 0.87\n",
            "epoch  47 training accuracy 0.88\n",
            "epoch  48 training accuracy 0.88\n",
            "epoch  49 training accuracy 0.88\n",
            "epoch  50 training accuracy 0.88\n",
            "epoch  51 training accuracy 0.88\n",
            "epoch  52 training accuracy 0.88\n",
            "epoch  53 training accuracy 0.88\n",
            "epoch  54 training accuracy 0.88\n",
            "epoch  55 training accuracy 0.88\n",
            "epoch  56 training accuracy 0.89\n",
            "epoch  57 training accuracy 0.89\n",
            "epoch  58 training accuracy 0.89\n",
            "epoch  59 training accuracy 0.89\n",
            "epoch  60 training accuracy 0.89\n",
            "epoch  61 training accuracy 0.89\n",
            "epoch  62 training accuracy 0.89\n",
            "epoch  63 training accuracy 0.89\n",
            "epoch  64 training accuracy 0.89\n",
            "epoch  65 training accuracy 0.89\n",
            "epoch  66 training accuracy 0.89\n",
            "epoch  67 training accuracy 0.89\n",
            "epoch  68 training accuracy 0.90\n",
            "epoch  69 training accuracy 0.90\n",
            "epoch  70 training accuracy 0.90\n",
            "epoch  71 training accuracy 0.90\n",
            "epoch  72 training accuracy 0.90\n",
            "epoch  73 training accuracy 0.90\n",
            "epoch  74 training accuracy 0.90\n",
            "epoch  75 training accuracy 0.90\n",
            "epoch  76 training accuracy 0.90\n",
            "epoch  77 training accuracy 0.90\n",
            "epoch  78 training accuracy 0.90\n",
            "epoch  79 training accuracy 0.90\n",
            "epoch  80 training accuracy 0.90\n",
            "epoch  81 training accuracy 0.90\n",
            "epoch  82 training accuracy 0.90\n",
            "epoch  83 training accuracy 0.91\n",
            "epoch  84 training accuracy 0.91\n",
            "epoch  85 training accuracy 0.91\n",
            "epoch  86 training accuracy 0.91\n",
            "epoch  87 training accuracy 0.91\n",
            "epoch  88 training accuracy 0.91\n",
            "epoch  89 training accuracy 0.91\n",
            "epoch  90 training accuracy 0.91\n",
            "epoch  91 training accuracy 0.91\n",
            "epoch  92 training accuracy 0.91\n",
            "epoch  93 training accuracy 0.91\n",
            "epoch  94 training accuracy 0.91\n",
            "epoch  95 training accuracy 0.91\n",
            "epoch  96 training accuracy 0.91\n",
            "epoch  97 training accuracy 0.91\n",
            "epoch  98 training accuracy 0.91\n",
            "epoch  99 training accuracy 0.91\n",
            "epoch  100 training accuracy 0.91\n",
            "epoch  101 training accuracy 0.91\n",
            "epoch  102 training accuracy 0.91\n",
            "epoch  103 training accuracy 0.92\n",
            "epoch  104 training accuracy 0.92\n",
            "epoch  105 training accuracy 0.92\n",
            "epoch  106 training accuracy 0.92\n",
            "epoch  107 training accuracy 0.92\n",
            "epoch  108 training accuracy 0.92\n",
            "epoch  109 training accuracy 0.92\n",
            "epoch  110 training accuracy 0.92\n",
            "epoch  111 training accuracy 0.92\n",
            "epoch  112 training accuracy 0.92\n",
            "epoch  113 training accuracy 0.92\n",
            "epoch  114 training accuracy 0.92\n",
            "epoch  115 training accuracy 0.92\n",
            "epoch  116 training accuracy 0.92\n",
            "epoch  117 training accuracy 0.92\n",
            "epoch  118 training accuracy 0.92\n",
            "epoch  119 training accuracy 0.92\n",
            "epoch  120 training accuracy 0.92\n",
            "epoch  121 training accuracy 0.92\n",
            "epoch  122 training accuracy 0.92\n",
            "epoch  123 training accuracy 0.92\n",
            "epoch  124 training accuracy 0.92\n",
            "epoch  125 training accuracy 0.92\n",
            "epoch  126 training accuracy 0.92\n",
            "epoch  127 training accuracy 0.92\n",
            "epoch  128 training accuracy 0.92\n",
            "epoch  129 training accuracy 0.92\n",
            "epoch  130 training accuracy 0.93\n",
            "epoch  131 training accuracy 0.93\n",
            "epoch  132 training accuracy 0.93\n",
            "epoch  133 training accuracy 0.93\n",
            "epoch  134 training accuracy 0.93\n",
            "epoch  135 training accuracy 0.93\n",
            "epoch  136 training accuracy 0.93\n",
            "epoch  137 training accuracy 0.93\n",
            "epoch  138 training accuracy 0.93\n",
            "epoch  139 training accuracy 0.93\n",
            "epoch  140 training accuracy 0.93\n",
            "epoch  141 training accuracy 0.93\n",
            "epoch  142 training accuracy 0.93\n",
            "epoch  143 training accuracy 0.93\n",
            "epoch  144 training accuracy 0.93\n",
            "epoch  145 training accuracy 0.93\n",
            "epoch  146 training accuracy 0.93\n",
            "epoch  147 training accuracy 0.93\n",
            "epoch  148 training accuracy 0.93\n",
            "epoch  149 training accuracy 0.93\n",
            "epoch  150 training accuracy 0.93\n",
            "epoch  151 training accuracy 0.93\n",
            "epoch  152 training accuracy 0.93\n",
            "epoch  153 training accuracy 0.93\n",
            "epoch  154 training accuracy 0.93\n",
            "epoch  155 training accuracy 0.93\n",
            "epoch  156 training accuracy 0.93\n",
            "epoch  157 training accuracy 0.93\n",
            "epoch  158 training accuracy 0.93\n",
            "epoch  159 training accuracy 0.93\n",
            "epoch  160 training accuracy 0.93\n",
            "epoch  161 training accuracy 0.93\n",
            "epoch  162 training accuracy 0.93\n",
            "epoch  163 training accuracy 0.93\n",
            "epoch  164 training accuracy 0.93\n",
            "epoch  165 training accuracy 0.93\n",
            "epoch  166 training accuracy 0.94\n",
            "epoch  167 training accuracy 0.94\n",
            "epoch  168 training accuracy 0.94\n",
            "epoch  169 training accuracy 0.94\n",
            "epoch  170 training accuracy 0.94\n",
            "epoch  171 training accuracy 0.94\n",
            "epoch  172 training accuracy 0.94\n",
            "epoch  173 training accuracy 0.94\n",
            "epoch  174 training accuracy 0.94\n",
            "epoch  175 training accuracy 0.94\n",
            "epoch  176 training accuracy 0.94\n",
            "epoch  177 training accuracy 0.94\n",
            "epoch  178 training accuracy 0.94\n",
            "epoch  179 training accuracy 0.94\n",
            "epoch  180 training accuracy 0.94\n",
            "epoch  181 training accuracy 0.94\n",
            "epoch  182 training accuracy 0.94\n",
            "epoch  183 training accuracy 0.94\n",
            "epoch  184 training accuracy 0.94\n",
            "epoch  185 training accuracy 0.94\n",
            "epoch  186 training accuracy 0.94\n",
            "epoch  187 training accuracy 0.94\n",
            "epoch  188 training accuracy 0.94\n",
            "epoch  189 training accuracy 0.94\n",
            "epoch  190 training accuracy 0.94\n",
            "epoch  191 training accuracy 0.94\n",
            "epoch  192 training accuracy 0.94\n",
            "epoch  193 training accuracy 0.94\n",
            "epoch  194 training accuracy 0.94\n",
            "epoch  195 training accuracy 0.94\n",
            "epoch  196 training accuracy 0.94\n",
            "epoch  197 training accuracy 0.94\n",
            "epoch  198 training accuracy 0.94\n",
            "epoch  199 training accuracy 0.94\n",
            "epoch  200 training accuracy 0.94\n",
            "epoch  201 training accuracy 0.94\n",
            "epoch  202 training accuracy 0.94\n",
            "epoch  203 training accuracy 0.94\n",
            "epoch  204 training accuracy 0.94\n",
            "epoch  205 training accuracy 0.94\n",
            "epoch  206 training accuracy 0.94\n",
            "epoch  207 training accuracy 0.94\n",
            "epoch  208 training accuracy 0.94\n",
            "epoch  209 training accuracy 0.94\n",
            "epoch  210 training accuracy 0.94\n",
            "epoch  211 training accuracy 0.94\n",
            "epoch  212 training accuracy 0.94\n",
            "epoch  213 training accuracy 0.94\n",
            "epoch  214 training accuracy 0.94\n",
            "epoch  215 training accuracy 0.94\n",
            "epoch  216 training accuracy 0.94\n",
            "epoch  217 training accuracy 0.95\n",
            "epoch  218 training accuracy 0.95\n",
            "epoch  219 training accuracy 0.95\n",
            "epoch  220 training accuracy 0.95\n",
            "epoch  221 training accuracy 0.95\n",
            "epoch  222 training accuracy 0.95\n",
            "epoch  223 training accuracy 0.95\n",
            "epoch  224 training accuracy 0.95\n",
            "epoch  225 training accuracy 0.95\n",
            "epoch  226 training accuracy 0.95\n",
            "epoch  227 training accuracy 0.95\n",
            "epoch  228 training accuracy 0.95\n",
            "epoch  229 training accuracy 0.95\n",
            "epoch  230 training accuracy 0.95\n",
            "epoch  231 training accuracy 0.95\n",
            "epoch  232 training accuracy 0.95\n",
            "epoch  233 training accuracy 0.95\n",
            "epoch  234 training accuracy 0.95\n",
            "epoch  235 training accuracy 0.95\n",
            "epoch  236 training accuracy 0.95\n",
            "epoch  237 training accuracy 0.95\n",
            "epoch  238 training accuracy 0.95\n",
            "epoch  239 training accuracy 0.95\n",
            "epoch  240 training accuracy 0.95\n",
            "epoch  241 training accuracy 0.95\n",
            "epoch  242 training accuracy 0.95\n",
            "epoch  243 training accuracy 0.95\n",
            "epoch  244 training accuracy 0.95\n",
            "epoch  245 training accuracy 0.95\n",
            "epoch  246 training accuracy 0.95\n",
            "epoch  247 training accuracy 0.95\n",
            "epoch  248 training accuracy 0.95\n",
            "epoch  249 training accuracy 0.95\n",
            "epoch  250 training accuracy 0.95\n",
            "epoch  251 training accuracy 0.95\n",
            "epoch  252 training accuracy 0.95\n",
            "epoch  253 training accuracy 0.95\n",
            "epoch  254 training accuracy 0.95\n",
            "epoch  255 training accuracy 0.95\n",
            "epoch  256 training accuracy 0.95\n",
            "epoch  257 training accuracy 0.95\n",
            "epoch  258 training accuracy 0.95\n",
            "epoch  259 training accuracy 0.95\n",
            "epoch  260 training accuracy 0.95\n",
            "epoch  261 training accuracy 0.95\n",
            "epoch  262 training accuracy 0.95\n",
            "epoch  263 training accuracy 0.95\n",
            "epoch  264 training accuracy 0.95\n",
            "epoch  265 training accuracy 0.95\n",
            "epoch  266 training accuracy 0.95\n",
            "epoch  267 training accuracy 0.95\n",
            "epoch  268 training accuracy 0.95\n",
            "epoch  269 training accuracy 0.95\n",
            "epoch  270 training accuracy 0.95\n",
            "epoch  271 training accuracy 0.95\n",
            "epoch  272 training accuracy 0.95\n",
            "epoch  273 training accuracy 0.95\n",
            "epoch  274 training accuracy 0.95\n",
            "epoch  275 training accuracy 0.95\n",
            "epoch  276 training accuracy 0.95\n",
            "epoch  277 training accuracy 0.95\n",
            "epoch  278 training accuracy 0.95\n",
            "epoch  279 training accuracy 0.95\n",
            "epoch  280 training accuracy 0.95\n",
            "epoch  281 training accuracy 0.95\n",
            "epoch  282 training accuracy 0.95\n",
            "epoch  283 training accuracy 0.95\n",
            "epoch  284 training accuracy 0.95\n",
            "epoch  285 training accuracy 0.95\n",
            "epoch  286 training accuracy 0.95\n",
            "epoch  287 training accuracy 0.95\n",
            "epoch  288 training accuracy 0.95\n",
            "epoch  289 training accuracy 0.95\n",
            "epoch  290 training accuracy 0.96\n",
            "epoch  291 training accuracy 0.96\n",
            "epoch  292 training accuracy 0.96\n",
            "epoch  293 training accuracy 0.96\n",
            "epoch  294 training accuracy 0.96\n",
            "epoch  295 training accuracy 0.96\n",
            "epoch  296 training accuracy 0.96\n",
            "epoch  297 training accuracy 0.96\n",
            "epoch  298 training accuracy 0.96\n",
            "epoch  299 training accuracy 0.96\n",
            "epoch  300 training accuracy 0.96\n",
            "epoch  301 training accuracy 0.96\n",
            "epoch  302 training accuracy 0.96\n",
            "epoch  303 training accuracy 0.96\n",
            "epoch  304 training accuracy 0.96\n",
            "epoch  305 training accuracy 0.96\n",
            "epoch  306 training accuracy 0.96\n",
            "epoch  307 training accuracy 0.96\n",
            "epoch  308 training accuracy 0.96\n",
            "epoch  309 training accuracy 0.96\n",
            "epoch  310 training accuracy 0.96\n",
            "epoch  311 training accuracy 0.96\n",
            "epoch  312 training accuracy 0.96\n",
            "epoch  313 training accuracy 0.96\n",
            "epoch  314 training accuracy 0.96\n",
            "epoch  315 training accuracy 0.96\n",
            "epoch  316 training accuracy 0.96\n",
            "epoch  317 training accuracy 0.96\n",
            "epoch  318 training accuracy 0.96\n",
            "epoch  319 training accuracy 0.96\n",
            "epoch  320 training accuracy 0.96\n",
            "epoch  321 training accuracy 0.96\n",
            "epoch  322 training accuracy 0.96\n",
            "epoch  323 training accuracy 0.96\n",
            "epoch  324 training accuracy 0.96\n",
            "epoch  325 training accuracy 0.96\n",
            "epoch  326 training accuracy 0.96\n",
            "epoch  327 training accuracy 0.96\n",
            "epoch  328 training accuracy 0.96\n",
            "epoch  329 training accuracy 0.96\n",
            "epoch  330 training accuracy 0.96\n",
            "epoch  331 training accuracy 0.96\n",
            "epoch  332 training accuracy 0.96\n",
            "epoch  333 training accuracy 0.96\n",
            "epoch  334 training accuracy 0.96\n",
            "epoch  335 training accuracy 0.96\n",
            "epoch  336 training accuracy 0.96\n",
            "epoch  337 training accuracy 0.96\n",
            "epoch  338 training accuracy 0.96\n",
            "epoch  339 training accuracy 0.96\n",
            "epoch  340 training accuracy 0.96\n",
            "epoch  341 training accuracy 0.96\n",
            "epoch  342 training accuracy 0.96\n",
            "epoch  343 training accuracy 0.96\n",
            "epoch  344 training accuracy 0.96\n",
            "epoch  345 training accuracy 0.96\n",
            "epoch  346 training accuracy 0.96\n",
            "epoch  347 training accuracy 0.96\n",
            "epoch  348 training accuracy 0.96\n",
            "epoch  349 training accuracy 0.96\n",
            "epoch  350 training accuracy 0.96\n",
            "epoch  351 training accuracy 0.96\n",
            "epoch  352 training accuracy 0.96\n",
            "epoch  353 training accuracy 0.96\n",
            "epoch  354 training accuracy 0.96\n",
            "epoch  355 training accuracy 0.96\n",
            "epoch  356 training accuracy 0.96\n",
            "epoch  357 training accuracy 0.96\n",
            "epoch  358 training accuracy 0.96\n",
            "epoch  359 training accuracy 0.96\n",
            "epoch  360 training accuracy 0.96\n",
            "epoch  361 training accuracy 0.96\n",
            "epoch  362 training accuracy 0.96\n",
            "epoch  363 training accuracy 0.96\n",
            "epoch  364 training accuracy 0.96\n",
            "epoch  365 training accuracy 0.96\n",
            "epoch  366 training accuracy 0.96\n",
            "epoch  367 training accuracy 0.96\n",
            "epoch  368 training accuracy 0.96\n",
            "epoch  369 training accuracy 0.96\n",
            "epoch  370 training accuracy 0.96\n",
            "epoch  371 training accuracy 0.96\n",
            "epoch  372 training accuracy 0.96\n",
            "epoch  373 training accuracy 0.96\n",
            "epoch  374 training accuracy 0.96\n",
            "epoch  375 training accuracy 0.96\n",
            "epoch  376 training accuracy 0.96\n",
            "epoch  377 training accuracy 0.96\n",
            "epoch  378 training accuracy 0.96\n",
            "epoch  379 training accuracy 0.96\n",
            "epoch  380 training accuracy 0.96\n",
            "epoch  381 training accuracy 0.96\n",
            "epoch  382 training accuracy 0.96\n",
            "epoch  383 training accuracy 0.96\n",
            "epoch  384 training accuracy 0.96\n",
            "epoch  385 training accuracy 0.96\n",
            "epoch  386 training accuracy 0.96\n",
            "epoch  387 training accuracy 0.96\n",
            "epoch  388 training accuracy 0.96\n",
            "epoch  389 training accuracy 0.96\n",
            "epoch  390 training accuracy 0.96\n",
            "epoch  391 training accuracy 0.96\n",
            "epoch  392 training accuracy 0.96\n",
            "epoch  393 training accuracy 0.96\n",
            "epoch  394 training accuracy 0.96\n",
            "epoch  395 training accuracy 0.96\n",
            "epoch  396 training accuracy 0.96\n",
            "epoch  397 training accuracy 0.96\n",
            "epoch  398 training accuracy 0.96\n",
            "epoch  399 training accuracy 0.96\n",
            "epoch  400 training accuracy 0.96\n",
            "epoch  401 training accuracy 0.96\n",
            "epoch  402 training accuracy 0.96\n",
            "epoch  403 training accuracy 0.97\n",
            "epoch  404 training accuracy 0.97\n",
            "epoch  405 training accuracy 0.97\n",
            "epoch  406 training accuracy 0.97\n",
            "epoch  407 training accuracy 0.97\n",
            "epoch  408 training accuracy 0.97\n",
            "epoch  409 training accuracy 0.97\n",
            "epoch  410 training accuracy 0.97\n",
            "epoch  411 training accuracy 0.97\n",
            "epoch  412 training accuracy 0.97\n",
            "epoch  413 training accuracy 0.97\n",
            "epoch  414 training accuracy 0.97\n",
            "epoch  415 training accuracy 0.97\n",
            "epoch  416 training accuracy 0.97\n",
            "epoch  417 training accuracy 0.97\n",
            "epoch  418 training accuracy 0.97\n",
            "epoch  419 training accuracy 0.97\n",
            "epoch  420 training accuracy 0.97\n",
            "epoch  421 training accuracy 0.97\n",
            "epoch  422 training accuracy 0.97\n",
            "epoch  423 training accuracy 0.97\n",
            "epoch  424 training accuracy 0.97\n",
            "epoch  425 training accuracy 0.97\n",
            "epoch  426 training accuracy 0.97\n",
            "epoch  427 training accuracy 0.97\n",
            "epoch  428 training accuracy 0.97\n",
            "epoch  429 training accuracy 0.97\n",
            "epoch  430 training accuracy 0.97\n",
            "epoch  431 training accuracy 0.97\n",
            "epoch  432 training accuracy 0.97\n",
            "epoch  433 training accuracy 0.97\n",
            "epoch  434 training accuracy 0.97\n",
            "epoch  435 training accuracy 0.97\n",
            "epoch  436 training accuracy 0.97\n",
            "epoch  437 training accuracy 0.97\n",
            "epoch  438 training accuracy 0.97\n",
            "epoch  439 training accuracy 0.97\n",
            "epoch  440 training accuracy 0.97\n",
            "epoch  441 training accuracy 0.97\n",
            "epoch  442 training accuracy 0.97\n",
            "epoch  443 training accuracy 0.97\n",
            "epoch  444 training accuracy 0.97\n",
            "epoch  445 training accuracy 0.97\n",
            "epoch  446 training accuracy 0.97\n",
            "epoch  447 training accuracy 0.97\n",
            "epoch  448 training accuracy 0.97\n",
            "epoch  449 training accuracy 0.97\n",
            "epoch  450 training accuracy 0.97\n",
            "epoch  451 training accuracy 0.97\n",
            "epoch  452 training accuracy 0.97\n",
            "epoch  453 training accuracy 0.97\n",
            "epoch  454 training accuracy 0.97\n",
            "epoch  455 training accuracy 0.97\n",
            "epoch  456 training accuracy 0.97\n",
            "epoch  457 training accuracy 0.97\n",
            "epoch  458 training accuracy 0.97\n",
            "epoch  459 training accuracy 0.97\n",
            "epoch  460 training accuracy 0.97\n",
            "epoch  461 training accuracy 0.97\n",
            "epoch  462 training accuracy 0.97\n",
            "epoch  463 training accuracy 0.97\n",
            "epoch  464 training accuracy 0.97\n",
            "epoch  465 training accuracy 0.97\n",
            "epoch  466 training accuracy 0.97\n",
            "epoch  467 training accuracy 0.97\n",
            "epoch  468 training accuracy 0.97\n",
            "epoch  469 training accuracy 0.97\n",
            "epoch  470 training accuracy 0.97\n",
            "epoch  471 training accuracy 0.97\n",
            "epoch  472 training accuracy 0.97\n",
            "epoch  473 training accuracy 0.97\n",
            "epoch  474 training accuracy 0.97\n",
            "epoch  475 training accuracy 0.97\n",
            "epoch  476 training accuracy 0.97\n",
            "epoch  477 training accuracy 0.97\n",
            "epoch  478 training accuracy 0.97\n",
            "epoch  479 training accuracy 0.97\n",
            "epoch  480 training accuracy 0.97\n",
            "epoch  481 training accuracy 0.97\n",
            "epoch  482 training accuracy 0.97\n",
            "epoch  483 training accuracy 0.97\n",
            "epoch  484 training accuracy 0.97\n",
            "epoch  485 training accuracy 0.97\n",
            "epoch  486 training accuracy 0.97\n",
            "epoch  487 training accuracy 0.97\n",
            "epoch  488 training accuracy 0.97\n",
            "epoch  489 training accuracy 0.97\n",
            "epoch  490 training accuracy 0.97\n",
            "epoch  491 training accuracy 0.97\n",
            "epoch  492 training accuracy 0.97\n",
            "epoch  493 training accuracy 0.97\n",
            "epoch  494 training accuracy 0.97\n",
            "epoch  495 training accuracy 0.97\n",
            "epoch  496 training accuracy 0.97\n",
            "epoch  497 training accuracy 0.97\n",
            "epoch  498 training accuracy 0.97\n",
            "epoch  499 training accuracy 0.97\n",
            "epoch  500 training accuracy 0.97\n",
            "epoch  501 training accuracy 0.97\n",
            "epoch  502 training accuracy 0.97\n",
            "epoch  503 training accuracy 0.97\n",
            "epoch  504 training accuracy 0.97\n",
            "epoch  505 training accuracy 0.97\n",
            "epoch  506 training accuracy 0.97\n",
            "epoch  507 training accuracy 0.97\n",
            "epoch  508 training accuracy 0.97\n",
            "epoch  509 training accuracy 0.97\n",
            "epoch  510 training accuracy 0.97\n",
            "epoch  511 training accuracy 0.97\n",
            "epoch  512 training accuracy 0.97\n",
            "epoch  513 training accuracy 0.97\n",
            "epoch  514 training accuracy 0.97\n",
            "epoch  515 training accuracy 0.97\n",
            "epoch  516 training accuracy 0.97\n",
            "epoch  517 training accuracy 0.97\n",
            "epoch  518 training accuracy 0.97\n",
            "epoch  519 training accuracy 0.97\n",
            "epoch  520 training accuracy 0.97\n",
            "epoch  521 training accuracy 0.97\n",
            "epoch  522 training accuracy 0.97\n",
            "epoch  523 training accuracy 0.97\n",
            "epoch  524 training accuracy 0.97\n",
            "epoch  525 training accuracy 0.97\n",
            "epoch  526 training accuracy 0.97\n",
            "epoch  527 training accuracy 0.97\n",
            "epoch  528 training accuracy 0.97\n",
            "epoch  529 training accuracy 0.97\n",
            "epoch  530 training accuracy 0.97\n",
            "epoch  531 training accuracy 0.97\n",
            "epoch  532 training accuracy 0.97\n",
            "epoch  533 training accuracy 0.97\n",
            "epoch  534 training accuracy 0.97\n",
            "epoch  535 training accuracy 0.97\n",
            "epoch  536 training accuracy 0.97\n",
            "epoch  537 training accuracy 0.97\n",
            "epoch  538 training accuracy 0.97\n",
            "epoch  539 training accuracy 0.97\n",
            "epoch  540 training accuracy 0.97\n",
            "epoch  541 training accuracy 0.97\n",
            "epoch  542 training accuracy 0.97\n",
            "epoch  543 training accuracy 0.97\n",
            "epoch  544 training accuracy 0.97\n",
            "epoch  545 training accuracy 0.97\n",
            "epoch  546 training accuracy 0.97\n",
            "epoch  547 training accuracy 0.97\n",
            "epoch  548 training accuracy 0.97\n",
            "epoch  549 training accuracy 0.97\n",
            "epoch  550 training accuracy 0.97\n",
            "epoch  551 training accuracy 0.97\n",
            "epoch  552 training accuracy 0.97\n",
            "epoch  553 training accuracy 0.97\n",
            "epoch  554 training accuracy 0.97\n",
            "epoch  555 training accuracy 0.97\n",
            "epoch  556 training accuracy 0.97\n",
            "epoch  557 training accuracy 0.97\n",
            "epoch  558 training accuracy 0.97\n",
            "epoch  559 training accuracy 0.97\n",
            "epoch  560 training accuracy 0.97\n",
            "epoch  561 training accuracy 0.97\n",
            "epoch  562 training accuracy 0.97\n",
            "epoch  563 training accuracy 0.97\n",
            "epoch  564 training accuracy 0.97\n",
            "epoch  565 training accuracy 0.97\n",
            "epoch  566 training accuracy 0.97\n",
            "epoch  567 training accuracy 0.97\n",
            "epoch  568 training accuracy 0.97\n",
            "epoch  569 training accuracy 0.97\n",
            "epoch  570 training accuracy 0.97\n",
            "epoch  571 training accuracy 0.97\n",
            "epoch  572 training accuracy 0.97\n",
            "epoch  573 training accuracy 0.97\n",
            "epoch  574 training accuracy 0.97\n",
            "epoch  575 training accuracy 0.97\n",
            "epoch  576 training accuracy 0.97\n",
            "epoch  577 training accuracy 0.97\n",
            "epoch  578 training accuracy 0.97\n",
            "epoch  579 training accuracy 0.97\n",
            "epoch  580 training accuracy 0.97\n",
            "epoch  581 training accuracy 0.97\n",
            "epoch  582 training accuracy 0.97\n",
            "epoch  583 training accuracy 0.97\n",
            "epoch  584 training accuracy 0.97\n",
            "epoch  585 training accuracy 0.97\n",
            "epoch  586 training accuracy 0.97\n",
            "epoch  587 training accuracy 0.97\n",
            "epoch  588 training accuracy 0.97\n",
            "epoch  589 training accuracy 0.97\n",
            "epoch  590 training accuracy 0.97\n",
            "epoch  591 training accuracy 0.97\n",
            "epoch  592 training accuracy 0.97\n",
            "epoch  593 training accuracy 0.97\n",
            "epoch  594 training accuracy 0.97\n",
            "epoch  595 training accuracy 0.98\n",
            "epoch  596 training accuracy 0.98\n",
            "epoch  597 training accuracy 0.98\n",
            "epoch  598 training accuracy 0.98\n",
            "epoch  599 training accuracy 0.98\n",
            "epoch  600 training accuracy 0.98\n",
            "epoch  601 training accuracy 0.98\n",
            "epoch  602 training accuracy 0.98\n",
            "epoch  603 training accuracy 0.98\n",
            "epoch  604 training accuracy 0.98\n",
            "epoch  605 training accuracy 0.98\n",
            "epoch  606 training accuracy 0.98\n",
            "epoch  607 training accuracy 0.98\n",
            "epoch  608 training accuracy 0.98\n",
            "epoch  609 training accuracy 0.98\n",
            "epoch  610 training accuracy 0.98\n",
            "epoch  611 training accuracy 0.98\n",
            "epoch  612 training accuracy 0.98\n",
            "epoch  613 training accuracy 0.98\n",
            "epoch  614 training accuracy 0.98\n",
            "epoch  615 training accuracy 0.98\n",
            "epoch  616 training accuracy 0.98\n",
            "epoch  617 training accuracy 0.98\n",
            "epoch  618 training accuracy 0.98\n",
            "epoch  619 training accuracy 0.98\n",
            "epoch  620 training accuracy 0.98\n",
            "epoch  621 training accuracy 0.98\n",
            "epoch  622 training accuracy 0.98\n",
            "epoch  623 training accuracy 0.98\n",
            "epoch  624 training accuracy 0.98\n",
            "epoch  625 training accuracy 0.98\n",
            "epoch  626 training accuracy 0.98\n",
            "epoch  627 training accuracy 0.98\n",
            "epoch  628 training accuracy 0.98\n",
            "epoch  629 training accuracy 0.98\n",
            "epoch  630 training accuracy 0.98\n",
            "epoch  631 training accuracy 0.98\n",
            "epoch  632 training accuracy 0.98\n",
            "epoch  633 training accuracy 0.98\n",
            "epoch  634 training accuracy 0.98\n",
            "epoch  635 training accuracy 0.98\n",
            "epoch  636 training accuracy 0.98\n",
            "epoch  637 training accuracy 0.98\n",
            "epoch  638 training accuracy 0.98\n",
            "epoch  639 training accuracy 0.98\n",
            "epoch  640 training accuracy 0.98\n",
            "epoch  641 training accuracy 0.98\n",
            "epoch  642 training accuracy 0.98\n",
            "epoch  643 training accuracy 0.98\n",
            "epoch  644 training accuracy 0.98\n",
            "epoch  645 training accuracy 0.98\n",
            "epoch  646 training accuracy 0.98\n",
            "epoch  647 training accuracy 0.98\n",
            "epoch  648 training accuracy 0.98\n",
            "epoch  649 training accuracy 0.98\n",
            "epoch  650 training accuracy 0.98\n",
            "epoch  651 training accuracy 0.98\n",
            "epoch  652 training accuracy 0.98\n",
            "epoch  653 training accuracy 0.98\n",
            "epoch  654 training accuracy 0.98\n",
            "epoch  655 training accuracy 0.98\n",
            "epoch  656 training accuracy 0.98\n",
            "epoch  657 training accuracy 0.98\n",
            "epoch  658 training accuracy 0.98\n",
            "epoch  659 training accuracy 0.98\n",
            "epoch  660 training accuracy 0.98\n",
            "epoch  661 training accuracy 0.98\n",
            "epoch  662 training accuracy 0.98\n",
            "epoch  663 training accuracy 0.98\n",
            "epoch  664 training accuracy 0.98\n",
            "epoch  665 training accuracy 0.98\n",
            "epoch  666 training accuracy 0.98\n",
            "epoch  667 training accuracy 0.98\n",
            "epoch  668 training accuracy 0.98\n",
            "epoch  669 training accuracy 0.98\n",
            "epoch  670 training accuracy 0.98\n",
            "epoch  671 training accuracy 0.98\n",
            "epoch  672 training accuracy 0.98\n",
            "epoch  673 training accuracy 0.98\n",
            "epoch  674 training accuracy 0.98\n",
            "epoch  675 training accuracy 0.98\n",
            "epoch  676 training accuracy 0.98\n",
            "epoch  677 training accuracy 0.98\n",
            "epoch  678 training accuracy 0.98\n",
            "epoch  679 training accuracy 0.98\n",
            "epoch  680 training accuracy 0.98\n",
            "epoch  681 training accuracy 0.98\n",
            "epoch  682 training accuracy 0.98\n",
            "epoch  683 training accuracy 0.98\n",
            "epoch  684 training accuracy 0.98\n",
            "epoch  685 training accuracy 0.98\n",
            "epoch  686 training accuracy 0.98\n",
            "epoch  687 training accuracy 0.98\n",
            "epoch  688 training accuracy 0.98\n",
            "epoch  689 training accuracy 0.98\n",
            "epoch  690 training accuracy 0.98\n",
            "epoch  691 training accuracy 0.98\n",
            "epoch  692 training accuracy 0.98\n",
            "epoch  693 training accuracy 0.98\n",
            "epoch  694 training accuracy 0.98\n",
            "epoch  695 training accuracy 0.98\n",
            "epoch  696 training accuracy 0.98\n",
            "epoch  697 training accuracy 0.98\n",
            "epoch  698 training accuracy 0.98\n",
            "epoch  699 training accuracy 0.98\n",
            "epoch  700 training accuracy 0.98\n",
            "epoch  701 training accuracy 0.98\n",
            "epoch  702 training accuracy 0.98\n",
            "epoch  703 training accuracy 0.98\n",
            "epoch  704 training accuracy 0.98\n",
            "epoch  705 training accuracy 0.98\n",
            "epoch  706 training accuracy 0.98\n",
            "epoch  707 training accuracy 0.98\n",
            "epoch  708 training accuracy 0.98\n",
            "epoch  709 training accuracy 0.98\n",
            "epoch  710 training accuracy 0.98\n",
            "epoch  711 training accuracy 0.98\n",
            "epoch  712 training accuracy 0.98\n",
            "epoch  713 training accuracy 0.98\n",
            "epoch  714 training accuracy 0.98\n",
            "epoch  715 training accuracy 0.98\n",
            "epoch  716 training accuracy 0.98\n",
            "epoch  717 training accuracy 0.98\n",
            "epoch  718 training accuracy 0.98\n",
            "epoch  719 training accuracy 0.98\n",
            "epoch  720 training accuracy 0.98\n",
            "epoch  721 training accuracy 0.98\n",
            "epoch  722 training accuracy 0.98\n",
            "epoch  723 training accuracy 0.98\n",
            "epoch  724 training accuracy 0.98\n",
            "epoch  725 training accuracy 0.98\n",
            "epoch  726 training accuracy 0.98\n",
            "epoch  727 training accuracy 0.98\n",
            "epoch  728 training accuracy 0.98\n",
            "epoch  729 training accuracy 0.98\n",
            "epoch  730 training accuracy 0.98\n",
            "epoch  731 training accuracy 0.98\n",
            "epoch  732 training accuracy 0.98\n",
            "epoch  733 training accuracy 0.98\n",
            "epoch  734 training accuracy 0.98\n",
            "epoch  735 training accuracy 0.98\n",
            "epoch  736 training accuracy 0.98\n",
            "epoch  737 training accuracy 0.98\n",
            "epoch  738 training accuracy 0.98\n",
            "epoch  739 training accuracy 0.98\n",
            "epoch  740 training accuracy 0.98\n",
            "epoch  741 training accuracy 0.98\n",
            "epoch  742 training accuracy 0.98\n",
            "epoch  743 training accuracy 0.98\n",
            "epoch  744 training accuracy 0.98\n",
            "epoch  745 training accuracy 0.98\n",
            "epoch  746 training accuracy 0.98\n",
            "epoch  747 training accuracy 0.98\n",
            "epoch  748 training accuracy 0.98\n",
            "epoch  749 training accuracy 0.98\n",
            "epoch  750 training accuracy 0.98\n",
            "epoch  751 training accuracy 0.98\n",
            "epoch  752 training accuracy 0.98\n",
            "epoch  753 training accuracy 0.98\n",
            "epoch  754 training accuracy 0.98\n",
            "epoch  755 training accuracy 0.98\n",
            "epoch  756 training accuracy 0.98\n",
            "epoch  757 training accuracy 0.98\n",
            "epoch  758 training accuracy 0.98\n",
            "epoch  759 training accuracy 0.98\n",
            "epoch  760 training accuracy 0.98\n",
            "epoch  761 training accuracy 0.98\n",
            "epoch  762 training accuracy 0.98\n",
            "epoch  763 training accuracy 0.98\n",
            "epoch  764 training accuracy 0.98\n",
            "epoch  765 training accuracy 0.98\n",
            "epoch  766 training accuracy 0.98\n",
            "epoch  767 training accuracy 0.98\n",
            "epoch  768 training accuracy 0.98\n",
            "epoch  769 training accuracy 0.98\n",
            "epoch  770 training accuracy 0.98\n",
            "epoch  771 training accuracy 0.98\n",
            "epoch  772 training accuracy 0.98\n",
            "epoch  773 training accuracy 0.98\n",
            "epoch  774 training accuracy 0.98\n",
            "epoch  775 training accuracy 0.98\n",
            "epoch  776 training accuracy 0.98\n",
            "epoch  777 training accuracy 0.98\n",
            "epoch  778 training accuracy 0.98\n",
            "epoch  779 training accuracy 0.98\n",
            "epoch  780 training accuracy 0.98\n",
            "epoch  781 training accuracy 0.98\n",
            "epoch  782 training accuracy 0.98\n",
            "epoch  783 training accuracy 0.98\n",
            "epoch  784 training accuracy 0.98\n",
            "epoch  785 training accuracy 0.98\n",
            "epoch  786 training accuracy 0.98\n",
            "epoch  787 training accuracy 0.98\n",
            "epoch  788 training accuracy 0.98\n",
            "epoch  789 training accuracy 0.98\n",
            "epoch  790 training accuracy 0.98\n",
            "epoch  791 training accuracy 0.98\n",
            "epoch  792 training accuracy 0.98\n",
            "epoch  793 training accuracy 0.98\n",
            "epoch  794 training accuracy 0.98\n",
            "epoch  795 training accuracy 0.98\n",
            "epoch  796 training accuracy 0.98\n",
            "epoch  797 training accuracy 0.98\n",
            "epoch  798 training accuracy 0.98\n",
            "epoch  799 training accuracy 0.98\n",
            "epoch  800 training accuracy 0.98\n",
            "epoch  801 training accuracy 0.98\n",
            "epoch  802 training accuracy 0.98\n",
            "epoch  803 training accuracy 0.98\n",
            "epoch  804 training accuracy 0.98\n",
            "epoch  805 training accuracy 0.98\n",
            "epoch  806 training accuracy 0.98\n",
            "epoch  807 training accuracy 0.98\n",
            "epoch  808 training accuracy 0.98\n",
            "epoch  809 training accuracy 0.98\n",
            "epoch  810 training accuracy 0.98\n",
            "epoch  811 training accuracy 0.98\n",
            "epoch  812 training accuracy 0.98\n",
            "epoch  813 training accuracy 0.98\n",
            "epoch  814 training accuracy 0.98\n",
            "epoch  815 training accuracy 0.98\n",
            "epoch  816 training accuracy 0.98\n",
            "epoch  817 training accuracy 0.98\n",
            "epoch  818 training accuracy 0.98\n",
            "epoch  819 training accuracy 0.98\n",
            "epoch  820 training accuracy 0.98\n",
            "epoch  821 training accuracy 0.98\n",
            "epoch  822 training accuracy 0.98\n",
            "epoch  823 training accuracy 0.98\n",
            "epoch  824 training accuracy 0.98\n",
            "epoch  825 training accuracy 0.98\n",
            "epoch  826 training accuracy 0.98\n",
            "epoch  827 training accuracy 0.98\n",
            "epoch  828 training accuracy 0.98\n",
            "epoch  829 training accuracy 0.98\n",
            "epoch  830 training accuracy 0.98\n",
            "epoch  831 training accuracy 0.98\n",
            "epoch  832 training accuracy 0.98\n",
            "epoch  833 training accuracy 0.98\n",
            "epoch  834 training accuracy 0.98\n",
            "epoch  835 training accuracy 0.98\n",
            "epoch  836 training accuracy 0.98\n",
            "epoch  837 training accuracy 0.98\n",
            "epoch  838 training accuracy 0.98\n",
            "epoch  839 training accuracy 0.98\n",
            "epoch  840 training accuracy 0.98\n",
            "epoch  841 training accuracy 0.98\n",
            "epoch  842 training accuracy 0.98\n",
            "epoch  843 training accuracy 0.98\n",
            "epoch  844 training accuracy 0.98\n",
            "epoch  845 training accuracy 0.98\n",
            "epoch  846 training accuracy 0.98\n",
            "epoch  847 training accuracy 0.98\n",
            "epoch  848 training accuracy 0.98\n",
            "epoch  849 training accuracy 0.98\n",
            "epoch  850 training accuracy 0.98\n",
            "epoch  851 training accuracy 0.98\n",
            "epoch  852 training accuracy 0.98\n",
            "epoch  853 training accuracy 0.98\n",
            "epoch  854 training accuracy 0.98\n",
            "epoch  855 training accuracy 0.98\n",
            "epoch  856 training accuracy 0.98\n",
            "epoch  857 training accuracy 0.98\n",
            "epoch  858 training accuracy 0.98\n",
            "epoch  859 training accuracy 0.98\n",
            "epoch  860 training accuracy 0.98\n",
            "epoch  861 training accuracy 0.98\n",
            "epoch  862 training accuracy 0.98\n",
            "epoch  863 training accuracy 0.98\n",
            "epoch  864 training accuracy 0.98\n",
            "epoch  865 training accuracy 0.98\n",
            "epoch  866 training accuracy 0.98\n",
            "epoch  867 training accuracy 0.98\n",
            "epoch  868 training accuracy 0.98\n",
            "epoch  869 training accuracy 0.98\n",
            "epoch  870 training accuracy 0.98\n",
            "epoch  871 training accuracy 0.98\n",
            "epoch  872 training accuracy 0.98\n",
            "epoch  873 training accuracy 0.98\n",
            "epoch  874 training accuracy 0.98\n",
            "epoch  875 training accuracy 0.98\n",
            "epoch  876 training accuracy 0.98\n",
            "epoch  877 training accuracy 0.98\n",
            "epoch  878 training accuracy 0.98\n",
            "epoch  879 training accuracy 0.98\n",
            "epoch  880 training accuracy 0.98\n",
            "epoch  881 training accuracy 0.98\n",
            "epoch  882 training accuracy 0.98\n",
            "epoch  883 training accuracy 0.98\n",
            "epoch  884 training accuracy 0.98\n",
            "epoch  885 training accuracy 0.98\n",
            "epoch  886 training accuracy 0.98\n",
            "epoch  887 training accuracy 0.98\n",
            "epoch  888 training accuracy 0.98\n",
            "epoch  889 training accuracy 0.98\n",
            "epoch  890 training accuracy 0.98\n",
            "epoch  891 training accuracy 0.98\n",
            "epoch  892 training accuracy 0.98\n",
            "epoch  893 training accuracy 0.98\n",
            "epoch  894 training accuracy 0.98\n",
            "epoch  895 training accuracy 0.98\n",
            "epoch  896 training accuracy 0.98\n",
            "epoch  897 training accuracy 0.98\n",
            "epoch  898 training accuracy 0.98\n",
            "epoch  899 training accuracy 0.98\n",
            "epoch  900 training accuracy 0.98\n",
            "epoch  901 training accuracy 0.98\n",
            "epoch  902 training accuracy 0.98\n",
            "epoch  903 training accuracy 0.98\n",
            "epoch  904 training accuracy 0.98\n",
            "epoch  905 training accuracy 0.98\n",
            "epoch  906 training accuracy 0.98\n",
            "epoch  907 training accuracy 0.98\n",
            "epoch  908 training accuracy 0.98\n",
            "epoch  909 training accuracy 0.98\n",
            "epoch  910 training accuracy 0.98\n",
            "epoch  911 training accuracy 0.98\n",
            "epoch  912 training accuracy 0.98\n",
            "epoch  913 training accuracy 0.98\n",
            "epoch  914 training accuracy 0.98\n",
            "epoch  915 training accuracy 0.98\n",
            "epoch  916 training accuracy 0.98\n",
            "epoch  917 training accuracy 0.98\n",
            "epoch  918 training accuracy 0.98\n",
            "epoch  919 training accuracy 0.98\n",
            "epoch  920 training accuracy 0.98\n",
            "epoch  921 training accuracy 0.98\n",
            "epoch  922 training accuracy 0.98\n",
            "epoch  923 training accuracy 0.98\n",
            "epoch  924 training accuracy 0.98\n",
            "epoch  925 training accuracy 0.98\n",
            "epoch  926 training accuracy 0.98\n",
            "epoch  927 training accuracy 0.98\n",
            "epoch  928 training accuracy 0.98\n",
            "epoch  929 training accuracy 0.98\n",
            "epoch  930 training accuracy 0.98\n",
            "epoch  931 training accuracy 0.98\n",
            "epoch  932 training accuracy 0.98\n",
            "epoch  933 training accuracy 0.98\n",
            "epoch  934 training accuracy 0.98\n",
            "epoch  935 training accuracy 0.98\n",
            "epoch  936 training accuracy 0.98\n",
            "epoch  937 training accuracy 0.98\n",
            "epoch  938 training accuracy 0.98\n",
            "epoch  939 training accuracy 0.98\n",
            "epoch  940 training accuracy 0.98\n",
            "epoch  941 training accuracy 0.98\n",
            "epoch  942 training accuracy 0.98\n",
            "epoch  943 training accuracy 0.98\n",
            "epoch  944 training accuracy 0.98\n",
            "epoch  945 training accuracy 0.98\n",
            "epoch  946 training accuracy 0.98\n",
            "epoch  947 training accuracy 0.98\n",
            "epoch  948 training accuracy 0.98\n",
            "epoch  949 training accuracy 0.98\n",
            "epoch  950 training accuracy 0.98\n",
            "epoch  951 training accuracy 0.98\n",
            "epoch  952 training accuracy 0.98\n",
            "epoch  953 training accuracy 0.98\n",
            "epoch  954 training accuracy 0.98\n",
            "epoch  955 training accuracy 0.98\n",
            "epoch  956 training accuracy 0.98\n",
            "epoch  957 training accuracy 0.98\n",
            "epoch  958 training accuracy 0.98\n",
            "epoch  959 training accuracy 0.98\n",
            "epoch  960 training accuracy 0.98\n",
            "epoch  961 training accuracy 0.98\n",
            "epoch  962 training accuracy 0.98\n",
            "epoch  963 training accuracy 0.98\n",
            "epoch  964 training accuracy 0.98\n",
            "epoch  965 training accuracy 0.98\n",
            "epoch  966 training accuracy 0.98\n",
            "epoch  967 training accuracy 0.98\n",
            "epoch  968 training accuracy 0.98\n",
            "epoch  969 training accuracy 0.98\n",
            "epoch  970 training accuracy 0.98\n",
            "epoch  971 training accuracy 0.98\n",
            "epoch  972 training accuracy 0.98\n",
            "epoch  973 training accuracy 0.98\n",
            "epoch  974 training accuracy 0.98\n",
            "epoch  975 training accuracy 0.98\n",
            "epoch  976 training accuracy 0.98\n",
            "epoch  977 training accuracy 0.98\n",
            "epoch  978 training accuracy 0.98\n",
            "epoch  979 training accuracy 0.98\n",
            "epoch  980 training accuracy 0.98\n",
            "epoch  981 training accuracy 0.98\n",
            "epoch  982 training accuracy 0.98\n",
            "epoch  983 training accuracy 0.98\n",
            "epoch  984 training accuracy 0.98\n",
            "epoch  985 training accuracy 0.98\n",
            "epoch  986 training accuracy 0.98\n",
            "epoch  987 training accuracy 0.98\n",
            "epoch  988 training accuracy 0.98\n",
            "epoch  989 training accuracy 0.98\n",
            "epoch  990 training accuracy 0.98\n",
            "epoch  991 training accuracy 0.98\n",
            "epoch  992 training accuracy 0.98\n",
            "epoch  993 training accuracy 0.98\n",
            "epoch  994 training accuracy 0.98\n",
            "epoch  995 training accuracy 0.98\n",
            "epoch  996 training accuracy 0.98\n",
            "epoch  997 training accuracy 0.98\n",
            "epoch  998 training accuracy 0.98\n",
            "epoch  999 training accuracy 0.98\n"
          ]
        }
      ]
    },
    {
      "cell_type": "code",
      "metadata": {
        "id": "kXkKkXNWIiwc"
      },
      "source": [
        "x_dim = 28*28\n",
        "hidden_layer = 200\n",
        "classes = 10\n",
        "\n",
        "learningRate = 0.1\n",
        "\n",
        "# this value \n",
        "epochs = 10000\n"
      ],
      "execution_count": null,
      "outputs": []
    },
    {
      "cell_type": "code",
      "metadata": {
        "colab": {
          "base_uri": "https://localhost:8080/"
        },
        "id": "eVGA_ai0KaqO",
        "outputId": "9d2f81e2-c020-4f7f-b455-19d64446b375"
      },
      "source": [
        "parameters = initingP(x_dim, hidden_layer, classes)\n",
        "print(parameters)"
      ],
      "execution_count": null,
      "outputs": [
        {
          "name": "stdout",
          "output_type": "stream",
          "text": [
            "{'W_x': array([[-1.36530518, -1.38117843, -0.65307563, ...,  0.53714073,\n",
            "         0.19009322,  0.41210792],\n",
            "       [ 0.64431662, -0.65910617,  1.03704656, ..., -1.08979436,\n",
            "        -0.57705917,  1.00746296],\n",
            "       [ 0.21414437, -1.40982414, -0.5424274 , ..., -1.85476322,\n",
            "        -1.03794262, -0.53226886],\n",
            "       ...,\n",
            "       [ 0.20029371,  0.92418009,  1.68406936, ..., -0.52185332,\n",
            "         0.5583004 , -0.27593273],\n",
            "       [-0.15342276, -0.10241721, -0.64248553, ..., -0.31254721,\n",
            "         0.42408081,  0.38107004],\n",
            "       [-0.52005522,  0.05421624,  1.78904373, ..., -0.65564086,\n",
            "         1.27597857,  0.50943864]]), 'b_h': array([], shape=(1, 0), dtype=float64), 'Wo': array([], shape=(200, 0), dtype=float64), 'bo': array([], shape=(1, 0), dtype=float64)}\n"
          ]
        }
      ]
    },
    {
      "cell_type": "code",
      "metadata": {
        "id": "PBtbFuUz5CmE"
      },
      "source": [
        ""
      ],
      "execution_count": null,
      "outputs": []
    },
    {
      "cell_type": "code",
      "metadata": {
        "id": "yco9ABxPrZmF"
      },
      "source": [
        "def shuffle_data(X, y, seed=None):\n",
        "    \"\"\" Random shuffle of the samples in X and y \"\"\"\n",
        "    if seed:\n",
        "        np.random.seed(seed)\n",
        "    idx = np.arange(X.shape[0])\n",
        "    np.random.shuffle(idx)\n",
        "    return X[idx], y[idx]\n"
      ],
      "execution_count": null,
      "outputs": []
    },
    {
      "cell_type": "code",
      "metadata": {
        "id": "2_RV9yB9rISE"
      },
      "source": [
        "def train_test_split(X, y, test_size=0.5, shuffle=True, seed=None):\n",
        "    \"\"\" Split the data into train and test sets \"\"\"\n",
        "    if shuffle:\n",
        "        X, y = shuffle_data(X, y, seed)\n",
        "    # Split the training data from test data in the ratio specified in\n",
        "    # test_size\n",
        "    split_i = len(y) - int(len(y) // (1 / test_size))\n",
        "    X_train, X_test = X[:split_i], X[split_i:]\n",
        "    y_train, y_test = y[:split_i], y[split_i:]\n",
        "\n",
        "    return X_train, X_test, y_train, y_test"
      ],
      "execution_count": null,
      "outputs": []
    },
    {
      "cell_type": "code",
      "metadata": {
        "id": "N7XM4FyNqXwz"
      },
      "source": [
        "def to_categorical(x, n_col=None):\n",
        "    \"\"\" One-hot encoding of nominal values \"\"\"\n",
        "    if not n_col:\n",
        "        n_col = np.amax(x) + 1\n",
        "    one_hot = np.zeros((x.shape[0], n_col))\n",
        "    one_hot[np.arange(x.shape[0]), x] = 1\n",
        "    return one_hot"
      ],
      "execution_count": null,
      "outputs": []
    },
    {
      "cell_type": "code",
      "metadata": {
        "id": "UJDbKTehqX7f"
      },
      "source": [
        "def normalize(X, axis=-1, order=2):\n",
        "    \"\"\" Normalize the dataset X \"\"\"\n",
        "    l2 = np.atleast_1d(np.linalg.norm(X, order, axis))\n",
        "    l2[l2 == 0] = 1\n",
        "    return X / np.expand_dims(l2, axis)"
      ],
      "execution_count": null,
      "outputs": []
    },
    {
      "cell_type": "code",
      "metadata": {
        "id": "RHlJOKM7rK9h"
      },
      "source": [
        "def accuracy_score(y_true, y_pred):\n",
        "    \"\"\" Compare y_true to y_pred and return the accuracy \"\"\"\n",
        "    accuracy = np.sum(y_true == y_pred, axis=0) / len(y_true)\n",
        "    return accuracy"
      ],
      "execution_count": null,
      "outputs": []
    },
    {
      "cell_type": "code",
      "metadata": {
        "id": "YaXieJ8Xsn1V"
      },
      "source": [
        "def calculate_covariance_matrix(X, Y=None):\n",
        "    \"\"\" Calculate the covariance matrix for the dataset X \"\"\"\n",
        "    if Y is None:\n",
        "        Y = X\n",
        "    n_samples = np.shape(X)[0]\n",
        "    covariance_matrix = (1 / (n_samples-1)) * (X - X.mean(axis=0)).T.dot(Y - Y.mean(axis=0))\n",
        "\n",
        "    return np.array(covariance_matrix, dtype=float)"
      ],
      "execution_count": null,
      "outputs": []
    },
    {
      "cell_type": "code",
      "metadata": {
        "id": "khlU9E84IyMf"
      },
      "source": [
        "class Plot():\n",
        "    def __init__(self): \n",
        "        self.cmap = plt.get_cmap('viridis')\n",
        "\n",
        "    def _transform(self, X, dim):\n",
        "        covariance = calculate_covariance_matrix(X)\n",
        "        eigenvalues, eigenvectors = np.linalg.eig(covariance)\n",
        "        # Sort eigenvalues and eigenvector by largest eigenvalues\n",
        "        idx = eigenvalues.argsort()[::-1]\n",
        "        eigenvalues = eigenvalues[idx][:dim]\n",
        "        eigenvectors = np.atleast_1d(eigenvectors[:, idx])[:, :dim]\n",
        "        # Project the data onto principal components\n",
        "        X_transformed = X.dot(eigenvectors)\n",
        "\n",
        "        return X_transformed\n",
        "\n",
        "\n",
        "    def plot_regression(self, lines, title, axis_labels=None, mse=None, scatter=None, legend={\"type\": \"lines\", \"loc\": \"lower right\"}):\n",
        "        \n",
        "        if scatter:\n",
        "            scatter_plots = scatter_labels = []\n",
        "            for s in scatter:\n",
        "                scatter_plots += [plt.scatter(s[\"x\"], s[\"y\"], color=s[\"color\"], s=s[\"size\"])]\n",
        "                scatter_labels += [s[\"label\"]]\n",
        "            scatter_plots = tuple(scatter_plots)\n",
        "            scatter_labels = tuple(scatter_labels)\n",
        "\n",
        "        for l in lines:\n",
        "            li = plt.plot(l[\"x\"], l[\"y\"], color=s[\"color\"], linewidth=l[\"width\"], label=l[\"label\"])\n",
        "\n",
        "        if mse:\n",
        "            plt.suptitle(title)\n",
        "            plt.title(\"MSE: %.2f\" % mse, fontsize=10)\n",
        "        else:\n",
        "            plt.title(title)\n",
        "\n",
        "        if axis_labels:\n",
        "            plt.xlabel(axis_labels[\"x\"])\n",
        "            plt.ylabel(axis_labels[\"y\"])\n",
        "\n",
        "        if legend[\"type\"] == \"lines\":\n",
        "            plt.legend(loc=\"lower_left\")\n",
        "        elif legend[\"type\"] == \"scatter\" and scatter:\n",
        "            plt.legend(scatter_plots, scatter_labels, loc=legend[\"loc\"])\n",
        "\n",
        "        plt.show()\n",
        "\n",
        "\n",
        "\n",
        "    # Plot the dataset X and the corresponding labels y in 2D using PCA.\n",
        "    def plot_in_2d(self, X, y=None, title=None, accuracy=None, legend_labels=None):\n",
        "        X_transformed = self._transform(X, dim=2)\n",
        "        x1 = X_transformed[:, 0]\n",
        "        x2 = X_transformed[:, 1]\n",
        "        class_distr = []\n",
        "\n",
        "        y = np.array(y).astype(int)\n",
        "\n",
        "        colors = [self.cmap(i) for i in np.linspace(0, 1, len(np.unique(y)))]\n",
        "\n",
        "        # Plot the different class distributions\n",
        "        for i, l in enumerate(np.unique(y)):\n",
        "            _x1 = x1[y == l]\n",
        "            _x2 = x2[y == l]\n",
        "            _y = y[y == l]\n",
        "            class_distr.append(plt.scatter(_x1, _x2, color=colors[i]))\n",
        "\n",
        "        # Plot legend\n",
        "        if not legend_labels is None: \n",
        "            plt.legend(class_distr, legend_labels, loc=1)\n",
        "\n",
        "        # Plot title\n",
        "        if title:\n",
        "            if accuracy:\n",
        "                perc = 100 * accuracy\n",
        "                plt.suptitle(title)\n",
        "                plt.title(\"Accuracy: %.1f%%\" % perc, fontsize=10)\n",
        "            else:\n",
        "                plt.title(title)\n",
        "\n",
        "        # Axis labels\n",
        "        plt.xlabel('Principal Component 1')\n",
        "        plt.ylabel('Principal Component 2')\n",
        "\n",
        "        plt.show()\n",
        "\n",
        "    # Plot the dataset X and the corresponding labels y in 3D using PCA.\n",
        "    def plot_in_3d(self, X, y=None):\n",
        "        X_transformed = self._transform(X, dim=3)\n",
        "        x1 = X_transformed[:, 0]\n",
        "        x2 = X_transformed[:, 1]\n",
        "        x3 = X_transformed[:, 2]\n",
        "        fig = plt.figure()\n",
        "        ax = fig.add_subplot(111, projection='3d')\n",
        "        ax.scatter(x1, x2, x3, c=y)\n",
        "        plt.show()"
      ],
      "execution_count": null,
      "outputs": []
    },
    {
      "cell_type": "code",
      "metadata": {
        "id": "pY6pJJa4s5vN"
      },
      "source": [
        "class Sigmoid():\n",
        "    def __call__(self, x):\n",
        "        return 1 / (1 + np.exp(-x))\n",
        "\n",
        "    def gradient(self, x):\n",
        "        return self.__call__(x) * (1 - self.__call__(x))"
      ],
      "execution_count": null,
      "outputs": []
    },
    {
      "cell_type": "code",
      "metadata": {
        "id": "QWGkcaf0tPws"
      },
      "source": [
        "class Softmax():\n",
        "    def __call__(self, x):\n",
        "        e_x = np.exp(x - np.max(x, axis=-1, keepdims=True))\n",
        "        return e_x / np.sum(e_x, axis=-1, keepdims=True)\n",
        "\n",
        "    def gradient(self, x):\n",
        "        p = self.__call__(x)\n",
        "        return p * (1 - p)"
      ],
      "execution_count": null,
      "outputs": []
    },
    {
      "cell_type": "code",
      "metadata": {
        "id": "DeDh9xfktnwI"
      },
      "source": [
        "class Loss(object):\n",
        "    def loss(self, y_true, y_pred):\n",
        "        return NotImplementedError()\n",
        "\n",
        "    def gradient(self, y, y_pred):\n",
        "        raise NotImplementedError()\n",
        "\n",
        "    def acc(self, y, y_pred):\n",
        "        return 0"
      ],
      "execution_count": null,
      "outputs": []
    },
    {
      "cell_type": "code",
      "metadata": {
        "id": "Wuy6Gqiys-NV"
      },
      "source": [
        "class CrossEntropy(Loss):\n",
        "    def __init__(self): pass\n",
        "\n",
        "    def loss(self, y, p):\n",
        "        # Avoid division by zero\n",
        "        p = np.clip(p, 1e-15, 1 - 1e-15)\n",
        "        return - y * np.log(p) - (1 - y) * np.log(1 - p)\n",
        "\n",
        "    def acc(self, y, p):\n",
        "        return accuracy_score(np.argmax(y, axis=1), np.argmax(p, axis=1))\n",
        "\n",
        "    def gradient(self, y, p):\n",
        "        # Avoid division by zero\n",
        "        p = np.clip(p, 1e-15, 1 - 1e-15)\n",
        "        return - (y / p) + (1 - y) / (1 - p)\n"
      ],
      "execution_count": null,
      "outputs": []
    },
    {
      "cell_type": "code",
      "metadata": {
        "id": "tTdtEPT7s-VX"
      },
      "source": [
        "class MultilayerPerceptron():\n",
        "    \"\"\"Multilayer Perceptron classifier. A fully-connected neural network with one hidden layer.\n",
        "    Unrolled to display the whole forward and backward pass.\n",
        "    Parameters:\n",
        "    -----------\n",
        "    n_hidden: int:\n",
        "        The number of processing nodes (neurons) in the hidden layer. \n",
        "    n_iterations: float\n",
        "        The number of training iterations the algorithm will tune the weights for.\n",
        "    learning_rate: float\n",
        "        The step length that will be used when updating the weights.\n",
        "    \"\"\"\n",
        "    def __init__(self, n_hidden, n_iterations=3000, learning_rate=0.01):\n",
        "        self.n_hidden = n_hidden\n",
        "        self.n_iterations = n_iterations\n",
        "        self.learning_rate = learning_rate\n",
        "        self.hidden_activation = Sigmoid()\n",
        "        self.output_activation = Softmax()\n",
        "        self.loss = CrossEntropy()\n",
        "\n",
        "    def _initialize_weights(self, X, y):\n",
        "        n_samples, n_features = X.shape\n",
        "        _, n_outputs = y.shape\n",
        "        # Hidden layer\n",
        "        limit   = 1 / math.sqrt(n_features)\n",
        "        self.W  = np.random.uniform(-limit, limit, (n_features, self.n_hidden))\n",
        "        self.w0 = np.zeros((1, self.n_hidden))\n",
        "        # Output layer\n",
        "        limit   = 1 / math.sqrt(self.n_hidden)\n",
        "        self.V  = np.random.uniform(-limit, limit, (self.n_hidden, n_outputs))\n",
        "        self.v0 = np.zeros((1, n_outputs))\n",
        "\n",
        "    def fit(self, X, y):\n",
        "\n",
        "        self._initialize_weights(X, y)\n",
        "\n",
        "        for i in range(self.n_iterations):\n",
        "\n",
        "            # ..............\n",
        "            #  Forward Pass\n",
        "            # ..............\n",
        "\n",
        "            # HIDDEN LAYER\n",
        "            hidden_input = X.dot(self.W) + self.w0\n",
        "            hidden_output = self.hidden_activation(hidden_input)\n",
        "            # OUTPUT LAYER\n",
        "            output_layer_input = hidden_output.dot(self.V) + self.v0\n",
        "            y_pred = self.output_activation(output_layer_input)\n",
        "\n",
        "            # ...............\n",
        "            #  Backward Pass\n",
        "            # ...............\n",
        "\n",
        "            # OUTPUT LAYER\n",
        "            # Grad. w.r.t input of output layer\n",
        "            grad_wrt_out_l_input = self.loss.gradient(y, y_pred) * self.output_activation.gradient(output_layer_input)\n",
        "            grad_v = hidden_output.T.dot(grad_wrt_out_l_input)\n",
        "            grad_v0 = np.sum(grad_wrt_out_l_input, axis=0, keepdims=True)\n",
        "            # HIDDEN LAYER\n",
        "            # Grad. w.r.t input of hidden layer\n",
        "            grad_wrt_hidden_l_input = grad_wrt_out_l_input.dot(self.V.T) * self.hidden_activation.gradient(hidden_input)\n",
        "            grad_w = X.T.dot(grad_wrt_hidden_l_input)\n",
        "            grad_w0 = np.sum(grad_wrt_hidden_l_input, axis=0, keepdims=True)\n",
        "\n",
        "            # Update weights (by gradient descent)\n",
        "            # Move against the gradient to minimize loss\n",
        "            self.V  -= self.learning_rate * grad_v\n",
        "            self.v0 -= self.learning_rate * grad_v0\n",
        "            self.W  -= self.learning_rate * grad_w\n",
        "            self.w0 -= self.learning_rate * grad_w0\n",
        "\n",
        "    # Use the trained model to predict labels of X\n",
        "    def predict(self, X):\n",
        "        # Forward pass:\n",
        "        hidden_input = X.dot(self.W) + self.w0\n",
        "        hidden_output = self.hidden_activation(hidden_input)\n",
        "        output_layer_input = hidden_output.dot(self.V) + self.v0\n",
        "        y_pred = self.output_activation(output_layer_input)\n",
        "        return y_pred\n"
      ],
      "execution_count": null,
      "outputs": []
    },
    {
      "cell_type": "code",
      "metadata": {
        "id": "65dp9gxzGcqU"
      },
      "source": [
        "from sklearn import datasets"
      ],
      "execution_count": null,
      "outputs": []
    },
    {
      "cell_type": "code",
      "metadata": {
        "id": "_LBveaGvx-5p"
      },
      "source": [
        "import pickle, gzip, numpy, urllib.request, json\n",
        "#urllib.request.urlretrieve(\"http://deeplearning.net/data/mnist/mnist.pkl.gz\", \"mnist.pkl.gz\")\n",
        "with gzip.open('/content/drive/MyDrive/project/MachineLearning/dataset/mnist.pkl.gz', 'rb') as f:\n",
        "    data = pickle.load(f, encoding='latin1')"
      ],
      "execution_count": null,
      "outputs": []
    },
    {
      "cell_type": "code",
      "metadata": {
        "id": "rkK_FhNCs530"
      },
      "source": [
        "def main():\n",
        "    #data = load_data('mnist.pkl.gz')\n",
        "    data = datasets.load_digits()\n",
        "    X = normalize(data.data)\n",
        "    y = data.target\n",
        "\n",
        "    # Convert the nominal y values to binary\n",
        "    y = to_categorical(y)\n",
        "\n",
        "    X_train, X_test, y_train, y_test = train_test_split(X, y, test_size=0.4, seed=1)\n",
        "\n",
        "    # MLP\n",
        "    clf = MultilayerPerceptron(n_hidden=16, n_iterations=1000, learning_rate=0.01)\n",
        "    clf.fit(X_train, y_train)\n",
        "    y_pred = np.argmax(clf.predict(X_test), axis=1)\n",
        "    y_test = np.argmax(y_test, axis=1)\n",
        "\n",
        "\n",
        "    accuracy = accuracy_score(y_test, y_pred)\n",
        "    print (\"Accuracy:\", accuracy)\n",
        "\n",
        "    # Reduce dimension to two using PCA and plot the results\n",
        "    Plot().plot_in_2d(X_test, y_pred, title=\"Multilayer Perceptron\", accuracy=accuracy, legend_labels=np.unique(y))"
      ],
      "execution_count": null,
      "outputs": []
    },
    {
      "cell_type": "code",
      "metadata": {
        "colab": {
          "base_uri": "https://localhost:8080/",
          "height": 325
        },
        "id": "i55TB4FsHPgB",
        "outputId": "178d12fb-db2e-4e06-e881-988d59317058"
      },
      "source": [
        "if __name__ == \"__main__\":\n",
        "  main()\n",
        "  "
      ],
      "execution_count": null,
      "outputs": [
        {
          "name": "stdout",
          "output_type": "stream",
          "text": [
            "Accuracy: 0.967966573816156\n"
          ]
        },
        {
          "data": {
            "image/png": "[encoded data removed]",
            "text/plain": [
              "<Figure size 432x288 with 1 Axes>"
            ]
          },
          "metadata": {},
          "output_type": "display_data"
        }
      ]
    },
    {
      "cell_type": "code",
      "metadata": {
        "id": "-YslDaqMtWDF"
      },
      "source": [
        "def loadMinst():\n",
        "  f = gzip.open(\"/content/drive/MyDrive/project/MachineLearning/dataset/mnist.pkl.gz\", 'rb')\n",
        "  train_set, valid_set, test_set = pickle.load(f, encoding = \"latin1\")\n",
        "  f.close()\n",
        "\n",
        "  return [train_set, valid_set, test_set]"
      ],
      "execution_count": null,
      "outputs": []
    },
    {
      "cell_type": "code",
      "metadata": {
        "id": "iCG0u_h6wOVE"
      },
      "source": [
        ""
      ],
      "execution_count": null,
      "outputs": []
    },
    {
      "cell_type": "markdown",
      "metadata": {
        "id": "3MkmXnT7uZ4l"
      },
      "source": [
        "#Pytorch : Data in torchvision datasets\n",
        "This means you have to code an MLP classifier with one layer from scratch. The idea is to classify the MNIST images by their labels. No built-in libraries are allowed to compute backpropagation nor the NLL automatically. Considering the difficulty of the RBFN homework (hw10) and your feedback in the reports, I will upload a guide with a pseudo-code for this homework soon (before tomorrow noon.)"
      ]
    },
    {
      "cell_type": "code",
      "metadata": {
        "id": "736SlVbOuZEN"
      },
      "source": [
        "import torch\n",
        "import numpy as np\n",
        "import torchvision.transforms as transforms\n",
        "from torch.utils.data.sampler import SubsetRandomSampler\n",
        "from torchvision import datasets"
      ],
      "execution_count": null,
      "outputs": []
    },
    {
      "cell_type": "code",
      "metadata": {
        "id": "n2Rty7z_K_Tj"
      },
      "source": [
        "num_workers = 0\n",
        "batch_size = 50 # batch size 50\n",
        "valid_size = 0.2\n",
        "n_epochs = 50 # epoch 50"
      ],
      "execution_count": null,
      "outputs": []
    },
    {
      "cell_type": "code",
      "metadata": {
        "id": "HiDEDT-26WfG"
      },
      "source": [
        "num_workers = 0\n",
        "batch_size = 50 # batch size 50\n",
        "valid_size = 0.2\n",
        "n_epochs = 100 # epoch 100"
      ],
      "execution_count": null,
      "outputs": []
    },
    {
      "cell_type": "code",
      "metadata": {
        "id": "xangxOq4ut_6"
      },
      "source": [
        "\n",
        "transform = transforms.ToTensor()\n",
        "# choose the training and testing datasets\n",
        "train_data = datasets.MNIST(root = 'root', train = True, download = True, transform = transform)\n",
        "test_data = datasets.MNIST(root = 'root', train = False, download = True, transform = transform)\n",
        "# obtain training indices that will be used for validation\n",
        "num_train = len(train_data)\n",
        "indices = list(range(num_train))\n",
        "np.random.shuffle(indices)\n",
        "split = int(np.floor(valid_size * num_train))\n",
        "train_index, valid_index = indices[split:], indices[:split]\n",
        "# define samplers for obtaining training and validation batches\n",
        "train_sampler = SubsetRandomSampler(train_index)\n",
        "valid_sampler = SubsetRandomSampler(valid_index)\n",
        "# prepare data loaders\n",
        "train_loader = torch.utils.data.DataLoader(train_data, batch_size = batch_size, \n",
        "                                           sampler = train_sampler, num_workers = num_workers)\n",
        "valid_loader = torch.utils.data.DataLoader(train_data, batch_size = batch_size,\n",
        "                                          sampler = valid_sampler, num_workers = num_workers)\n",
        "test_loader = torch.utils.data.DataLoader(test_data, batch_size = batch_size,\n",
        "                                         num_workers = num_workers)"
      ],
      "execution_count": null,
      "outputs": []
    },
    {
      "cell_type": "code",
      "metadata": {
        "colab": {
          "base_uri": "https://localhost:8080/",
          "height": 268
        },
        "id": "sJxdO80lx2GU",
        "outputId": "23f23694-0b96-4d9d-dca6-76ae4c2ba8d8"
      },
      "source": [
        "import matplotlib.pyplot as plt\n",
        "%matplotlib inline\n",
        "    \n",
        "# obtain one batch of training images\n",
        "dataiter = iter(train_loader)\n",
        "images, labels = dataiter.next()\n",
        "images = images.numpy()\n",
        "# plot the images in the batch, along with the corresponding labels\n",
        "fig = plt.figure(figsize=(25, 4))\n",
        "for idx in np.arange(20):\n",
        "    ax = fig.add_subplot(2, 20/2, idx+1, xticks=[], yticks=[])\n",
        "    ax.imshow(np.squeeze(images[idx]), cmap='gray')\n",
        "    # print out the correct label for each image\n",
        "    # .item() gets the value contained in a Tensor\n",
        "    ax.set_title(str(labels[idx].item()))"
      ],
      "execution_count": null,
      "outputs": [
        {
          "data": {
            "image/png": "[encoded data removed]",
            "text/plain": [
              "<Figure size 1800x288 with 20 Axes>"
            ]
          },
          "metadata": {},
          "output_type": "display_data"
        }
      ]
    },
    {
      "cell_type": "code",
      "metadata": {
        "colab": {
          "base_uri": "https://localhost:8080/",
          "height": 700
        },
        "id": "C57w-4mKzNB5",
        "outputId": "9d3d6a92-ea53-4419-c265-c0e49f90fe4a"
      },
      "source": [
        "img = np.squeeze(images[1])\n",
        "fig = plt.figure(figsize = (12,12)) \n",
        "ax = fig.add_subplot(111)\n",
        "ax.imshow(img, cmap='gray')\n",
        "width, height = img.shape\n",
        "thresh = img.max()/2.5\n",
        "for x in range(width):\n",
        "    for y in range(height):\n",
        "        val = round(img[x][y],2) if img[x][y] !=0 else 0\n",
        "        ax.annotate(str(val), xy=(y,x),\n",
        "                    horizontalalignment='center',\n",
        "                    verticalalignment='center',\n",
        "                    color='white' if img[x][y]<thresh else 'black')"
      ],
      "execution_count": null,
      "outputs": [
        {
          "data": {
            "image/png": "[encoded data removed]",
            "text/plain": [
              "<Figure size 864x864 with 1 Axes>"
            ]
          },
          "metadata": {},
          "output_type": "display_data"
        }
      ]
    },
    {
      "cell_type": "code",
      "metadata": {
        "colab": {
          "base_uri": "https://localhost:8080/"
        },
        "id": "Pxj5-PlT1a2w",
        "outputId": "2b82acc6-1e27-433e-d9ab-4999a4f14ff5"
      },
      "source": [
        "import torch.nn as nn\n",
        "import torch.nn.functional as F\n",
        "# define NN architecture\n",
        "class Net(nn.Module):\n",
        "    def __init__(self):\n",
        "        super(Net,self).__init__()\n",
        "        # number of hidden nodes in each layer (512)\n",
        "        hidden_1 = 512\n",
        "        hidden_2 = 512\n",
        "        # linear layer (784 -> hidden_1)\n",
        "        self.fc1 = nn.Linear(28*28, 512)\n",
        "        # linear layer (n_hidden -> hidden_2)\n",
        "        self.fc2 = nn.Linear(512,512)\n",
        "        # linear layer (n_hidden -> 10)\n",
        "        self.fc3 = nn.Linear(512,10)\n",
        "        # dropout layer (p=0.2)\n",
        "        # dropout prevents overfitting of data\n",
        "        self.droput = nn.Dropout(0.2)\n",
        "        \n",
        "    def forward(self,x):\n",
        "        # flatten image input\n",
        "        x = x.view(-1,28*28)\n",
        "        # add hidden layer, with relu activation function\n",
        "        x = F.relu(self.fc1(x))\n",
        "        # add dropout layer\n",
        "        x = self.droput(x)\n",
        "         # add hidden layer, with relu activation function\n",
        "        x = F.relu(self.fc2(x))\n",
        "        # add dropout layer\n",
        "        x = self.droput(x)\n",
        "        # add output layer\n",
        "        x = self.fc3(x)\n",
        "        return x\n",
        "# initialize the NN\n",
        "model = Net()\n",
        "print(model)"
      ],
      "execution_count": null,
      "outputs": [
        {
          "name": "stdout",
          "output_type": "stream",
          "text": [
            "Net(\n",
            "  (fc1): Linear(in_features=784, out_features=512, bias=True)\n",
            "  (fc2): Linear(in_features=512, out_features=512, bias=True)\n",
            "  (fc3): Linear(in_features=512, out_features=10, bias=True)\n",
            "  (droput): Dropout(p=0.2, inplace=False)\n",
            ")\n"
          ]
        }
      ]
    },
    {
      "cell_type": "code",
      "metadata": {
        "id": "yNIqp3jq1iTs"
      },
      "source": [
        "# specify loss function (categorical cross-entropy)\n",
        "criterion = nn.CrossEntropyLoss()\n",
        "# specify optimizer (stochastic gradient descent) and learning rate = 0.01 ##\n",
        "optimizer = torch.optim.SGD(model.parameters(),lr = 0.01) "
      ],
      "execution_count": null,
      "outputs": []
    },
    {
      "cell_type": "code",
      "metadata": {
        "id": "5OmUxIIs7ROf"
      },
      "source": [
        "num_workers = 0\n",
        "batch_size = 50 # batch size 50\n",
        "valid_size = 0.2\n",
        "n_epochs = 100 # epoch 100"
      ],
      "execution_count": null,
      "outputs": []
    },
    {
      "cell_type": "code",
      "metadata": {
        "id": "LISVEUGC10S3"
      },
      "source": [
        "# This is torchvision data, but compare with from scratch / n_eopchs 50, 100\n",
        "losses = []\n",
        "valid_loss_min = np.Inf  # set initial \"min\" to infinity\n",
        "for epoch in range(n_epochs):\n",
        "\n",
        "    train_loss = 0\n",
        "    valid_loss = 0\n",
        "    model.train()\n",
        "    for data, label in train_loader:\n",
        "      optimizer.zero_grad()\n",
        "      output = model(data)\n",
        "      loss = criterion(output, label)\n",
        "      loss.backward()\n",
        "      optimizer.step()\n",
        "      train_loss += loss.item()*data.size(0)\n",
        "      losses.append(train_loss/len(train_loader.sampler))"
      ],
      "execution_count": null,
      "outputs": []
    },
    {
      "cell_type": "code",
      "metadata": {
        "id": "gFQ0tqx45Id9"
      },
      "source": [
        "   # validate\n",
        "   model.eval()  # prep model for evaluation\n",
        "   for data,label in valid_loader:\n",
        "        # forward pass: compute predicted outputs by passing inputs to the model\n",
        "        output = model(data)\n",
        "        # calculate the loss\n",
        "        loss = criterion(output,label)\n",
        "        # update running validation loss \n",
        "        valid_loss = loss.item() * data.size(0)\n"
      ],
      "execution_count": null,
      "outputs": []
    },
    {
      "cell_type": "code",
      "metadata": {
        "id": "wvghHnkM8lbI"
      },
      "source": [
        "    # print training/validation statistics \n",
        "    # calculate average loss over an epoch\n",
        "    train_loss = train_loss / len(train_loader.sampler)\n",
        "    valid_loss = valid_loss / len(valid_loader.sampler)\n"
      ],
      "execution_count": null,
      "outputs": []
    },
    {
      "cell_type": "code",
      "metadata": {
        "colab": {
          "base_uri": "https://localhost:8080/"
        },
        "id": "kXqVNRLSTCdc",
        "outputId": "ceca1675-6106-4cd8-98a9-4605a3f70df6"
      },
      "source": [
        "print(len(train_loader.sampler))"
      ],
      "execution_count": null,
      "outputs": [
        {
          "name": "stdout",
          "output_type": "stream",
          "text": [
            "48000\n"
          ]
        }
      ]
    },
    {
      "cell_type": "code",
      "metadata": {
        "id": "p8W1H6YWiT7V"
      },
      "source": [
        "losses.sort() ## bitch size 50, epoch 100"
      ],
      "execution_count": null,
      "outputs": []
    },
    {
      "cell_type": "code",
      "metadata": {
        "colab": {
          "base_uri": "https://localhost:8080/",
          "height": 298
        },
        "id": "7XIi2Gxn-wHl",
        "outputId": "341b8ec1-4d2d-492b-d3cd-820be5a3ee61"
      },
      "source": [
        "plt.plot(losses, color = \"gold\")\n",
        "plt.title(\"Pytorch torchvision dataset | Batch size 50, epoch 100 Loss\")"
      ],
      "execution_count": null,
      "outputs": [
        {
          "data": {
            "text/plain": [
              "Text(0.5, 1.0, 'Pytorch torchvision dataset | Batch size 50, epoch 100 Loss')"
            ]
          },
          "execution_count": 14,
          "metadata": {},
          "output_type": "execute_result"
        },
        {
          "data": {
            "image/png": "[encoded data removed]",
            "text/plain": [
              "<Figure size 432x288 with 1 Axes>"
            ]
          },
          "metadata": {},
          "output_type": "display_data"
        }
      ]
    },
    {
      "cell_type": "code",
      "metadata": {
        "colab": {
          "base_uri": "https://localhost:8080/"
        },
        "id": "ENrgJxEx--lt",
        "outputId": "5abd0c98-e3bb-45f8-b1ba-be4911c3d992"
      },
      "source": [
        "    print(\"Epoch 100, Batch size 50\")\n",
        "    print('Epoch: {} \\tTraining Loss: {:.6f} \\tValidation Loss: {:.6f}'.format(epoch+1, train_loss, valid_loss))"
      ],
      "execution_count": null,
      "outputs": [
        {
          "name": "stdout",
          "output_type": "stream",
          "text": [
            "Epoch 100, Batch size 50\n",
            "Epoch: 100 \tTraining Loss: 0.016915 \tValidation Loss: 0.000060\n"
          ]
        }
      ]
    },
    {
      "cell_type": "code",
      "metadata": {
        "colab": {
          "base_uri": "https://localhost:8080/"
        },
        "id": "2CGMhEaC_YxD",
        "outputId": "3dbb7489-c981-4f66-ac99-637355feab4a"
      },
      "source": [
        "    # save model if validation loss has decreased\n",
        "    if valid_loss <= valid_loss_min:\n",
        "        print('Validation loss decreased ({:.6f} --> {:.6f}).  Saving model ...'.format(\n",
        "        valid_loss_min,\n",
        "        valid_loss))\n",
        "        torch.save(model.state_dict(), 'model.pt')\n",
        "        valid_loss_min = valid_loss"
      ],
      "execution_count": null,
      "outputs": [
        {
          "name": "stdout",
          "output_type": "stream",
          "text": [
            "Validation loss decreased (inf --> 0.000060).  Saving model ...\n"
          ]
        }
      ]
    },
    {
      "cell_type": "code",
      "metadata": {
        "colab": {
          "base_uri": "https://localhost:8080/"
        },
        "id": "Uw6LCLAr_Y8D",
        "outputId": "dbb1c03a-dd44-46b5-928c-6669e3beeb31"
      },
      "source": [
        "model.load_state_dict(torch.load('model.pt'))"
      ],
      "execution_count": null,
      "outputs": [
        {
          "data": {
            "text/plain": [
              "<All keys matched successfully>"
            ]
          },
          "execution_count": 17,
          "metadata": {},
          "output_type": "execute_result"
        }
      ]
    },
    {
      "cell_type": "code",
      "metadata": {
        "colab": {
          "base_uri": "https://localhost:8080/"
        },
        "id": "5YNBWRt-_c85",
        "outputId": "3fe0b238-069e-4cab-9a14-27c6a00e33a3"
      },
      "source": [
        "test_loss = 0.0\n",
        "class_correct = list(0. for i in range(10))\n",
        "class_total = list(0. for i in range(10))\n",
        "model.eval()"
      ],
      "execution_count": null,
      "outputs": [
        {
          "data": {
            "text/plain": [
              "Net(\n",
              "  (fc1): Linear(in_features=784, out_features=512, bias=True)\n",
              "  (fc2): Linear(in_features=512, out_features=512, bias=True)\n",
              "  (fc3): Linear(in_features=512, out_features=10, bias=True)\n",
              "  (droput): Dropout(p=0.2, inplace=False)\n",
              ")"
            ]
          },
          "execution_count": 18,
          "metadata": {},
          "output_type": "execute_result"
        }
      ]
    },
    {
      "cell_type": "code",
      "metadata": {
        "colab": {
          "base_uri": "https://localhost:8080/"
        },
        "id": "JYysfD41_usk",
        "outputId": "c3c921d1-b020-4006-cd8b-3dc5876b68f6"
      },
      "source": [
        "test_losses = []\n",
        "for data, target in test_loader:\n",
        "    # forward pass: compute predicted outputs by passing inputs to the model\n",
        "    output = model(data)\n",
        "    # calculate the loss\n",
        "    loss = criterion(output, target)\n",
        "    # update test loss \n",
        "    test_loss += loss.item()*data.size(0)\n",
        "    # convert output probabilities to predicted class\n",
        "    _, pred = torch.max(output, 1)\n",
        "    # compare predictions to true label\n",
        "    correct = np.squeeze(pred.eq(target.data.view_as(pred)))\n",
        "\n",
        "    test_losses.append(test_loss/len(test_loader.sampler))\n",
        "    # calculate test accuracy for each object class\n",
        "    for i in range(len(target)):\n",
        "        label = target.data[i]\n",
        "        class_correct[label] += correct[i].item()\n",
        "        class_total[label] += 1\n",
        "# calculate and print avg test loss\n",
        "test_loss = test_loss/len(test_loader.sampler)\n",
        "test_losses.sort()\n",
        "print('Test Loss: {:.6f}\\n'.format(test_loss))\n",
        "for i in range(10):\n",
        "    if class_total[i] > 0:\n",
        "        print('Test Accuracy of %5s: %2d%% (%2d/%2d)' % (\n",
        "            str(i), 100 * class_correct[i] / class_total[i],\n",
        "            np.sum(class_correct[i]), np.sum(class_total[i])))\n",
        "    else:\n",
        "        print('Test Accuracy of %5s: N/A (no training examples)' % (classes[i]))\n",
        "print('\\nTest Accuracy (Overall): %2d%% (%2d/%2d)' % (\n",
        "    100. * np.sum(class_correct) / np.sum(class_total),\n",
        "    np.sum(class_correct), np.sum(class_total)))"
      ],
      "execution_count": null,
      "outputs": [
        {
          "name": "stdout",
          "output_type": "stream",
          "text": [
            "Test Loss: 0.061216\n",
            "\n",
            "Test Accuracy of     0: 98% (970/980)\n",
            "Test Accuracy of     1: 99% (1127/1135)\n",
            "Test Accuracy of     2: 98% (1014/1032)\n",
            "Test Accuracy of     3: 97% (989/1010)\n",
            "Test Accuracy of     4: 98% (966/982)\n",
            "Test Accuracy of     5: 97% (870/892)\n",
            "Test Accuracy of     6: 98% (939/958)\n",
            "Test Accuracy of     7: 97% (1000/1028)\n",
            "Test Accuracy of     8: 96% (944/974)\n",
            "Test Accuracy of     9: 97% (984/1009)\n",
            "\n",
            "Test Accuracy (Overall): 98% (9803/10000)\n"
          ]
        }
      ]
    },
    {
      "cell_type": "code",
      "metadata": {
        "colab": {
          "base_uri": "https://localhost:8080/",
          "height": 298
        },
        "id": "EWE5hQ6WACCR",
        "outputId": "6097744a-4026-4364-cf70-b311a8cec37b"
      },
      "source": [
        "plt.plot(test_losses, color = \"coral\")\n",
        "plt.title(\"Pytorch torchvision dataset | test loss\")"
      ],
      "execution_count": null,
      "outputs": [
        {
          "data": {
            "text/plain": [
              "Text(0.5, 1.0, 'Pytorch torchvision dataset | test loss')"
            ]
          },
          "execution_count": 20,
          "metadata": {},
          "output_type": "execute_result"
        },
        {
          "data": {
            "image/png": "[encoded data removed]",
            "text/plain": [
              "<Figure size 432x288 with 1 Axes>"
            ]
          },
          "metadata": {},
          "output_type": "display_data"
        }
      ]
    },
    {
      "cell_type": "code",
      "metadata": {
        "id": "S1ObMe2KAfsq"
      },
      "source": [
        "n_epochs = 200 # epoch 200"
      ],
      "execution_count": null,
      "outputs": []
    },
    {
      "cell_type": "code",
      "metadata": {
        "id": "9M-p4fA4Afy8"
      },
      "source": [
        "# This is torchvision data, but compare with from scratch / n_eopchs 50, 100\n",
        "losses = []\n",
        "valid_loss_min = np.Inf  # set initial \"min\" to infinity\n",
        "for epoch in range(n_epochs):\n",
        "\n",
        "    train_loss = 0\n",
        "    valid_loss = 0\n",
        "    model.train()\n",
        "    for data, label in train_loader:\n",
        "      optimizer.zero_grad()\n",
        "      output = model(data)\n",
        "      loss = criterion(output, label)\n",
        "      loss.backward()\n",
        "      optimizer.step()\n",
        "      train_loss += loss.item()*data.size(0)\n",
        "      losses.append(train_loss/len(train_loader.sampler))"
      ],
      "execution_count": null,
      "outputs": []
    },
    {
      "cell_type": "code",
      "metadata": {
        "id": "k0JxLsfrAf_O"
      },
      "source": [
        "   # validate\n",
        "   model.eval()  # prep model for evaluation\n",
        "   for data,label in valid_loader:\n",
        "        # forward pass: compute predicted outputs by passing inputs to the model\n",
        "        output = model(data)\n",
        "        # calculate the loss\n",
        "        loss = criterion(output,label)\n",
        "        # update running validation loss \n",
        "        valid_loss = loss.item() * data.size(0)\n"
      ],
      "execution_count": null,
      "outputs": []
    },
    {
      "cell_type": "code",
      "metadata": {
        "id": "b2GW7Tr_AxLM"
      },
      "source": [
        "    # print training/validation statistics \n",
        "    # calculate average loss over an epoch\n",
        "    train_loss = train_loss / len(train_loader.sampler)\n",
        "    valid_loss = valid_loss / len(valid_loader.sampler)"
      ],
      "execution_count": null,
      "outputs": []
    },
    {
      "cell_type": "code",
      "metadata": {
        "id": "sEMa96ZbAxRG"
      },
      "source": [
        "losses.sort() ## bitch size 50, epoch 200"
      ],
      "execution_count": null,
      "outputs": []
    },
    {
      "cell_type": "code",
      "metadata": {
        "colab": {
          "base_uri": "https://localhost:8080/",
          "height": 298
        },
        "id": "uCor3puaAvI8",
        "outputId": "7bcaf764-5107-49ff-c5dc-684dda9f5663"
      },
      "source": [
        "plt.plot(losses, color = \"magenta\")\n",
        "plt.title(\"Pytorch torchvision dataset | Batch size 50, epoch 200 Loss\")"
      ],
      "execution_count": null,
      "outputs": [
        {
          "data": {
            "text/plain": [
              "Text(0.5, 1.0, 'Pytorch torchvision dataset | Batch size 50, epoch 200 Loss')"
            ]
          },
          "execution_count": 26,
          "metadata": {},
          "output_type": "execute_result"
        },
        {
          "data": {
            "image/png": "[encoded data removed]",
            "text/plain": [
              "<Figure size 432x288 with 1 Axes>"
            ]
          },
          "metadata": {},
          "output_type": "display_data"
        }
      ]
    },
    {
      "cell_type": "code",
      "metadata": {
        "colab": {
          "base_uri": "https://localhost:8080/"
        },
        "id": "a-eVd74AAvNu",
        "outputId": "daa63928-ffce-450c-ac95-41e5bab28692"
      },
      "source": [
        "    print(\"Batch size 50\")\n",
        "    print('Epoch: {} \\tTraining Loss: {:.6f} \\tValidation Loss: {:.6f}'.format(epoch+1, train_loss, valid_loss))"
      ],
      "execution_count": null,
      "outputs": [
        {
          "name": "stdout",
          "output_type": "stream",
          "text": [
            "Batch size 50\n",
            "Epoch: 200 \tTraining Loss: 0.003104 \tValidation Loss: 0.000069\n"
          ]
        }
      ]
    },
    {
      "cell_type": "code",
      "metadata": {
        "colab": {
          "base_uri": "https://localhost:8080/"
        },
        "id": "Nzt2yrDDBght",
        "outputId": "58edd0c5-74fd-43bc-92f1-d46360a704d5"
      },
      "source": [
        "    # save model if validation loss has decreased # epoch 200\n",
        "    if valid_loss <= valid_loss_min:\n",
        "        print('Validation loss decreased ({:.6f} --> {:.6f}).  Saving model ...'.format(\n",
        "        valid_loss_min,\n",
        "        valid_loss))\n",
        "        torch.save(model.state_dict(), 'model.pt')\n",
        "        valid_loss_min = valid_loss"
      ],
      "execution_count": null,
      "outputs": [
        {
          "name": "stdout",
          "output_type": "stream",
          "text": [
            "Validation loss decreased (inf --> 0.000069).  Saving model ...\n"
          ]
        }
      ]
    },
    {
      "cell_type": "code",
      "metadata": {
        "colab": {
          "base_uri": "https://localhost:8080/"
        },
        "id": "raQ4pn4xK4LB",
        "outputId": "006bb2ac-4d32-4bb9-b046-c707376e37e1"
      },
      "source": [
        "model.load_state_dict(torch.load('model.pt'))"
      ],
      "execution_count": null,
      "outputs": [
        {
          "data": {
            "text/plain": [
              "<All keys matched successfully>"
            ]
          },
          "execution_count": 30,
          "metadata": {},
          "output_type": "execute_result"
        }
      ]
    },
    {
      "cell_type": "code",
      "metadata": {
        "colab": {
          "base_uri": "https://localhost:8080/"
        },
        "id": "xi1EYMAxK4SV",
        "outputId": "2e89c9f0-4804-4e0c-e87d-50345e4bbde5"
      },
      "source": [
        "test_loss = 0.0\n",
        "class_correct = list(0. for i in range(10))\n",
        "class_total = list(0. for i in range(10))\n",
        "model.eval()"
      ],
      "execution_count": null,
      "outputs": [
        {
          "data": {
            "text/plain": [
              "Net(\n",
              "  (fc1): Linear(in_features=784, out_features=512, bias=True)\n",
              "  (fc2): Linear(in_features=512, out_features=512, bias=True)\n",
              "  (fc3): Linear(in_features=512, out_features=10, bias=True)\n",
              "  (droput): Dropout(p=0.2, inplace=False)\n",
              ")"
            ]
          },
          "execution_count": 31,
          "metadata": {},
          "output_type": "execute_result"
        }
      ]
    },
    {
      "cell_type": "code",
      "metadata": {
        "colab": {
          "base_uri": "https://localhost:8080/"
        },
        "id": "UMZb0prwK4Yh",
        "outputId": "8caf0e52-fd4a-40db-848c-262716f861dd"
      },
      "source": [
        "test_losses = []\n",
        "for data, target in test_loader:\n",
        "    # forward pass: compute predicted outputs by passing inputs to the model\n",
        "    output = model(data)\n",
        "    # calculate the loss\n",
        "    loss = criterion(output, target)\n",
        "    # update test loss \n",
        "    test_loss += loss.item()*data.size(0)\n",
        "    # convert output probabilities to predicted class\n",
        "    _, pred = torch.max(output, 1)\n",
        "    # compare predictions to true label\n",
        "    correct = np.squeeze(pred.eq(target.data.view_as(pred)))\n",
        "\n",
        "    test_losses.append(test_loss/len(test_loader.sampler))\n",
        "    # calculate test accuracy for each object class\n",
        "    for i in range(len(target)):\n",
        "        label = target.data[i]\n",
        "        class_correct[label] += correct[i].item()\n",
        "        class_total[label] += 1\n",
        "# calculate and print avg test loss\n",
        "test_loss = test_loss/len(test_loader.sampler)\n",
        "test_losses.sort()\n",
        "print('Test Loss: {:.6f}\\n'.format(test_loss))\n",
        "for i in range(10):\n",
        "    if class_total[i] > 0:\n",
        "        print('Test Accuracy of %5s: %2d%% (%2d/%2d)' % (\n",
        "            str(i), 100 * class_correct[i] / class_total[i],\n",
        "            np.sum(class_correct[i]), np.sum(class_total[i])))\n",
        "    else:\n",
        "        print('Test Accuracy of %5s: N/A (no training examples)' % (classes[i]))\n",
        "print('\\nTest Accuracy (Overall): %2d%% (%2d/%2d)' % (\n",
        "    100. * np.sum(class_correct) / np.sum(class_total),\n",
        "    np.sum(class_correct), np.sum(class_total)))\n"
      ],
      "execution_count": null,
      "outputs": [
        {
          "name": "stdout",
          "output_type": "stream",
          "text": [
            "Test Loss: 0.067691\n",
            "\n",
            "Test Accuracy of     0: 98% (2910/2940)\n",
            "Test Accuracy of     1: 99% (3384/3405)\n",
            "Test Accuracy of     2: 98% (3054/3096)\n",
            "Test Accuracy of     3: 98% (2973/3030)\n",
            "Test Accuracy of     4: 98% (2901/2946)\n",
            "Test Accuracy of     5: 97% (2610/2676)\n",
            "Test Accuracy of     6: 98% (2826/2874)\n",
            "Test Accuracy of     7: 97% (3015/3084)\n",
            "Test Accuracy of     8: 97% (2850/2922)\n",
            "Test Accuracy of     9: 97% (2958/3027)\n",
            "\n",
            "Test Accuracy (Overall): 98% (29481/30000)\n"
          ]
        }
      ]
    },
    {
      "cell_type": "code",
      "metadata": {
        "colab": {
          "base_uri": "https://localhost:8080/",
          "height": 298
        },
        "id": "yRVlnmyVMdGH",
        "outputId": "9b65fa8a-869c-4b54-eabd-795c2012055d"
      },
      "source": [
        "plt.plot(test_losses, color = \"coral\")\n",
        "plt.title(\"Pytorch torchvision dataset | test loss\") # epoch 200, batch size 50"
      ],
      "execution_count": null,
      "outputs": [
        {
          "data": {
            "text/plain": [
              "Text(0.5, 1.0, 'Pytorch torchvision dataset | test loss')"
            ]
          },
          "execution_count": 38,
          "metadata": {},
          "output_type": "execute_result"
        },
        {
          "data": {
            "image/png": "[encoded data removed]",
            "text/plain": [
              "<Figure size 432x288 with 1 Axes>"
            ]
          },
          "metadata": {},
          "output_type": "display_data"
        }
      ]
    },
    {
      "cell_type": "code",
      "metadata": {
        "id": "swdWg5IqMdMZ"
      },
      "source": [
        "\n",
        "n_epochs = 500 # epoch 500"
      ],
      "execution_count": null,
      "outputs": []
    },
    {
      "cell_type": "code",
      "metadata": {
        "colab": {
          "background_save": true
        },
        "id": "GrpkE3YCN-Cn"
      },
      "source": [
        "# This is torchvision data, but compare with from scratch / n_eopchs 500\n",
        "losses = []\n",
        "valid_loss_min = np.Inf  # set initial \"min\" to infinity\n",
        "for epoch in range(n_epochs):\n",
        "\n",
        "    train_loss = 0\n",
        "    valid_loss = 0\n",
        "    model.train()\n",
        "    for data, label in train_loader:\n",
        "      optimizer.zero_grad()\n",
        "      output = model(data)\n",
        "      loss = criterion(output, label)\n",
        "      loss.backward()\n",
        "      optimizer.step()\n",
        "      train_loss += loss.item()*data.size(0)\n",
        "      losses.append(train_loss/len(train_loader.sampler))"
      ],
      "execution_count": null,
      "outputs": []
    },
    {
      "cell_type": "code",
      "metadata": {
        "id": "3iE5-IulN-JN"
      },
      "source": [
        "   # validate\n",
        "   model.eval()  # prep model for evaluation\n",
        "   for data,label in valid_loader:\n",
        "        # forward pass: compute predicted outputs by passing inputs to the model\n",
        "        output = model(data)\n",
        "        # calculate the loss\n",
        "        loss = criterion(output,label)\n",
        "        # update running validation loss \n",
        "        valid_loss = loss.item() * data.size(0)"
      ],
      "execution_count": null,
      "outputs": []
    },
    {
      "cell_type": "code",
      "metadata": {
        "id": "xWcwwZl2N-P5"
      },
      "source": [
        "    # print training/validation statistics \n",
        "    # calculate average loss over an epoch\n",
        "    train_loss = train_loss / len(train_loader.sampler)\n",
        "    valid_loss = valid_loss / len(valid_loader.sampler)"
      ],
      "execution_count": null,
      "outputs": []
    },
    {
      "cell_type": "code",
      "metadata": {
        "id": "pla_ZguQN-WO"
      },
      "source": [
        "losses.sort() ## bitch size 50, epoch 500"
      ],
      "execution_count": null,
      "outputs": []
    },
    {
      "cell_type": "code",
      "metadata": {
        "id": "YhTf6syHN-pz"
      },
      "source": [
        "plt.plot(losses, color = \"deeppink\")\n",
        "plt.title(\"Pytorch torchvision dataset | Batch size 50, epoch 500 Loss\")"
      ],
      "execution_count": null,
      "outputs": []
    },
    {
      "cell_type": "code",
      "metadata": {
        "id": "Y8ZDZHuTK4et"
      },
      "source": [
        "    print(\"Batch size 50\")\n",
        "    print('Epoch: {} \\tTraining Loss: {:.6f} \\tValidation Loss: {:.6f}'.format(epoch+1, train_loss, valid_loss))"
      ],
      "execution_count": null,
      "outputs": []
    },
    {
      "cell_type": "code",
      "metadata": {
        "id": "G3A_4OPkPTzl"
      },
      "source": [
        "    # save model if validation loss has decreased\n",
        "    if valid_loss <= valid_loss_min:\n",
        "        print('Validation loss decreased ({:.6f} --> {:.6f}).  Saving model ...'.format(\n",
        "        valid_loss_min,\n",
        "        valid_loss))\n",
        "        torch.save(model.state_dict(), 'model.pt')\n",
        "        valid_loss_min = valid_loss"
      ],
      "execution_count": null,
      "outputs": []
    },
    {
      "cell_type": "code",
      "metadata": {
        "id": "mP5jrNBFPT6m"
      },
      "source": [
        "model.load_state_dict(torch.load('model.pt'))"
      ],
      "execution_count": null,
      "outputs": []
    },
    {
      "cell_type": "code",
      "metadata": {
        "id": "oWXotzdJQxfT"
      },
      "source": [
        "test_loss = 0.0\n",
        "class_correct = list(0. for i in range(10))\n",
        "class_total = list(0. for i in range(10))\n",
        "model.eval()"
      ],
      "execution_count": null,
      "outputs": []
    },
    {
      "cell_type": "code",
      "metadata": {
        "id": "i8evN5VDQ5Rp"
      },
      "source": [
        "test_losses = []\n",
        "for data, target in test_loader:\n",
        "    # forward pass: compute predicted outputs by passing inputs to the model\n",
        "    output = model(data)\n",
        "    # calculate the loss\n",
        "    loss = criterion(output, target)\n",
        "    # update test loss \n",
        "    test_loss += loss.item()*data.size(0)\n",
        "    # convert output probabilities to predicted class\n",
        "    _, pred = torch.max(output, 1)\n",
        "    # compare predictions to true label\n",
        "    correct = np.squeeze(pred.eq(target.data.view_as(pred)))\n",
        "\n",
        "    test_losses.append(test_loss/len(test_loader.sampler))\n",
        "    # calculate test accuracy for each object class\n",
        "    for i in range(len(target)):\n",
        "        label = target.data[i]\n",
        "        class_correct[label] += correct[i].item()\n",
        "        class_total[label] += 1\n",
        "# calculate and print avg test loss\n",
        "test_loss = test_loss/len(test_loader.sampler)\n",
        "test_losses.sort()\n",
        "print('Test Loss: {:.6f}\\n'.format(test_loss))\n",
        "for i in range(10):\n",
        "    if class_total[i] > 0:\n",
        "        print('Test Accuracy of %5s: %2d%% (%2d/%2d)' % (\n",
        "            str(i), 100 * class_correct[i] / class_total[i],\n",
        "            np.sum(class_correct[i]), np.sum(class_total[i])))\n",
        "    else:\n",
        "        print('Test Accuracy of %5s: N/A (no training examples)' % (classes[i]))\n",
        "print('\\nTest Accuracy (Overall): %2d%% (%2d/%2d)' % (\n",
        "    100. * np.sum(class_correct) / np.sum(class_total),\n",
        "    np.sum(class_correct), np.sum(class_total)))"
      ],
      "execution_count": null,
      "outputs": []
    },
    {
      "cell_type": "code",
      "metadata": {
        "id": "fJR4mskhQ_-q"
      },
      "source": [
        "plt.plot(test_losses, color = \"coral\")\n",
        "plt.title(\"Pytorch torchvision dataset | test loss\") # epoch 500, batch size 50"
      ],
      "execution_count": null,
      "outputs": []
    },
    {
      "cell_type": "code",
      "metadata": {
        "id": "nqGJp76GRAGs"
      },
      "source": [
        ""
      ],
      "execution_count": null,
      "outputs": []
    },
    {
      "cell_type": "code",
      "metadata": {
        "colab": {
          "base_uri": "https://localhost:8080/",
          "height": 298
        },
        "id": "SFfga-PvUC-g",
        "outputId": "9fb207be-10f3-4453-ad6f-1826437ef503"
      },
      "source": [
        "plt.plot(losses, color = \"lightgreen\")\n",
        "plt.title(\"Pytorch torchvision dataset | Batch size 50, epoch 50 Loss\")"
      ],
      "execution_count": null,
      "outputs": [
        {
          "data": {
            "text/plain": [
              "Text(0.5, 1.0, 'Pytorch torchvision dataset | Batch size 50, epoch 50 Loss')"
            ]
          },
          "execution_count": 15,
          "metadata": {},
          "output_type": "execute_result"
        },
        {
          "data": {
            "image/png": "[encoded data removed]",
            "text/plain": [
              "<Figure size 432x288 with 1 Axes>"
            ]
          },
          "metadata": {},
          "output_type": "display_data"
        }
      ]
    },
    {
      "cell_type": "code",
      "metadata": {
        "colab": {
          "base_uri": "https://localhost:8080/"
        },
        "id": "1bvCKpP08p6M",
        "outputId": "9f51debb-2491-4387-f810-ae6a7f657f00"
      },
      "source": [
        "    print('Epoch: {} \\tTraining Loss: {:.6f} \\tValidation Loss: {:.6f}'.format(epoch+1, train_loss, valid_loss))"
      ],
      "execution_count": null,
      "outputs": [
        {
          "name": "stdout",
          "output_type": "stream",
          "text": [
            "Epoch: 50 \tTraining Loss: 0.048037 \tValidation Loss: 0.000000\n"
          ]
        }
      ]
    },
    {
      "cell_type": "code",
      "metadata": {
        "colab": {
          "base_uri": "https://localhost:8080/"
        },
        "id": "jTPhsdL28qBq",
        "outputId": "cd0e7f4a-3a7a-4c8f-a341-5acfabe82007"
      },
      "source": [
        "    # save model if validation loss has decreased\n",
        "    if valid_loss <= valid_loss_min:\n",
        "        print('Validation loss decreased ({:.6f} --> {:.6f}).  Saving model ...'.format(\n",
        "        valid_loss_min,\n",
        "        valid_loss))\n",
        "        torch.save(model.state_dict(), 'model.pt')\n",
        "        valid_loss_min = valid_loss"
      ],
      "execution_count": null,
      "outputs": [
        {
          "name": "stdout",
          "output_type": "stream",
          "text": [
            "Validation loss decreased (inf --> 0.000000).  Saving model ...\n"
          ]
        }
      ]
    },
    {
      "cell_type": "code",
      "metadata": {
        "colab": {
          "base_uri": "https://localhost:8080/"
        },
        "id": "AU4XHqRa80oU",
        "outputId": "2e983000-80ed-4f94-c26c-fefa7340eadb"
      },
      "source": [
        "model.load_state_dict(torch.load('model.pt'))"
      ],
      "execution_count": null,
      "outputs": [
        {
          "data": {
            "text/plain": [
              "<All keys matched successfully>"
            ]
          },
          "execution_count": 18,
          "metadata": {},
          "output_type": "execute_result"
        }
      ]
    },
    {
      "cell_type": "code",
      "metadata": {
        "colab": {
          "base_uri": "https://localhost:8080/"
        },
        "id": "dV4mrzwx-XDx",
        "outputId": "1ae9eca1-09ca-4108-81bd-a496fba70ec5"
      },
      "source": [
        "test_loss = 0.0\n",
        "class_correct = list(0. for i in range(10))\n",
        "class_total = list(0. for i in range(10))\n",
        "model.eval()"
      ],
      "execution_count": null,
      "outputs": [
        {
          "data": {
            "text/plain": [
              "Net(\n",
              "  (fc1): Linear(in_features=784, out_features=512, bias=True)\n",
              "  (fc2): Linear(in_features=512, out_features=512, bias=True)\n",
              "  (fc3): Linear(in_features=512, out_features=10, bias=True)\n",
              "  (droput): Dropout(p=0.2, inplace=False)\n",
              ")"
            ]
          },
          "execution_count": 19,
          "metadata": {},
          "output_type": "execute_result"
        }
      ]
    },
    {
      "cell_type": "code",
      "metadata": {
        "colab": {
          "base_uri": "https://localhost:8080/"
        },
        "id": "H25YoPBZjBNi",
        "outputId": "b22daceb-a364-43ef-937f-e22492bcd5c8"
      },
      "source": [
        "print(len(test_loader.sampler))"
      ],
      "execution_count": null,
      "outputs": [
        {
          "name": "stdout",
          "output_type": "stream",
          "text": [
            "10000\n"
          ]
        }
      ]
    },
    {
      "cell_type": "code",
      "metadata": {
        "colab": {
          "base_uri": "https://localhost:8080/"
        },
        "id": "_ryLVPZ_-XGb",
        "outputId": "69600cef-98a8-4e95-e487-20780e0780b1"
      },
      "source": [
        "test_losses = []\n",
        "for data, target in test_loader:\n",
        "    # forward pass: compute predicted outputs by passing inputs to the model\n",
        "    output = model(data)\n",
        "    # calculate the loss\n",
        "    loss = criterion(output, target)\n",
        "    # update test loss \n",
        "    test_loss += loss.item()*data.size(0)\n",
        "    # convert output probabilities to predicted class\n",
        "    _, pred = torch.max(output, 1)\n",
        "    # compare predictions to true label\n",
        "    correct = np.squeeze(pred.eq(target.data.view_as(pred)))\n",
        "\n",
        "    test_losses.append(test_loss/len(test_loader.sampler))\n",
        "    # calculate test accuracy for each object class\n",
        "    for i in range(len(target)):\n",
        "        label = target.data[i]\n",
        "        class_correct[label] += correct[i].item()\n",
        "        class_total[label] += 1\n",
        "# calculate and print avg test loss\n",
        "test_loss = test_loss/len(test_loader.sampler)\n",
        "test_losses.sort()\n",
        "print('Test Loss: {:.6f}\\n'.format(test_loss))\n",
        "for i in range(10):\n",
        "    if class_total[i] > 0:\n",
        "        print('Test Accuracy of %5s: %2d%% (%2d/%2d)' % (\n",
        "            str(i), 100 * class_correct[i] / class_total[i],\n",
        "            np.sum(class_correct[i]), np.sum(class_total[i])))\n",
        "    else:\n",
        "        print('Test Accuracy of %5s: N/A (no training examples)' % (classes[i]))\n",
        "print('\\nTest Accuracy (Overall): %2d%% (%2d/%2d)' % (\n",
        "    100. * np.sum(class_correct) / np.sum(class_total),\n",
        "    np.sum(class_correct), np.sum(class_total)))"
      ],
      "execution_count": null,
      "outputs": [
        {
          "name": "stdout",
          "output_type": "stream",
          "text": [
            "Test Loss: 0.068261\n",
            "\n",
            "Test Accuracy of     0: 98% (1938/1960)\n",
            "Test Accuracy of     1: 99% (2250/2270)\n",
            "Test Accuracy of     2: 97% (2022/2064)\n",
            "Test Accuracy of     3: 97% (1976/2020)\n",
            "Test Accuracy of     4: 97% (1922/1964)\n",
            "Test Accuracy of     5: 96% (1730/1784)\n",
            "Test Accuracy of     6: 97% (1872/1916)\n",
            "Test Accuracy of     7: 97% (2000/2056)\n",
            "Test Accuracy of     8: 97% (1892/1948)\n",
            "Test Accuracy of     9: 96% (1954/2018)\n",
            "\n",
            "Test Accuracy (Overall): 97% (19556/20000)\n"
          ]
        }
      ]
    },
    {
      "cell_type": "code",
      "metadata": {
        "colab": {
          "base_uri": "https://localhost:8080/",
          "height": 298
        },
        "id": "ggiGDqcxF3Zw",
        "outputId": "f1f63a4f-98e4-42e1-9971-544531a1f156"
      },
      "source": [
        "plt.plot(test_losses, color = \"coral\")\n",
        "plt.title(\"Pytorch torchvision dataset | test loss\") # epoch 50, batch size 50"
      ],
      "execution_count": null,
      "outputs": [
        {
          "data": {
            "text/plain": [
              "Text(0.5, 1.0, 'Pytorch torchvision dataset | test loss')"
            ]
          },
          "execution_count": 25,
          "metadata": {},
          "output_type": "execute_result"
        },
        {
          "data": {
            "image/png": "[encoded data removed]",
            "text/plain": [
              "<Figure size 432x288 with 1 Axes>"
            ]
          },
          "metadata": {},
          "output_type": "display_data"
        }
      ]
    },
    {
      "cell_type": "code",
      "metadata": {
        "id": "ix-nmdyzjpzw"
      },
      "source": [
        ""
      ],
      "execution_count": null,
      "outputs": []
    },
    {
      "cell_type": "markdown",
      "metadata": {
        "id": "ZPoRYbTqF4UI"
      },
      "source": [
        "# pytorch : datasets "
      ]
    },
    {
      "cell_type": "code",
      "metadata": {
        "id": "SM36uW34F3et"
      },
      "source": [
        "import torch\n",
        "from torch.autograd import Variable\n",
        "import torch.nn as nn\n",
        "import torch.nn.functional as F\n",
        "import torch.optim as optim\n",
        "from torch.utils.data import DataLoader, TensorDataset\n",
        "\n",
        "from matplotlib import pyplot as plt\n",
        "from matplotlib import cm\n",
        "\n",
        "import pandas as pd\n",
        "\n",
        "%matplotlib inline\n"
      ],
      "execution_count": null,
      "outputs": []
    },
    {
      "cell_type": "code",
      "metadata": {
        "colab": {
          "base_uri": "https://localhost:8080/"
        },
        "id": "Qk6SniL6G5d3",
        "outputId": "705cb62f-2aea-4833-dbe1-32ae27362b16"
      },
      "source": [
        "test_x.shape"
      ],
      "execution_count": null,
      "outputs": [
        {
          "output_type": "execute_result",
          "data": {
            "text/plain": [
              "torch.Size([10000, 784])"
            ]
          },
          "metadata": {},
          "execution_count": 39
        }
      ]
    },
    {
      "cell_type": "code",
      "metadata": {
        "colab": {
          "base_uri": "https://localhost:8080/"
        },
        "id": "NmZNU4gAHdXf",
        "outputId": "224eb951-6251-4d01-cbd5-154788f4570e"
      },
      "source": [
        "device = torch.device(\"cuda:0\" if torch.cuda.is_available() else \"cpu\")\n",
        "device"
      ],
      "execution_count": null,
      "outputs": [
        {
          "output_type": "execute_result",
          "data": {
            "text/plain": [
              "device(type='cuda', index=0)"
            ]
          },
          "metadata": {},
          "execution_count": 40
        }
      ]
    },
    {
      "cell_type": "code",
      "metadata": {
        "colab": {
          "base_uri": "https://localhost:8080/",
          "height": 232
        },
        "id": "5waRlgmvHyAp",
        "outputId": "7ed1d036-b898-4fbd-a7ff-0f56a1ff7cd9"
      },
      "source": [
        "train_X = torch.from_numpy(train_x).float().to(device)\n",
        "train_Y = torch.from_numpy(train_y).long().to(device)\n",
        "\n",
        "\n",
        "test_X = torch.from_numpy(test_x).float().to(device)\n",
        "test_Y = torch.from_numpy(test_y).long().to(device)\n",
        "\n",
        "print(train_X.shape)\n",
        "print(train_Y.shape)"
      ],
      "execution_count": null,
      "outputs": [
        {
          "output_type": "error",
          "ename": "TypeError",
          "evalue": "ignored",
          "traceback": [
            "\u001b[0;31m---------------------------------------------------------------------------\u001b[0m",
            "\u001b[0;31mTypeError\u001b[0m                                 Traceback (most recent call last)",
            "\u001b[0;32m<ipython-input-41-bf0e4cd5d145>\u001b[0m in \u001b[0;36m<module>\u001b[0;34m()\u001b[0m\n\u001b[0;32m----> 1\u001b[0;31m \u001b[0mtrain_X\u001b[0m \u001b[0;34m=\u001b[0m \u001b[0mtorch\u001b[0m\u001b[0;34m.\u001b[0m\u001b[0mfrom_numpy\u001b[0m\u001b[0;34m(\u001b[0m\u001b[0mtrain_x\u001b[0m\u001b[0;34m)\u001b[0m\u001b[0;34m.\u001b[0m\u001b[0mfloat\u001b[0m\u001b[0;34m(\u001b[0m\u001b[0;34m)\u001b[0m\u001b[0;34m.\u001b[0m\u001b[0mto\u001b[0m\u001b[0;34m(\u001b[0m\u001b[0mdevice\u001b[0m\u001b[0;34m)\u001b[0m\u001b[0;34m\u001b[0m\u001b[0;34m\u001b[0m\u001b[0m\n\u001b[0m\u001b[1;32m      2\u001b[0m \u001b[0mtrain_Y\u001b[0m \u001b[0;34m=\u001b[0m \u001b[0mtorch\u001b[0m\u001b[0;34m.\u001b[0m\u001b[0mfrom_numpy\u001b[0m\u001b[0;34m(\u001b[0m\u001b[0mtrain_y\u001b[0m\u001b[0;34m)\u001b[0m\u001b[0;34m.\u001b[0m\u001b[0mlong\u001b[0m\u001b[0;34m(\u001b[0m\u001b[0;34m)\u001b[0m\u001b[0;34m.\u001b[0m\u001b[0mto\u001b[0m\u001b[0;34m(\u001b[0m\u001b[0mdevice\u001b[0m\u001b[0;34m)\u001b[0m\u001b[0;34m\u001b[0m\u001b[0;34m\u001b[0m\u001b[0m\n\u001b[1;32m      3\u001b[0m \u001b[0;34m\u001b[0m\u001b[0m\n\u001b[1;32m      4\u001b[0m \u001b[0;34m\u001b[0m\u001b[0m\n\u001b[1;32m      5\u001b[0m \u001b[0mtest_X\u001b[0m \u001b[0;34m=\u001b[0m \u001b[0mtorch\u001b[0m\u001b[0;34m.\u001b[0m\u001b[0mfrom_numpy\u001b[0m\u001b[0;34m(\u001b[0m\u001b[0mtest_x\u001b[0m\u001b[0;34m)\u001b[0m\u001b[0;34m.\u001b[0m\u001b[0mfloat\u001b[0m\u001b[0;34m(\u001b[0m\u001b[0;34m)\u001b[0m\u001b[0;34m.\u001b[0m\u001b[0mto\u001b[0m\u001b[0;34m(\u001b[0m\u001b[0mdevice\u001b[0m\u001b[0;34m)\u001b[0m\u001b[0;34m\u001b[0m\u001b[0;34m\u001b[0m\u001b[0m\n",
            "\u001b[0;31mTypeError\u001b[0m: expected np.ndarray (got Tensor)"
          ]
        }
      ]
    },
    {
      "cell_type": "code",
      "metadata": {
        "id": "uy0U3cVBH99U"
      },
      "source": [
        "train = TensorDataset(train_X, train_Y)\n",
        "train_loader = DataLoader(train, batch_size=50, shuffle=True) # batch size 50"
      ],
      "execution_count": null,
      "outputs": []
    },
    {
      "cell_type": "code",
      "metadata": {
        "id": "sPxEFk-FIEh0"
      },
      "source": [
        "class Net(nn.Module):\n",
        "  def __init__(self):\n",
        "    super(Net, self).__init__()\n",
        "    self.fc1 = nn.Linear(784, 256)\n",
        "    self.fc2 = nn.Linear(256, 256)\n",
        "    self.fc3 = nn.Linear(256, 256)\n",
        "    self.fc4 = nn.Linear(256, 128)\n",
        "    self.fc5 = nn.Linear(128, 128)\n",
        "    self.fc6 = nn.Linear(128, 10)\n",
        "    \n",
        "    \n",
        "  def forward(self, x):\n",
        "    x = F.relu(self.fc1(x))\n",
        "    x = F.relu(self.fc2(x))\n",
        "    x = F.relu(self.fc3(x))\n",
        "    x = F.relu(self.fc4(x))\n",
        "    x = F.relu(self.fc5(x))\n",
        "    x = F.dropout(x, training=self.training)\n",
        "    x = self.fc6(x)\n",
        "    return F.log_softmax(x)\n",
        "    \n",
        "model = Net()\n",
        "#model.cuda()"
      ],
      "execution_count": null,
      "outputs": []
    },
    {
      "cell_type": "code",
      "metadata": {
        "id": "oGxCoETyIbyH"
      },
      "source": [
        "criterion = nn.CrossEntropyLoss()\n",
        "optimizer = optim.SGD(model.parameters(), lr=0.01)"
      ],
      "execution_count": null,
      "outputs": []
    },
    {
      "cell_type": "code",
      "metadata": {
        "colab": {
          "base_uri": "https://localhost:8080/"
        },
        "id": "8_-PiHeIIb34",
        "outputId": "dc2855c1-1e9b-4d3d-d925-9fec0c8e1a65"
      },
      "source": [
        "losses = []\n",
        "for epoch in range(50): # epoch 50\n",
        "  total_loss = 0 #batch loss \n",
        "  \n",
        "  for train_x, train_y in train_loader:\n",
        "    train_x, train_y = Variable(train_x), Variable(train_y)\n",
        "    optimizer.zero_grad()\n",
        "    output = model(train_x)\n",
        "\n",
        "    loss = criterion(output, train_y)\n",
        "    loss.backward()\n",
        "    # loss\n",
        "    optimizer.step()\n",
        "    total_loss += loss.data.item()\n",
        "    losses.append(total_loss/len(train_loader))"
      ],
      "execution_count": null,
      "outputs": [
        {
          "output_type": "stream",
          "name": "stderr",
          "text": [
            "/usr/local/lib/python3.7/dist-packages/ipykernel_launcher.py:20: UserWarning: Implicit dimension choice for log_softmax has been deprecated. Change the call to include dim=X as an argument.\n"
          ]
        }
      ]
    },
    {
      "cell_type": "code",
      "metadata": {
        "colab": {
          "base_uri": "https://localhost:8080/"
        },
        "id": "uH3uVIYEJpuK",
        "outputId": "464e6b1d-13c6-4f2c-d6c1-ed46623bfcb6"
      },
      "source": [
        "#\n",
        "if (epoch +1) % 10 == 0:\n",
        "  print(epoch+1, total_loss)"
      ],
      "execution_count": null,
      "outputs": [
        {
          "output_type": "stream",
          "name": "stdout",
          "text": [
            "50 0.11184122637342142\n"
          ]
        }
      ]
    },
    {
      "cell_type": "code",
      "metadata": {
        "id": "mfeKO2TWLuWw"
      },
      "source": [
        "test_x, test_y = Variable(test_X), Variable(test_Y)"
      ],
      "execution_count": null,
      "outputs": []
    },
    {
      "cell_type": "code",
      "metadata": {
        "colab": {
          "base_uri": "https://localhost:8080/"
        },
        "id": "5IctMX74LwDY",
        "outputId": "b8d7736f-c483-404b-f225-f8b6d765d548"
      },
      "source": [
        "result = torch.max(model(test_x).data, 1)[1]\n",
        "accuracy = sum(test_y.cpu().data.numpy() == result.cpu().numpy()) / len(test_y.cpu().data.numpy())"
      ],
      "execution_count": null,
      "outputs": [
        {
          "output_type": "stream",
          "name": "stderr",
          "text": [
            "/usr/local/lib/python3.7/dist-packages/ipykernel_launcher.py:20: UserWarning: Implicit dimension choice for log_softmax has been deprecated. Change the call to include dim=X as an argument.\n"
          ]
        }
      ]
    },
    {
      "cell_type": "code",
      "metadata": {
        "colab": {
          "base_uri": "https://localhost:8080/"
        },
        "id": "MDAZrOwNIIDk",
        "outputId": "82a1f6b9-4eea-49f2-c2a6-4bb56eb06d0e"
      },
      "source": [
        "print(\"[epoch 50, batch size 50]\")\n",
        "print(\"===Pytorch Multi-Layer Perceptron accuracy===\")\n",
        "print(accuracy)"
      ],
      "execution_count": null,
      "outputs": [
        {
          "output_type": "stream",
          "name": "stdout",
          "text": [
            "[epoch 50, batch size 50]\n",
            "===Pytorch Multi-Layer Perceptron accuracy===\n",
            "0.9688\n"
          ]
        }
      ]
    },
    {
      "cell_type": "code",
      "metadata": {
        "colab": {
          "base_uri": "https://localhost:8080/",
          "height": 281
        },
        "id": "s6PmL_UllLcW",
        "outputId": "bbba6c17-1fc2-4f40-baa2-d538f97ebdfe"
      },
      "source": [
        "losses.sort()\n",
        "#plot\n",
        "import matplotlib.pyplot as plt\n",
        "\n",
        "plt.plot(losses, color = \"springgreen\")\n",
        "plt.title(\"epoch 50, batch size 50 | MLP (loss)\")\n",
        "plt.show()"
      ],
      "execution_count": null,
      "outputs": [
        {
          "output_type": "display_data",
          "data": {
            "image/png": "[encoded data removed]",
            "text/plain": [
              "<Figure size 432x288 with 1 Axes>"
            ]
          },
          "metadata": {
            "needs_background": "light"
          }
        }
      ]
    },
    {
      "cell_type": "code",
      "metadata": {
        "colab": {
          "base_uri": "https://localhost:8080/"
        },
        "id": "e-1vfPyAxUae",
        "outputId": "42404c15-23c1-45a6-e41a-c26bd629dd44"
      },
      "source": [
        "losses = []\n",
        "for epoch in range(100): # epoch 100\n",
        "  total_loss = 0 #batch loss \n",
        "  \n",
        "  for train_x, train_y in train_loader:\n",
        "    train_x, train_y = Variable(train_x), Variable(train_y)\n",
        "    optimizer.zero_grad()\n",
        "    output = model(train_x)\n",
        "\n",
        "    loss = criterion(output, train_y)\n",
        "    loss.backward()\n",
        "    # loss\n",
        "    optimizer.step()\n",
        "    total_loss += loss.data.item()\n",
        "    losses.append(total_loss/len(train_loader))"
      ],
      "execution_count": null,
      "outputs": [
        {
          "output_type": "stream",
          "name": "stderr",
          "text": [
            "/usr/local/lib/python3.7/dist-packages/ipykernel_launcher.py:20: UserWarning: Implicit dimension choice for log_softmax has been deprecated. Change the call to include dim=X as an argument.\n"
          ]
        }
      ]
    },
    {
      "cell_type": "code",
      "metadata": {
        "colab": {
          "base_uri": "https://localhost:8080/"
        },
        "id": "V607dFhpxZvP",
        "outputId": "38539cce-27e9-4c3a-bf23-dd338f2add3b"
      },
      "source": [
        "# 100\n",
        "if (epoch +1) % 10 == 0:\n",
        "  print(epoch+1, total_loss)"
      ],
      "execution_count": null,
      "outputs": [
        {
          "output_type": "stream",
          "name": "stdout",
          "text": [
            "100 0.9046400394459511\n"
          ]
        }
      ]
    },
    {
      "cell_type": "code",
      "metadata": {
        "id": "Pr0Wow49xZ5e"
      },
      "source": [
        "test_x, test_y = Variable(test_X), Variable(test_Y)"
      ],
      "execution_count": null,
      "outputs": []
    },
    {
      "cell_type": "code",
      "metadata": {
        "colab": {
          "base_uri": "https://localhost:8080/"
        },
        "id": "I_TMFln_x4hl",
        "outputId": "70eabb7b-4592-4908-d431-9f4f9005db9b"
      },
      "source": [
        "result = torch.max(model(test_x).data, 1)[1]\n",
        "accuracy = sum(test_y.cpu().data.numpy() == result.cpu().numpy()) / len(test_y.cpu().data.numpy())"
      ],
      "execution_count": null,
      "outputs": [
        {
          "output_type": "stream",
          "name": "stderr",
          "text": [
            "/usr/local/lib/python3.7/dist-packages/ipykernel_launcher.py:20: UserWarning: Implicit dimension choice for log_softmax has been deprecated. Change the call to include dim=X as an argument.\n"
          ]
        }
      ]
    },
    {
      "cell_type": "code",
      "metadata": {
        "colab": {
          "base_uri": "https://localhost:8080/"
        },
        "id": "SuThyskbx4yN",
        "outputId": "6ac417fb-a5f9-4396-b1b6-7fb42333e098"
      },
      "source": [
        "print(\"[epoch 100, batch size 50]\")\n",
        "print(\"===Pytorch Multi-Layer Perceptron accuracy===\")\n",
        "print(accuracy)"
      ],
      "execution_count": null,
      "outputs": [
        {
          "output_type": "stream",
          "name": "stdout",
          "text": [
            "[epoch 100, batch size 50]\n",
            "===Pytorch Multi-Layer Perceptron accuracy===\n",
            "0.9705\n"
          ]
        }
      ]
    },
    {
      "cell_type": "code",
      "metadata": {
        "colab": {
          "base_uri": "https://localhost:8080/",
          "height": 281
        },
        "id": "HLcb4rTIyGpx",
        "outputId": "1668ab4f-382e-4229-de79-2202af6e9449"
      },
      "source": [
        "losses.sort()\n",
        "#plot\n",
        "import matplotlib.pyplot as plt\n",
        "\n",
        "plt.plot(losses, color = \"crimson\")\n",
        "plt.title(\"epoch 100, batch size 50 | MLP (loss)\")\n",
        "plt.show()"
      ],
      "execution_count": null,
      "outputs": [
        {
          "output_type": "display_data",
          "data": {
            "image/png": "[encoded data removed]",
            "text/plain": [
              "<Figure size 432x288 with 1 Axes>"
            ]
          },
          "metadata": {
            "needs_background": "light"
          }
        }
      ]
    },
    {
      "cell_type": "code",
      "metadata": {
        "colab": {
          "base_uri": "https://localhost:8080/"
        },
        "id": "QKTJsYDIzxUC",
        "outputId": "c47be592-f641-43fd-97e2-199afa66e583"
      },
      "source": [
        "losses = []\n",
        "for epoch in range(200): # epoch 200\n",
        "  total_loss = 0 #batch loss \n",
        "  \n",
        "  for train_x, train_y in train_loader:\n",
        "    train_x, train_y = Variable(train_x), Variable(train_y)\n",
        "    optimizer.zero_grad()\n",
        "    output = model(train_x)\n",
        "\n",
        "    loss = criterion(output, train_y)\n",
        "    loss.backward()\n",
        "    # loss\n",
        "    optimizer.step()\n",
        "    total_loss += loss.data.item()\n",
        "    losses.append(total_loss/len(train_loader))"
      ],
      "execution_count": null,
      "outputs": [
        {
          "output_type": "stream",
          "name": "stderr",
          "text": [
            "/usr/local/lib/python3.7/dist-packages/ipykernel_launcher.py:20: UserWarning: Implicit dimension choice for log_softmax has been deprecated. Change the call to include dim=X as an argument.\n"
          ]
        }
      ]
    },
    {
      "cell_type": "code",
      "metadata": {
        "colab": {
          "base_uri": "https://localhost:8080/"
        },
        "id": "76wygDKszxjS",
        "outputId": "236f4b44-5a84-410e-f414-a72f1b660b7d"
      },
      "source": [
        "#\n",
        "if (epoch +1) % 10 == 0:\n",
        "  print(epoch+1, total_loss)"
      ],
      "execution_count": null,
      "outputs": [
        {
          "output_type": "stream",
          "name": "stdout",
          "text": [
            "200 0.15457106168458523\n"
          ]
        }
      ]
    },
    {
      "cell_type": "code",
      "metadata": {
        "id": "Cs19gKAxzx7H"
      },
      "source": [
        "test_x, test_y = Variable(test_X), Variable(test_Y)"
      ],
      "execution_count": null,
      "outputs": []
    },
    {
      "cell_type": "code",
      "metadata": {
        "colab": {
          "base_uri": "https://localhost:8080/"
        },
        "id": "hszs43O30X0m",
        "outputId": "c33556dd-bd0e-425b-efc6-46ef188136df"
      },
      "source": [
        "result = torch.max(model(test_x).data, 1)[1]\n",
        "accuracy = sum(test_y.cpu().data.numpy() == result.cpu().numpy()) / len(test_y.cpu().data.numpy())"
      ],
      "execution_count": null,
      "outputs": [
        {
          "output_type": "stream",
          "name": "stderr",
          "text": [
            "/usr/local/lib/python3.7/dist-packages/ipykernel_launcher.py:20: UserWarning: Implicit dimension choice for log_softmax has been deprecated. Change the call to include dim=X as an argument.\n"
          ]
        }
      ]
    },
    {
      "cell_type": "code",
      "metadata": {
        "colab": {
          "base_uri": "https://localhost:8080/"
        },
        "id": "407dtu61zDKq",
        "outputId": "9a29241f-692a-48eb-8fe2-158dce23d56e"
      },
      "source": [
        "print(\"[epoch 200, batch size 50]\")\n",
        "print(\"===Pytorch Multi-Layer Perceptron accuracy===\")\n",
        "print(accuracy)"
      ],
      "execution_count": null,
      "outputs": [
        {
          "output_type": "stream",
          "name": "stdout",
          "text": [
            "[epoch 200, batch size 50]\n",
            "===Pytorch Multi-Layer Perceptron accuracy===\n",
            "0.9741\n"
          ]
        }
      ]
    },
    {
      "cell_type": "code",
      "metadata": {
        "colab": {
          "base_uri": "https://localhost:8080/",
          "height": 281
        },
        "id": "4SQwB5Q3zDUZ",
        "outputId": "f99499e9-33b1-4678-d5e9-14270b73e57a"
      },
      "source": [
        "losses.sort()\n",
        "#plot\n",
        "import matplotlib.pyplot as plt\n",
        "\n",
        "plt.plot(losses, color = \"darkviolet\")\n",
        "plt.title(\"epoch 200, batch size 50 | MLP (loss)\")\n",
        "plt.show()"
      ],
      "execution_count": null,
      "outputs": [
        {
          "output_type": "display_data",
          "data": {
            "image/png": "[encoded data removed]",
            "text/plain": [
              "<Figure size 432x288 with 1 Axes>"
            ]
          },
          "metadata": {
            "needs_background": "light"
          }
        }
      ]
    },
    {
      "cell_type": "code",
      "metadata": {
        "colab": {
          "base_uri": "https://localhost:8080/"
        },
        "id": "RiSyqE0_lLnc",
        "outputId": "d6ec11f4-0865-4ae2-e629-e0beccef97aa"
      },
      "source": [
        "losses = []\n",
        "for epoch in range(500): # epoch 500 \n",
        "  total_loss = 0 #batch loss \n",
        "  \n",
        "  for train_x, train_y in train_loader:\n",
        "    train_x, train_y = Variable(train_x), Variable(train_y)\n",
        "    optimizer.zero_grad()\n",
        "    output = model(train_x)\n",
        "\n",
        "    loss = criterion(output, train_y)\n",
        "    loss.backward()\n",
        "    # loss\n",
        "    optimizer.step()\n",
        "    total_loss += loss.data.item()\n",
        "    losses.append(total_loss/len(train_loader))"
      ],
      "execution_count": null,
      "outputs": [
        {
          "output_type": "stream",
          "name": "stderr",
          "text": [
            "/usr/local/lib/python3.7/dist-packages/ipykernel_launcher.py:20: UserWarning: Implicit dimension choice for log_softmax has been deprecated. Change the call to include dim=X as an argument.\n"
          ]
        }
      ]
    },
    {
      "cell_type": "code",
      "metadata": {
        "colab": {
          "base_uri": "https://localhost:8080/"
        },
        "id": "MvyzbvrhlLxW",
        "outputId": "d0d8b1d5-e325-4b9e-dc30-3c3b059804d2"
      },
      "source": [
        "# 500\n",
        "if (epoch +1) % 10 == 0:\n",
        "  print(epoch+1, total_loss)"
      ],
      "execution_count": null,
      "outputs": [
        {
          "output_type": "stream",
          "name": "stdout",
          "text": [
            "500 0.0675425435661996\n"
          ]
        }
      ]
    },
    {
      "cell_type": "code",
      "metadata": {
        "id": "dqSzBlGawrij"
      },
      "source": [
        "test_x, test_y = Variable(test_X), Variable(test_Y)"
      ],
      "execution_count": null,
      "outputs": []
    },
    {
      "cell_type": "code",
      "metadata": {
        "colab": {
          "base_uri": "https://localhost:8080/"
        },
        "id": "_Ziz0IBGwwpX",
        "outputId": "dfff84fa-9c60-40b2-c5ff-0692dcabf5a2"
      },
      "source": [
        "result = torch.max(model(test_x).data, 1)[1]\n",
        "accuracy = sum(test_y.cpu().data.numpy() == result.cpu().numpy()) / len(test_y.cpu().data.numpy())"
      ],
      "execution_count": null,
      "outputs": [
        {
          "output_type": "stream",
          "name": "stderr",
          "text": [
            "/usr/local/lib/python3.7/dist-packages/ipykernel_launcher.py:20: UserWarning: Implicit dimension choice for log_softmax has been deprecated. Change the call to include dim=X as an argument.\n"
          ]
        }
      ]
    },
    {
      "cell_type": "code",
      "metadata": {
        "colab": {
          "base_uri": "https://localhost:8080/"
        },
        "id": "_HgioDTZw0xu",
        "outputId": "86eac77e-94ee-4c8f-a83d-c5767f59ffdc"
      },
      "source": [
        "print(\"[epoch 500, batch 50]\")\n",
        "print(\"===Pytorch Multi-Layer Perceptron accuracy===\")\n",
        "print(accuracy)"
      ],
      "execution_count": null,
      "outputs": [
        {
          "output_type": "stream",
          "name": "stdout",
          "text": [
            "[epoch 500, batch 50]\n",
            "===Pytorch Multi-Layer Perceptron accuracy===\n",
            "0.9731\n"
          ]
        }
      ]
    },
    {
      "cell_type": "code",
      "metadata": {
        "colab": {
          "base_uri": "https://localhost:8080/",
          "height": 281
        },
        "id": "kU5YAVo4w5Tf",
        "outputId": "163b4195-4c21-4a7b-e8f4-702b591491e2"
      },
      "source": [
        "losses.sort()\n",
        "#plot\n",
        "import matplotlib.pyplot as plt\n",
        "\n",
        "plt.plot(losses, color = \"dodgerblue\")\n",
        "plt.title(\"epoch 500, batch size 50 | MLP (loss)\")\n",
        "plt.show()"
      ],
      "execution_count": null,
      "outputs": [
        {
          "output_type": "display_data",
          "data": {
            "image/png": "[encoded data removed]",
            "text/plain": [
              "<Figure size 432x288 with 1 Axes>"
            ]
          },
          "metadata": {
            "needs_background": "light"
          }
        }
      ]
    },
    {
      "cell_type": "code",
      "metadata": {
        "id": "Ey-p2LXsTJUj"
      },
      "source": [
        "# I think Machine Learning library /beset epoch 100 or 200\n",
        "# so, batch size 10 from 50"
      ],
      "execution_count": null,
      "outputs": []
    },
    {
      "cell_type": "code",
      "metadata": {
        "id": "ipiw0EyYxG8t"
      },
      "source": [
        "train = TensorDataset(train_X, train_Y)\n",
        "train_loader = DataLoader(train, batch_size=10, shuffle=True) #batch size 10"
      ],
      "execution_count": null,
      "outputs": []
    },
    {
      "cell_type": "code",
      "metadata": {
        "colab": {
          "base_uri": "https://localhost:8080/"
        },
        "id": "MBh6BpeqTt7w",
        "outputId": "0b29dec3-c80e-49ff-aba6-c7d36d30308f"
      },
      "source": [
        "class Net(nn.Module):\n",
        "  def __init__(self):\n",
        "    super(Net, self).__init__()\n",
        "    self.fc1 = nn.Linear(784, 256)\n",
        "    self.fc2 = nn.Linear(256, 256)\n",
        "    self.fc3 = nn.Linear(256, 256)\n",
        "    self.fc4 = nn.Linear(256, 128)\n",
        "    self.fc5 = nn.Linear(128, 128)\n",
        "    self.fc6 = nn.Linear(128, 10)\n",
        "    \n",
        "    \n",
        "  def forward(self, x):\n",
        "    x = F.relu(self.fc1(x))\n",
        "    x = F.relu(self.fc2(x))\n",
        "    x = F.relu(self.fc3(x))\n",
        "    x = F.relu(self.fc4(x))\n",
        "    x = F.relu(self.fc5(x))\n",
        "    x = F.dropout(x, training=self.training)\n",
        "    x = self.fc6(x)\n",
        "    return F.log_softmax(x)\n",
        "    \n",
        "model = Net()\n",
        "model.cuda()"
      ],
      "execution_count": null,
      "outputs": [
        {
          "output_type": "execute_result",
          "data": {
            "text/plain": [
              "Net(\n",
              "  (fc1): Linear(in_features=784, out_features=256, bias=True)\n",
              "  (fc2): Linear(in_features=256, out_features=256, bias=True)\n",
              "  (fc3): Linear(in_features=256, out_features=256, bias=True)\n",
              "  (fc4): Linear(in_features=256, out_features=128, bias=True)\n",
              "  (fc5): Linear(in_features=128, out_features=128, bias=True)\n",
              "  (fc6): Linear(in_features=128, out_features=10, bias=True)\n",
              ")"
            ]
          },
          "metadata": {},
          "execution_count": 48
        }
      ]
    },
    {
      "cell_type": "code",
      "metadata": {
        "id": "nz1A1s4ST_cS"
      },
      "source": [
        "criterion = nn.CrossEntropyLoss()\n",
        "optimizer = optim.SGD(model.parameters(), lr=0.01)"
      ],
      "execution_count": null,
      "outputs": []
    },
    {
      "cell_type": "code",
      "metadata": {
        "colab": {
          "base_uri": "https://localhost:8080/"
        },
        "id": "W2j74lYRUPs7",
        "outputId": "fa1bef40-c48a-4fa3-9545-c207d59049e3"
      },
      "source": [
        "losses = []\n",
        "for epoch in range(50): # epoch 50, batch size 10 /\n",
        "  total_loss = 0 #batch loss \n",
        "  \n",
        "  for train_x, train_y in train_loader:\n",
        "    train_x, train_y = Variable(train_x), Variable(train_y)\n",
        "    optimizer.zero_grad()\n",
        "    output = model(train_x)\n",
        "\n",
        "    loss = criterion(output, train_y)\n",
        "    loss.backward()\n",
        "    # loss\n",
        "    optimizer.step()\n",
        "    total_loss += loss.data.item()\n",
        "    losses.append(total_loss/len(train_loader))"
      ],
      "execution_count": null,
      "outputs": [
        {
          "metadata": {
            "tags": null
          },
          "name": "stderr",
          "output_type": "stream",
          "text": [
            "/usr/local/lib/python3.7/dist-packages/ipykernel_launcher.py:20: UserWarning: Implicit dimension choice for log_softmax has been deprecated. Change the call to include dim=X as an argument.\n"
          ]
        }
      ]
    },
    {
      "cell_type": "code",
      "metadata": {
        "colab": {
          "base_uri": "https://localhost:8080/"
        },
        "id": "wbe67HxkUs7q",
        "outputId": "40c558a1-b027-408e-cec2-3c83e4f11ebc"
      },
      "source": [
        "if (epoch +1) % 10 == 0:\n",
        "  print(epoch+1, total_loss)"
      ],
      "execution_count": null,
      "outputs": [
        {
          "output_type": "stream",
          "name": "stdout",
          "text": [
            "50 11523.667226552963\n"
          ]
        }
      ]
    },
    {
      "cell_type": "code",
      "metadata": {
        "colab": {
          "base_uri": "https://localhost:8080/"
        },
        "id": "HL4xJEPIU1fw",
        "outputId": "94f41d9c-86aa-49f4-c501-c4cceab3cd29"
      },
      "source": [
        "test_x, test_y = Variable(test_X), Variable(test_Y)\n",
        "result = torch.max(model(test_x).data, 1)[1]\n",
        "accuracy = sum(test_y.cpu().data.numpy() == result.cpu().numpy()) / len(test_y.cpu().data.numpy())\n",
        "print(\"[batch size 10, epoch 50]\")\n",
        "print(\"===Pytorch Multi-Layer Perceptron accuracy===\")\n",
        "print(accuracy)"
      ],
      "execution_count": null,
      "outputs": [
        {
          "output_type": "stream",
          "name": "stdout",
          "text": [
            "[batch size 10, epoch 50]\n",
            "===Pytorch Multi-Layer Perceptron accuracy===\n",
            "0.0985\n"
          ]
        },
        {
          "output_type": "stream",
          "name": "stderr",
          "text": [
            "/usr/local/lib/python3.7/dist-packages/ipykernel_launcher.py:20: UserWarning: Implicit dimension choice for log_softmax has been deprecated. Change the call to include dim=X as an argument.\n"
          ]
        }
      ]
    },
    {
      "cell_type": "code",
      "metadata": {
        "colab": {
          "base_uri": "https://localhost:8080/",
          "height": 281
        },
        "id": "mFo0Au97Vpjv",
        "outputId": "e71b298f-8d46-44b3-a824-31d07b7ef4d4"
      },
      "source": [
        "losses.sort()\n",
        "#plot\n",
        "import matplotlib.pyplot as plt\n",
        "\n",
        "plt.plot(losses, color = \"coral\")\n",
        "plt.title(\"epoch 50, batch size 10 - MLP loss plot\")\n",
        "plt.show()"
      ],
      "execution_count": null,
      "outputs": [
        {
          "output_type": "display_data",
          "data": {
            "image/png": "[encoded data removed]",
            "text/plain": [
              "<Figure size 432x288 with 1 Axes>"
            ]
          },
          "metadata": {
            "needs_background": "light"
          }
        }
      ]
    },
    {
      "cell_type": "code",
      "metadata": {
        "colab": {
          "base_uri": "https://localhost:8080/"
        },
        "id": "M104RBlbTJgC",
        "outputId": "bc825655-dde8-4548-d98b-22772d9af542"
      },
      "source": [
        "losses = []\n",
        "for epoch in range(100): # epoch 100, batch size 10\n",
        "  total_loss = 0 #batch loss \n",
        "  \n",
        "  for train_x, train_y in train_loader:\n",
        "    train_x, train_y = Variable(train_x), Variable(train_y)\n",
        "    optimizer.zero_grad()\n",
        "    output = model(train_x)\n",
        "\n",
        "    loss = criterion(output, train_y)\n",
        "    loss.backward()\n",
        "    # loss\n",
        "    optimizer.step()\n",
        "    total_loss += loss.data.item()\n",
        "    losses.append(total_loss/len(train_loader))"
      ],
      "execution_count": null,
      "outputs": [
        {
          "output_type": "stream",
          "name": "stderr",
          "text": [
            "/usr/local/lib/python3.7/dist-packages/ipykernel_launcher.py:20: UserWarning: Implicit dimension choice for log_softmax has been deprecated. Change the call to include dim=X as an argument.\n"
          ]
        }
      ]
    },
    {
      "cell_type": "code",
      "metadata": {
        "colab": {
          "base_uri": "https://localhost:8080/"
        },
        "id": "vN9qYO0GTu_z",
        "outputId": "09b6da90-dba2-43cf-8887-42551c7bb353"
      },
      "source": [
        "if (epoch +1) % 10 == 0:\n",
        "  print(epoch+1, total_loss)"
      ],
      "execution_count": null,
      "outputs": [
        {
          "output_type": "stream",
          "name": "stdout",
          "text": [
            "100 0.24859439331033428\n"
          ]
        }
      ]
    },
    {
      "cell_type": "code",
      "metadata": {
        "colab": {
          "base_uri": "https://localhost:8080/"
        },
        "id": "efU7XFwgV-CW",
        "outputId": "d5bf61d4-13be-44c9-94de-28526f6060be"
      },
      "source": [
        "test_x, test_y = Variable(test_X), Variable(test_Y)\n",
        "result = torch.max(model(test_x).data, 1)[1]\n",
        "accuracy = sum(test_y.cpu().data.numpy() == result.cpu().numpy()) / len(test_y.cpu().data.numpy())\n",
        "print(\"[batch size 10, epoch 100]\")\n",
        "print(\"===Pytorch Multi-Layer Perceptron accuracy===\")\n",
        "print(accuracy)"
      ],
      "execution_count": null,
      "outputs": [
        {
          "output_type": "stream",
          "name": "stdout",
          "text": [
            "batch size 10, epoch 100\n",
            "===Pytorch Multi-Layer Perceptron accuracy===\n",
            "0.9813\n"
          ]
        },
        {
          "output_type": "stream",
          "name": "stderr",
          "text": [
            "/usr/local/lib/python3.7/dist-packages/ipykernel_launcher.py:20: UserWarning: Implicit dimension choice for log_softmax has been deprecated. Change the call to include dim=X as an argument.\n"
          ]
        }
      ]
    },
    {
      "cell_type": "code",
      "metadata": {
        "colab": {
          "base_uri": "https://localhost:8080/",
          "height": 281
        },
        "id": "4skN1gB_WA00",
        "outputId": "ca4b5d0d-58cb-48aa-e40a-a953dc7e2e9f"
      },
      "source": [
        "losses.sort()\n",
        "#plot \n",
        "import matplotlib.pyplot as plt\n",
        "\n",
        "plt.plot(losses, color = \"greenyellow\")\n",
        "plt.title(\"epoch 100, batch size 10 - MLP loss plot\")\n",
        "plt.show()"
      ],
      "execution_count": null,
      "outputs": [
        {
          "output_type": "display_data",
          "data": {
            "image/png": "[encoded data removed]",
            "text/plain": [
              "<Figure size 432x288 with 1 Axes>"
            ]
          },
          "metadata": {
            "needs_background": "light"
          }
        }
      ]
    },
    {
      "cell_type": "code",
      "metadata": {
        "colab": {
          "base_uri": "https://localhost:8080/"
        },
        "id": "MEQvI_1HWtHd",
        "outputId": "dd9fe4f0-26aa-4da8-8093-cf4c591cbff0"
      },
      "source": [
        "# loss list\n",
        "losses = []\n",
        "for epoch in range(200): # epoch 200, batch size 10\n",
        "  total_loss = 0 #batch loss \n",
        "  \n",
        "  for train_x, train_y in train_loader:\n",
        "    train_x, train_y = Variable(train_x), Variable(train_y)\n",
        "    optimizer.zero_grad()\n",
        "    output = model(train_x)\n",
        "\n",
        "    loss = criterion(output, train_y)\n",
        "    loss.backward()\n",
        "                     \n",
        "    optimizer.step()\n",
        "    total_loss += loss.data.item()\n",
        "    losses.append(total_loss/len(train_loader))"
      ],
      "execution_count": null,
      "outputs": [
        {
          "output_type": "stream",
          "name": "stderr",
          "text": [
            "/usr/local/lib/python3.7/dist-packages/ipykernel_launcher.py:20: UserWarning: Implicit dimension choice for log_softmax has been deprecated. Change the call to include dim=X as an argument.\n"
          ]
        }
      ]
    },
    {
      "cell_type": "code",
      "metadata": {
        "colab": {
          "base_uri": "https://localhost:8080/"
        },
        "id": "nwlAq1eSOa5W",
        "outputId": "a5643a69-8149-46d1-b2d1-dedf18cdc3c5"
      },
      "source": [
        "if (epoch +1) % 10 == 0:\n",
        "  print(epoch+1, total_loss)"
      ],
      "execution_count": null,
      "outputs": [
        {
          "output_type": "stream",
          "name": "stdout",
          "text": [
            "200 0.3698943561307555\n"
          ]
        }
      ]
    },
    {
      "cell_type": "code",
      "metadata": {
        "colab": {
          "base_uri": "https://localhost:8080/"
        },
        "id": "cAocHkHAOeR_",
        "outputId": "249f9d69-7e76-4962-cc66-a298622fc688"
      },
      "source": [
        "test_x, test_y = Variable(test_X), Variable(test_Y)\n",
        "result = torch.max(model(test_x).data, 1)[1]\n",
        "accuracy = sum(test_y.cpu().data.numpy() == result.cpu().numpy()) / len(test_y.cpu().data.numpy())\n",
        "print(\"batch size 10, epoch 200\")\n",
        "print(\"===Pytorch Multi-Layer Perceptron accuracy===\")\n",
        "print(accuracy)"
      ],
      "execution_count": null,
      "outputs": [
        {
          "output_type": "stream",
          "name": "stdout",
          "text": [
            "batch size 10, epoch 200\n",
            "===Pytorch Multi-Layer Perceptron accuracy===\n",
            "0.9793\n"
          ]
        },
        {
          "output_type": "stream",
          "name": "stderr",
          "text": [
            "/usr/local/lib/python3.7/dist-packages/ipykernel_launcher.py:20: UserWarning: Implicit dimension choice for log_softmax has been deprecated. Change the call to include dim=X as an argument.\n"
          ]
        }
      ]
    },
    {
      "cell_type": "code",
      "metadata": {
        "colab": {
          "base_uri": "https://localhost:8080/",
          "height": 294
        },
        "id": "su4-FyG-OgJK",
        "outputId": "1dcfdd02-5086-4e86-b003-b3d950bc2c77"
      },
      "source": [
        "losses.sort() # sorting plot making \n",
        "import matplotlib.pyplot as plt\n",
        "\n",
        "plt.plot(losses, color = \"crimson\")\n",
        "plt.title(\"epoch 200, batch size 10 - MLP loss plot\")\n",
        "plt.show()"
      ],
      "execution_count": null,
      "outputs": [
        {
          "output_type": "display_data",
          "data": {
            "image/png": "[encoded data removed]",
            "text/plain": [
              "<Figure size 432x288 with 1 Axes>"
            ]
          },
          "metadata": {
            "needs_background": "light"
          }
        }
      ]
    },
    {
      "cell_type": "code",
      "metadata": {
        "colab": {
          "base_uri": "https://localhost:8080/"
        },
        "id": "PM0smb5JOsBh",
        "outputId": "13add189-41f0-4880-d626-ba51ed69701b"
      },
      "source": [
        "# loss list appen\n",
        "losses = []\n",
        "for epoch in range(500): # epoch 500, batch size 10\n",
        "  total_loss = 0 #batch loss \n",
        "  \n",
        "  for train_x, train_y in train_loader:\n",
        "    train_x, train_y = Variable(train_x), Variable(train_y)\n",
        "    optimizer.zero_grad()\n",
        "    output = model(train_x)\n",
        "\n",
        "    loss = criterion(output, train_y)\n",
        "    loss.backward()\n",
        "    # loss\n",
        "    optimizer.step()\n",
        "    total_loss += loss.data.item()\n",
        "    losses.append(total_loss)"
      ],
      "execution_count": null,
      "outputs": [
        {
          "name": "stderr",
          "output_type": "stream",
          "text": [
            "/usr/local/lib/python3.7/dist-packages/ipykernel_launcher.py:20: UserWarning: Implicit dimension choice for log_softmax has been deprecated. Change the call to include dim=X as an argument.\n"
          ]
        }
      ]
    },
    {
      "cell_type": "code",
      "metadata": {
        "colab": {
          "base_uri": "https://localhost:8080/"
        },
        "id": "1FzfLOmpTXqA",
        "outputId": "68860e3e-0e8e-4a5a-ff6f-5c08dc894431"
      },
      "source": [
        "if (epoch +1) % 10 == 0:\n",
        "  print(epoch+1, total_loss)"
      ],
      "execution_count": null,
      "outputs": [
        {
          "name": "stdout",
          "output_type": "stream",
          "text": [
            "500 0.05112351864296549\n"
          ]
        }
      ]
    },
    {
      "cell_type": "code",
      "metadata": {
        "colab": {
          "base_uri": "https://localhost:8080/"
        },
        "id": "vJ1LUNdCeH4j",
        "outputId": "3fce68da-75b7-4479-9163-8733189062a0"
      },
      "source": [
        "test_x, test_y = Variable(test_X), Variable(test_Y)\n",
        "result = torch.max(model(test_x).data, 1)[1]\n",
        "accuracy = sum(test_y.cpu().data.numpy() == result.cpu().numpy()) / len(test_y.cpu().data.numpy())\n",
        "print(\"batch size 10, epoch 500\")\n",
        "print(\"===Pytorch Multi-Layer Perceptron accuracy===\")\n",
        "print(accuracy)"
      ],
      "execution_count": null,
      "outputs": [
        {
          "name": "stdout",
          "output_type": "stream",
          "text": [
            "batch size 10, epoch 500\n",
            "===Pytorch Multi-Layer Perceptron accuracy===\n",
            "0.9814\n"
          ]
        },
        {
          "name": "stderr",
          "output_type": "stream",
          "text": [
            "/usr/local/lib/python3.7/dist-packages/ipykernel_launcher.py:20: UserWarning: Implicit dimension choice for log_softmax has been deprecated. Change the call to include dim=X as an argument.\n"
          ]
        }
      ]
    },
    {
      "cell_type": "code",
      "metadata": {
        "colab": {
          "base_uri": "https://localhost:8080/",
          "height": 294
        },
        "id": "q2K8pvMqeNTc",
        "outputId": "f9093f25-c889-485c-d796-df618f6890a9"
      },
      "source": [
        "losses.sort() # sorting plot making \n",
        "import matplotlib.pyplot as plt\n",
        "\n",
        "plt.plot(losses, color = \"mediumslateblue\")\n",
        "plt.title(\"epoch 500, batch size 10 - MLP loss plot\")\n",
        "plt.show()"
      ],
      "execution_count": null,
      "outputs": [
        {
          "data": {
            "image/png": "[encoded data removed]",
            "text/plain": [
              "<Figure size 432x288 with 1 Axes>"
            ]
          },
          "metadata": {},
          "output_type": "display_data"
        }
      ]
    },
    {
      "cell_type": "code",
      "metadata": {
        "id": "vMk-R6E-oJKC"
      },
      "source": [
        ""
      ],
      "execution_count": null,
      "outputs": []
    }
  ]
}